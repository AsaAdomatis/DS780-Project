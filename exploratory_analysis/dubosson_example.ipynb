{
 "cells": [
  {
   "cell_type": "markdown",
   "metadata": {},
   "source": [
    "### Loading libraries"
   ]
  },
  {
   "cell_type": "code",
   "execution_count": 1,
   "metadata": {},
   "outputs": [],
   "source": [
    "import sys\n",
    "import os\n",
    "sys.path.insert(1, '..')\n",
    "os.chdir('..')\n",
    "\n",
    "from data_formatters.dubosson2018 import *\n",
    "from dataset.ts_dataset import TSDataset\n",
    "from conf.conf import Conf"
   ]
  },
  {
   "cell_type": "markdown",
   "metadata": {},
   "source": [
    "### Code walk-through\n",
    "\n",
    "The major parts of the code that need to be defined for each data set are:\n",
    "1. config file in `.yaml` format,\n",
    "2. data formatter script.\n",
    "\n",
    "For now, you can study the `electricity.yaml` example for a look of what a config file should feel like. You can skip the hyperparam defintions and the model parameters. The main focus would be on defining the dataset parameters. \n",
    "\n",
    "We do not intereact with `.yaml` in a direct way but instead though `Conf` class, which handles the following:\n",
    "1. defines some defaults if not specified in `.yaml`,\n",
    "2. sets save paths,\n",
    "3. allows for nice colored printing.\n",
    "\n",
    "Technically, we could doo all of this in the `.yaml` file directly. However, then every time we re-run the experiment, we would have to manually modify the `.yaml` file to reset save paths and redefine some variables, which would be inconvenient.  \n"
   ]
  },
  {
   "cell_type": "code",
   "execution_count": 2,
   "metadata": {},
   "outputs": [],
   "source": [
    "# loading the config file, setting the experiment name, and the seed for random pre-processing parts (like splitting)\n",
    "cnf = Conf(conf_file_path='./conf/dubosson.yaml', seed=15, exp_name=\"Dubosson\", log=False)"
   ]
  },
  {
   "cell_type": "code",
   "execution_count": 3,
   "metadata": {},
   "outputs": [
    {
     "name": "stdout",
     "output_type": "stream",
     "text": [
      "\n",
      "Default configuration parameters: \n",
      "\u001b[34mLR\u001b[0m\u001b[31m: \u001b[0m\u001b[35m0.001\u001b[0m\n",
      "\u001b[34mEPOCHS\u001b[0m\u001b[31m: \u001b[0m\u001b[35m20\u001b[0m\n",
      "\u001b[34mN_WORKERS\u001b[0m\u001b[31m: \u001b[0m\u001b[35m0\u001b[0m\n",
      "\u001b[34mBATCH_SIZE\u001b[0m\u001b[31m: \u001b[0m\u001b[35m64\u001b[0m\n",
      "\u001b[34mQUANTILES\u001b[0m\u001b[31m: \u001b[0m\u001b[35m[0.1, 0.5, 0.9]\u001b[0m\n",
      "\u001b[34mDS_NAME\u001b[0m\u001b[31m: \u001b[0m\u001b[33mdubosson2018\u001b[0m\n",
      "\u001b[34mALL_PARAMS\u001b[0m\u001b[31m: \u001b[0m\u001b[35m{'ds_name': 'dubosson2018', 'data_csv_path': './raw_data/Dubosson2018_processed.csv', 'index_col': -1, 'total_time_steps': 192, 'num_encoder_steps': 168, 'max_samples': 5000, 'batch_size': 64, 'device': 'cuda', 'lr': 0.001, 'num_epochs': 20, 'n_workers': 0, 'model': 'transformer', 'loader': 'base', 'quantiles': [0.1, 0.5, 0.9], 'batch_first': True, 'early_stopping_patience': 5, 'hidden_layer_size': 160, 'stack_size': 1, 'dropout_rate': 0.1, 'max_gradient_norm': 0.01, 'num_heads': 4, 'd_model': 64, 'q': 16, 'v': 16, 'h': 4, 'N': 2, 'attention_size': 0, 'dropout': 0.1, 'pe': 'original', 'chunk_mode': 'None', 'd_input': 5, 'd_output': 3}\u001b[0m\n",
      "\u001b[34mEXP_LOG_PATH\u001b[0m\u001b[31m: \u001b[0m\u001b[33m./log\\transformer\\Dubosson\\10/07/2022.10:26:55\u001b[0m\n",
      "\u001b[34mDEVICE\u001b[0m\u001b[31m: \u001b[0m\u001b[33mcpu\u001b[0m\n"
     ]
    }
   ],
   "source": [
    "# lets print out the config file\n",
    "print(f'\\nDefault configuration parameters: \\n{cnf}')"
   ]
  },
  {
   "cell_type": "markdown",
   "metadata": {},
   "source": [
    "Now let's move on to the data formatter. This is the part that should handle:\n",
    "1. loading the data and setting types,\n",
    "2. splitting the data into train / val / test sets,\n",
    "3. setting scalers and encoders for numerical / categorical variables resp.\n",
    "\n",
    "We are going to leave parts 2-3 for the future exploration. Now, let's focus on loading and settting the types for the data. "
   ]
  },
  {
   "cell_type": "code",
   "execution_count": 4,
   "metadata": {},
   "outputs": [],
   "source": [
    "# call the data fromatter directly\n",
    "data_formatter = DubossonFormatter()"
   ]
  },
  {
   "cell_type": "markdown",
   "metadata": {},
   "source": [
    "Finally, let's work with the `TSDataset` class. This is the main part of the code as it aligns all of our previous steps. In the end, it is the `TSDataset` that is going to call the splitters, scalers, and encoders. **Importatnly** the model is only going to interact with the data through this class. "
   ]
  },
  {
   "cell_type": "code",
   "execution_count": 5,
   "metadata": {},
   "outputs": [
    {
     "name": "stderr",
     "output_type": "stream",
     "text": [
      "d:\\GluNet\\data_formatters\\utils.py:219: FutureWarning: The default value of numeric_only in DataFrameGroupBy.mean is deprecated. In a future version, numeric_only will default to False. Either specify numeric_only or select only columns which should be valid for the function.\n",
      "  segment = segment.resample('T').mean()\n",
      "d:\\GluNet\\data_formatters\\utils.py:219: FutureWarning: The default value of numeric_only in DataFrameGroupBy.mean is deprecated. In a future version, numeric_only will default to False. Either specify numeric_only or select only columns which should be valid for the function.\n",
      "  segment = segment.resample('T').mean()\n",
      "d:\\GluNet\\data_formatters\\utils.py:237: FutureWarning: The frame.append method is deprecated and will be removed from pandas in a future version. Use pandas.concat instead.\n",
      "  dfsubject = dfsubject.append(df1)\n",
      "d:\\GluNet\\data_formatters\\utils.py:219: FutureWarning: The default value of numeric_only in DataFrameGroupBy.mean is deprecated. In a future version, numeric_only will default to False. Either specify numeric_only or select only columns which should be valid for the function.\n",
      "  segment = segment.resample('T').mean()\n",
      "d:\\GluNet\\data_formatters\\utils.py:237: FutureWarning: The frame.append method is deprecated and will be removed from pandas in a future version. Use pandas.concat instead.\n",
      "  dfsubject = dfsubject.append(df1)\n",
      "d:\\GluNet\\data_formatters\\utils.py:219: FutureWarning: The default value of numeric_only in DataFrameGroupBy.mean is deprecated. In a future version, numeric_only will default to False. Either specify numeric_only or select only columns which should be valid for the function.\n",
      "  segment = segment.resample('T').mean()\n",
      "d:\\GluNet\\data_formatters\\utils.py:237: FutureWarning: The frame.append method is deprecated and will be removed from pandas in a future version. Use pandas.concat instead.\n",
      "  dfsubject = dfsubject.append(df1)\n",
      "d:\\GluNet\\data_formatters\\utils.py:219: FutureWarning: The default value of numeric_only in DataFrameGroupBy.mean is deprecated. In a future version, numeric_only will default to False. Either specify numeric_only or select only columns which should be valid for the function.\n",
      "  segment = segment.resample('T').mean()\n",
      "d:\\GluNet\\data_formatters\\utils.py:237: FutureWarning: The frame.append method is deprecated and will be removed from pandas in a future version. Use pandas.concat instead.\n",
      "  dfsubject = dfsubject.append(df1)\n",
      "d:\\GluNet\\data_formatters\\utils.py:219: FutureWarning: The default value of numeric_only in DataFrameGroupBy.mean is deprecated. In a future version, numeric_only will default to False. Either specify numeric_only or select only columns which should be valid for the function.\n",
      "  segment = segment.resample('T').mean()\n",
      "d:\\GluNet\\data_formatters\\utils.py:237: FutureWarning: The frame.append method is deprecated and will be removed from pandas in a future version. Use pandas.concat instead.\n",
      "  dfsubject = dfsubject.append(df1)\n",
      "d:\\GluNet\\data_formatters\\utils.py:219: FutureWarning: The default value of numeric_only in DataFrameGroupBy.mean is deprecated. In a future version, numeric_only will default to False. Either specify numeric_only or select only columns which should be valid for the function.\n",
      "  segment = segment.resample('T').mean()\n",
      "d:\\GluNet\\data_formatters\\utils.py:219: FutureWarning: The default value of numeric_only in DataFrameGroupBy.mean is deprecated. In a future version, numeric_only will default to False. Either specify numeric_only or select only columns which should be valid for the function.\n",
      "  segment = segment.resample('T').mean()\n",
      "d:\\GluNet\\data_formatters\\utils.py:232: FutureWarning: The frame.append method is deprecated and will be removed from pandas in a future version. Use pandas.concat instead.\n",
      "  df1 = df1.append(segment)\n",
      "d:\\GluNet\\data_formatters\\utils.py:237: FutureWarning: The frame.append method is deprecated and will be removed from pandas in a future version. Use pandas.concat instead.\n",
      "  dfsubject = dfsubject.append(df1)\n",
      "d:\\GluNet\\data_formatters\\utils.py:219: FutureWarning: The default value of numeric_only in DataFrameGroupBy.mean is deprecated. In a future version, numeric_only will default to False. Either specify numeric_only or select only columns which should be valid for the function.\n",
      "  segment = segment.resample('T').mean()\n",
      "d:\\GluNet\\data_formatters\\utils.py:237: FutureWarning: The frame.append method is deprecated and will be removed from pandas in a future version. Use pandas.concat instead.\n",
      "  dfsubject = dfsubject.append(df1)\n"
     ]
    },
    {
     "name": "stdout",
     "output_type": "stream",
     "text": [
      "Getting valid sampling locations.\n",
      "# available segments=6228\n",
      "Extracting 5000 samples out of 6228\n",
      "1000 of 5000 samples done...\n",
      "2000 of 5000 samples done...\n",
      "3000 of 5000 samples done...\n",
      "4000 of 5000 samples done...\n",
      "5000 of 5000 samples done...\n"
     ]
    }
   ],
   "source": [
    "# we are going to pass our data formatter and the config file to the TSDataset class\n",
    "dataset = TSDataset(cnf, data_formatter)"
   ]
  },
  {
   "cell_type": "code",
   "execution_count": 6,
   "metadata": {},
   "outputs": [
    {
     "name": "stdout",
     "output_type": "stream",
     "text": [
      "Example #0: x.shape=(192, 2), y.shape=(192, 1)\n",
      "Example #1: x.shape=(192, 2), y.shape=(192, 1)\n",
      "Example #2: x.shape=(192, 2), y.shape=(192, 1)\n",
      "Example #3: x.shape=(192, 2), y.shape=(192, 1)\n",
      "Example #4: x.shape=(192, 2), y.shape=(192, 1)\n",
      "Example #5: x.shape=(192, 2), y.shape=(192, 1)\n",
      "Example #6: x.shape=(192, 2), y.shape=(192, 1)\n",
      "Example #7: x.shape=(192, 2), y.shape=(192, 1)\n",
      "Example #8: x.shape=(192, 2), y.shape=(192, 1)\n",
      "Example #9: x.shape=(192, 2), y.shape=(192, 1)\n"
     ]
    }
   ],
   "source": [
    "# now let's see how we can sample minibatches from our dataset that we can then pass to the model to train on\n",
    "for i in range(10):\n",
    "    # 192 x ['power_usage', 'hour', 'day_of_week', 'hours_from_start', 'categorical_id']\n",
    "    x = dataset[i]['inputs']\n",
    "    # 24 x ['power_usage']\n",
    "    y = dataset[i]['outputs']\n",
    "    print(f'Example #{i}: x.shape={x.shape}, y.shape={y.shape}')"
   ]
  },
  {
   "cell_type": "code",
   "execution_count": 7,
   "metadata": {},
   "outputs": [
    {
     "data": {
      "text/html": [
       "<div>\n",
       "<style scoped>\n",
       "    .dataframe tbody tr th:only-of-type {\n",
       "        vertical-align: middle;\n",
       "    }\n",
       "\n",
       "    .dataframe tbody tr th {\n",
       "        vertical-align: top;\n",
       "    }\n",
       "\n",
       "    .dataframe thead th {\n",
       "        text-align: right;\n",
       "    }\n",
       "</style>\n",
       "<table border=\"1\" class=\"dataframe\">\n",
       "  <thead>\n",
       "    <tr style=\"text-align: right;\">\n",
       "      <th></th>\n",
       "      <th>id</th>\n",
       "      <th>segment</th>\n",
       "      <th>time</th>\n",
       "      <th>gl</th>\n",
       "      <th>segment_id</th>\n",
       "    </tr>\n",
       "  </thead>\n",
       "  <tbody>\n",
       "    <tr>\n",
       "      <th>5810</th>\n",
       "      <td>7</td>\n",
       "      <td>1</td>\n",
       "      <td>2014-10-01 11:45:00</td>\n",
       "      <td>NaN</td>\n",
       "      <td>7_1</td>\n",
       "    </tr>\n",
       "    <tr>\n",
       "      <th>5811</th>\n",
       "      <td>7</td>\n",
       "      <td>1</td>\n",
       "      <td>2014-10-01 11:50:00</td>\n",
       "      <td>69.12</td>\n",
       "      <td>7_1</td>\n",
       "    </tr>\n",
       "    <tr>\n",
       "      <th>5812</th>\n",
       "      <td>7</td>\n",
       "      <td>1</td>\n",
       "      <td>2014-10-01 11:55:00</td>\n",
       "      <td>72.72</td>\n",
       "      <td>7_1</td>\n",
       "    </tr>\n",
       "    <tr>\n",
       "      <th>5813</th>\n",
       "      <td>7</td>\n",
       "      <td>1</td>\n",
       "      <td>2014-10-01 12:00:00</td>\n",
       "      <td>76.68</td>\n",
       "      <td>7_1</td>\n",
       "    </tr>\n",
       "    <tr>\n",
       "      <th>5814</th>\n",
       "      <td>7</td>\n",
       "      <td>1</td>\n",
       "      <td>2014-10-01 12:05:00</td>\n",
       "      <td>82.44</td>\n",
       "      <td>7_1</td>\n",
       "    </tr>\n",
       "    <tr>\n",
       "      <th>...</th>\n",
       "      <td>...</td>\n",
       "      <td>...</td>\n",
       "      <td>...</td>\n",
       "      <td>...</td>\n",
       "      <td>...</td>\n",
       "    </tr>\n",
       "    <tr>\n",
       "      <th>6794</th>\n",
       "      <td>7</td>\n",
       "      <td>2</td>\n",
       "      <td>2014-10-05 03:20:00</td>\n",
       "      <td>199.80</td>\n",
       "      <td>7_2</td>\n",
       "    </tr>\n",
       "    <tr>\n",
       "      <th>6795</th>\n",
       "      <td>7</td>\n",
       "      <td>2</td>\n",
       "      <td>2014-10-05 03:25:00</td>\n",
       "      <td>198.00</td>\n",
       "      <td>7_2</td>\n",
       "    </tr>\n",
       "    <tr>\n",
       "      <th>6796</th>\n",
       "      <td>7</td>\n",
       "      <td>2</td>\n",
       "      <td>2014-10-05 03:30:00</td>\n",
       "      <td>196.20</td>\n",
       "      <td>7_2</td>\n",
       "    </tr>\n",
       "    <tr>\n",
       "      <th>6797</th>\n",
       "      <td>7</td>\n",
       "      <td>2</td>\n",
       "      <td>2014-10-05 03:35:00</td>\n",
       "      <td>194.40</td>\n",
       "      <td>7_2</td>\n",
       "    </tr>\n",
       "    <tr>\n",
       "      <th>6798</th>\n",
       "      <td>7</td>\n",
       "      <td>2</td>\n",
       "      <td>2014-10-05 03:40:00</td>\n",
       "      <td>194.40</td>\n",
       "      <td>7_2</td>\n",
       "    </tr>\n",
       "  </tbody>\n",
       "</table>\n",
       "<p>989 rows × 5 columns</p>\n",
       "</div>"
      ],
      "text/plain": [
       "      id  segment                time      gl segment_id\n",
       "5810   7        1 2014-10-01 11:45:00     NaN        7_1\n",
       "5811   7        1 2014-10-01 11:50:00   69.12        7_1\n",
       "5812   7        1 2014-10-01 11:55:00   72.72        7_1\n",
       "5813   7        1 2014-10-01 12:00:00   76.68        7_1\n",
       "5814   7        1 2014-10-01 12:05:00   82.44        7_1\n",
       "...   ..      ...                 ...     ...        ...\n",
       "6794   7        2 2014-10-05 03:20:00  199.80        7_2\n",
       "6795   7        2 2014-10-05 03:25:00  198.00        7_2\n",
       "6796   7        2 2014-10-05 03:30:00  196.20        7_2\n",
       "6797   7        2 2014-10-05 03:35:00  194.40        7_2\n",
       "6798   7        2 2014-10-05 03:40:00  194.40        7_2\n",
       "\n",
       "[989 rows x 5 columns]"
      ]
     },
     "execution_count": 7,
     "metadata": {},
     "output_type": "execute_result"
    }
   ],
   "source": [
    "df = dataset.data\n",
    "df[df.id == 7]"
   ]
  },
  {
   "cell_type": "code",
   "execution_count": 8,
   "metadata": {},
   "outputs": [],
   "source": [
    "### Construct list of segment indices by subject ###\n",
    "\n",
    "L = dict()\n",
    "segment = []\n",
    "for i in range(len(df)):\n",
    "    # get row information\n",
    "    row = df.iloc[i]\n",
    "    prev_row = df.iloc[0] if i == 0 else df.iloc[i-1]\n",
    "    \n",
    "    # check for change in subject or segment\n",
    "    if row.id != prev_row.id or row.segment != prev_row.segment:\n",
    "        if prev_row.id not in L:\n",
    "            L[prev_row.id] = [segment]\n",
    "        else:\n",
    "            L[prev_row.id].append(segment)\n",
    "        segment = []\n",
    "    \n",
    "    segment.append(i)\n",
    "    \n",
    "    # edge case: once at end of data, need to append final segment\n",
    "    if i == len(df)-1:\n",
    "        if prev_row.id not in L:\n",
    "            L[prev_row.id] = [segment]\n",
    "        else:\n",
    "            L[prev_row.id].append(segment)\n",
    "\n",
    "# Access subject segment indices using L[1][0] for subject 1 segment 1..., L[7][1] for subject 7 segment 2..."
   ]
  },
  {
   "cell_type": "code",
   "execution_count": 9,
   "metadata": {},
   "outputs": [
    {
     "name": "stdout",
     "output_type": "stream",
     "text": [
      "Segments per Subject\n",
      "Subject 1: 1\n",
      "Subject 2: 1\n",
      "Subject 3: 1\n",
      "Subject 4: 1\n",
      "Subject 5: 1\n",
      "Subject 6: 1\n",
      "Subject 7: 2\n",
      "Subject 8: 1\n",
      "\n",
      "Points per Segment\n",
      "Subject 1 (Segment 1): 1413\n",
      "Subject 2 (Segment 1): 1056\n",
      "Subject 3 (Segment 1): 183\n",
      "Subject 4 (Segment 1): 969\n",
      "Subject 5 (Segment 1): 909\n",
      "Subject 6 (Segment 1): 1280\n",
      "Subject 7 (Segment 1): 612\n",
      "Subject 7 (Segment 2): 377\n",
      "Subject 8 (Segment 1): 1140\n"
     ]
    }
   ],
   "source": [
    "### Count number of segments ###\n",
    "print(\"Segments per Subject\")\n",
    "for subject in L:\n",
    "    num_segments = len(L[subject])\n",
    "    print(f\"Subject {subject}: {num_segments}\")\n",
    "    \n",
    "print()\n",
    "    \n",
    "print(\"Points per Segment\")\n",
    "for subject in L:\n",
    "    for i in range(len(L[subject])):\n",
    "        total_pts = len(L[subject][i])\n",
    "        print(f\"Subject {subject} (Segment {i+1}): {total_pts}\")"
   ]
  },
  {
   "cell_type": "code",
   "execution_count": 10,
   "metadata": {},
   "outputs": [],
   "source": [
    "### Split Function ###\n",
    "# length segments: 12 hours of observation at 5 minutes frequency\n",
    "# 12 * 60 = 720 minutes\n",
    "# 720 / 5 = 144 5 minute intervals = 144 points\n",
    "_split_params = {\n",
    "  'test_percent_subjects': 0.1,\n",
    "  'test_length_segment': 144,\n",
    "  'val_length_segment': 144,\n",
    "  'min_drop_length': 144\n",
    "}\n",
    "\n",
    "# Get size of test set\n",
    "test_set = []\n",
    "number_of_subject = len(L)\n",
    "test_count = int(number_of_subject * _split_params['test_percent_subjects'])\n",
    "\n",
    "# add test set data\n",
    "for i in range(test_count):\n",
    "    subjects = list(L.keys())\n",
    "    curr_subject = L[subjects[i]]\n",
    "    for segment in curr_subject:\n",
    "        for idx in segment:\n",
    "            test_set.append(idx)\n",
    "\n",
    "# remove test set from L\n",
    "subjects = list(L.keys())\n",
    "for i in range(test_count):\n",
    "    del L[subjects[i]]"
   ]
  },
  {
   "cell_type": "code",
   "execution_count": 11,
   "metadata": {},
   "outputs": [],
   "source": [
    "train_set = []\n",
    "validation = []\n",
    "\n",
    "# iterate through L\n",
    "# check that segment has length >= min_drop_length + val_length_segment + test_length_segment\n",
    "for subject in L:\n",
    "    for segment in L[subject]:\n",
    "        if len(segment) >= _split_params['min_drop_length'] + _split_params['val_length_segment'] + _split_params['test_length_segment']:\n",
    "            train_set.append(segment[:(-(_split_params['val_length_segment'] + _split_params['test_length_segment']))])\n",
    "            validation.append(segment[-(_split_params['val_length_segment'] + _split_params['test_length_segment']):-_split_params['test_length_segment']])\n",
    "            test_set.append(segment[-_split_params['test_length_segment']:])\n",
    "        else:\n",
    "            train_set.append(segment)"
   ]
  },
  {
   "cell_type": "code",
   "execution_count": 12,
   "metadata": {},
   "outputs": [],
   "source": [
    "# Flatten sets\n",
    "def flatten(l):\n",
    "    return [item for sublist in l for item in sublist]\n",
    "\n",
    "train_set = flatten(train_set)\n",
    "validation = flatten(validation)\n",
    "\n",
    "# Add to dictionary for access\n",
    "datasets = {'test': test_set, 'train': train_set, 'validation': validation}"
   ]
  },
  {
   "cell_type": "code",
   "execution_count": 14,
   "metadata": {},
   "outputs": [
    {
     "name": "stdout",
     "output_type": "stream",
     "text": [
      "[[1269, 1270, 1271, 1272, 1273, 1274, 1275, 1276, 1277, 1278, 1279, 1280, 1281, 1282, 1283, 1284, 1285, 1286, 1287, 1288, 1289, 1290, 1291, 1292, 1293, 1294, 1295, 1296, 1297, 1298, 1299, 1300, 1301, 1302, 1303, 1304, 1305, 1306, 1307, 1308, 1309, 1310, 1311, 1312, 1313, 1314, 1315, 1316, 1317, 1318, 1319, 1320, 1321, 1322, 1323, 1324, 1325, 1326, 1327, 1328, 1329, 1330, 1331, 1332, 1333, 1334, 1335, 1336, 1337, 1338, 1339, 1340, 1341, 1342, 1343, 1344, 1345, 1346, 1347, 1348, 1349, 1350, 1351, 1352, 1353, 1354, 1355, 1356, 1357, 1358, 1359, 1360, 1361, 1362, 1363, 1364, 1365, 1366, 1367, 1368, 1369, 1370, 1371, 1372, 1373, 1374, 1375, 1376, 1377, 1378, 1379, 1380, 1381, 1382, 1383, 1384, 1385, 1386, 1387, 1388, 1389, 1390, 1391, 1392, 1393, 1394, 1395, 1396, 1397, 1398, 1399, 1400, 1401, 1402, 1403, 1404, 1405, 1406, 1407, 1408, 1409, 1410, 1411, 1412], [2325, 2326, 2327, 2328, 2329, 2330, 2331, 2332, 2333, 2334, 2335, 2336, 2337, 2338, 2339, 2340, 2341, 2342, 2343, 2344, 2345, 2346, 2347, 2348, 2349, 2350, 2351, 2352, 2353, 2354, 2355, 2356, 2357, 2358, 2359, 2360, 2361, 2362, 2363, 2364, 2365, 2366, 2367, 2368, 2369, 2370, 2371, 2372, 2373, 2374, 2375, 2376, 2377, 2378, 2379, 2380, 2381, 2382, 2383, 2384, 2385, 2386, 2387, 2388, 2389, 2390, 2391, 2392, 2393, 2394, 2395, 2396, 2397, 2398, 2399, 2400, 2401, 2402, 2403, 2404, 2405, 2406, 2407, 2408, 2409, 2410, 2411, 2412, 2413, 2414, 2415, 2416, 2417, 2418, 2419, 2420, 2421, 2422, 2423, 2424, 2425, 2426, 2427, 2428, 2429, 2430, 2431, 2432, 2433, 2434, 2435, 2436, 2437, 2438, 2439, 2440, 2441, 2442, 2443, 2444, 2445, 2446, 2447, 2448, 2449, 2450, 2451, 2452, 2453, 2454, 2455, 2456, 2457, 2458, 2459, 2460, 2461, 2462, 2463, 2464, 2465, 2466, 2467, 2468], [3477, 3478, 3479, 3480, 3481, 3482, 3483, 3484, 3485, 3486, 3487, 3488, 3489, 3490, 3491, 3492, 3493, 3494, 3495, 3496, 3497, 3498, 3499, 3500, 3501, 3502, 3503, 3504, 3505, 3506, 3507, 3508, 3509, 3510, 3511, 3512, 3513, 3514, 3515, 3516, 3517, 3518, 3519, 3520, 3521, 3522, 3523, 3524, 3525, 3526, 3527, 3528, 3529, 3530, 3531, 3532, 3533, 3534, 3535, 3536, 3537, 3538, 3539, 3540, 3541, 3542, 3543, 3544, 3545, 3546, 3547, 3548, 3549, 3550, 3551, 3552, 3553, 3554, 3555, 3556, 3557, 3558, 3559, 3560, 3561, 3562, 3563, 3564, 3565, 3566, 3567, 3568, 3569, 3570, 3571, 3572, 3573, 3574, 3575, 3576, 3577, 3578, 3579, 3580, 3581, 3582, 3583, 3584, 3585, 3586, 3587, 3588, 3589, 3590, 3591, 3592, 3593, 3594, 3595, 3596, 3597, 3598, 3599, 3600, 3601, 3602, 3603, 3604, 3605, 3606, 3607, 3608, 3609, 3610, 3611, 3612, 3613, 3614, 3615, 3616, 3617, 3618, 3619, 3620], [4386, 4387, 4388, 4389, 4390, 4391, 4392, 4393, 4394, 4395, 4396, 4397, 4398, 4399, 4400, 4401, 4402, 4403, 4404, 4405, 4406, 4407, 4408, 4409, 4410, 4411, 4412, 4413, 4414, 4415, 4416, 4417, 4418, 4419, 4420, 4421, 4422, 4423, 4424, 4425, 4426, 4427, 4428, 4429, 4430, 4431, 4432, 4433, 4434, 4435, 4436, 4437, 4438, 4439, 4440, 4441, 4442, 4443, 4444, 4445, 4446, 4447, 4448, 4449, 4450, 4451, 4452, 4453, 4454, 4455, 4456, 4457, 4458, 4459, 4460, 4461, 4462, 4463, 4464, 4465, 4466, 4467, 4468, 4469, 4470, 4471, 4472, 4473, 4474, 4475, 4476, 4477, 4478, 4479, 4480, 4481, 4482, 4483, 4484, 4485, 4486, 4487, 4488, 4489, 4490, 4491, 4492, 4493, 4494, 4495, 4496, 4497, 4498, 4499, 4500, 4501, 4502, 4503, 4504, 4505, 4506, 4507, 4508, 4509, 4510, 4511, 4512, 4513, 4514, 4515, 4516, 4517, 4518, 4519, 4520, 4521, 4522, 4523, 4524, 4525, 4526, 4527, 4528, 4529], [5666, 5667, 5668, 5669, 5670, 5671, 5672, 5673, 5674, 5675, 5676, 5677, 5678, 5679, 5680, 5681, 5682, 5683, 5684, 5685, 5686, 5687, 5688, 5689, 5690, 5691, 5692, 5693, 5694, 5695, 5696, 5697, 5698, 5699, 5700, 5701, 5702, 5703, 5704, 5705, 5706, 5707, 5708, 5709, 5710, 5711, 5712, 5713, 5714, 5715, 5716, 5717, 5718, 5719, 5720, 5721, 5722, 5723, 5724, 5725, 5726, 5727, 5728, 5729, 5730, 5731, 5732, 5733, 5734, 5735, 5736, 5737, 5738, 5739, 5740, 5741, 5742, 5743, 5744, 5745, 5746, 5747, 5748, 5749, 5750, 5751, 5752, 5753, 5754, 5755, 5756, 5757, 5758, 5759, 5760, 5761, 5762, 5763, 5764, 5765, 5766, 5767, 5768, 5769, 5770, 5771, 5772, 5773, 5774, 5775, 5776, 5777, 5778, 5779, 5780, 5781, 5782, 5783, 5784, 5785, 5786, 5787, 5788, 5789, 5790, 5791, 5792, 5793, 5794, 5795, 5796, 5797, 5798, 5799, 5800, 5801, 5802, 5803, 5804, 5805, 5806, 5807, 5808, 5809], [6278, 6279, 6280, 6281, 6282, 6283, 6284, 6285, 6286, 6287, 6288, 6289, 6290, 6291, 6292, 6293, 6294, 6295, 6296, 6297, 6298, 6299, 6300, 6301, 6302, 6303, 6304, 6305, 6306, 6307, 6308, 6309, 6310, 6311, 6312, 6313, 6314, 6315, 6316, 6317, 6318, 6319, 6320, 6321, 6322, 6323, 6324, 6325, 6326, 6327, 6328, 6329, 6330, 6331, 6332, 6333, 6334, 6335, 6336, 6337, 6338, 6339, 6340, 6341, 6342, 6343, 6344, 6345, 6346, 6347, 6348, 6349, 6350, 6351, 6352, 6353, 6354, 6355, 6356, 6357, 6358, 6359, 6360, 6361, 6362, 6363, 6364, 6365, 6366, 6367, 6368, 6369, 6370, 6371, 6372, 6373, 6374, 6375, 6376, 6377, 6378, 6379, 6380, 6381, 6382, 6383, 6384, 6385, 6386, 6387, 6388, 6389, 6390, 6391, 6392, 6393, 6394, 6395, 6396, 6397, 6398, 6399, 6400, 6401, 6402, 6403, 6404, 6405, 6406, 6407, 6408, 6409, 6410, 6411, 6412, 6413, 6414, 6415, 6416, 6417, 6418, 6419, 6420, 6421], [7795, 7796, 7797, 7798, 7799, 7800, 7801, 7802, 7803, 7804, 7805, 7806, 7807, 7808, 7809, 7810, 7811, 7812, 7813, 7814, 7815, 7816, 7817, 7818, 7819, 7820, 7821, 7822, 7823, 7824, 7825, 7826, 7827, 7828, 7829, 7830, 7831, 7832, 7833, 7834, 7835, 7836, 7837, 7838, 7839, 7840, 7841, 7842, 7843, 7844, 7845, 7846, 7847, 7848, 7849, 7850, 7851, 7852, 7853, 7854, 7855, 7856, 7857, 7858, 7859, 7860, 7861, 7862, 7863, 7864, 7865, 7866, 7867, 7868, 7869, 7870, 7871, 7872, 7873, 7874, 7875, 7876, 7877, 7878, 7879, 7880, 7881, 7882, 7883, 7884, 7885, 7886, 7887, 7888, 7889, 7890, 7891, 7892, 7893, 7894, 7895, 7896, 7897, 7898, 7899, 7900, 7901, 7902, 7903, 7904, 7905, 7906, 7907, 7908, 7909, 7910, 7911, 7912, 7913, 7914, 7915, 7916, 7917, 7918, 7919, 7920, 7921, 7922, 7923, 7924, 7925, 7926, 7927, 7928, 7929, 7930, 7931, 7932, 7933, 7934, 7935, 7936, 7937, 7938]]\n"
     ]
    }
   ],
   "source": [
    "print(len(datasets['test']))\n",
    "print(len(datasets['train']))\n",
    "print(len(datasets['validation']))"
   ]
  },
  {
   "cell_type": "code",
   "execution_count": null,
   "metadata": {},
   "outputs": [],
   "source": []
  }
 ],
 "metadata": {
  "kernelspec": {
   "display_name": "Python 3.9.13 64-bit (microsoft store)",
   "language": "python",
   "name": "python3"
  },
  "language_info": {
   "codemirror_mode": {
    "name": "ipython",
    "version": 3
   },
   "file_extension": ".py",
   "mimetype": "text/x-python",
   "name": "python",
   "nbconvert_exporter": "python",
   "pygments_lexer": "ipython3",
   "version": "3.9.13"
  },
  "vscode": {
   "interpreter": {
    "hash": "ae14cd44980bb66d0fa71274be0f56f60a32263b4377065a982a49ee9329494a"
   }
  }
 },
 "nbformat": 4,
 "nbformat_minor": 2
}
