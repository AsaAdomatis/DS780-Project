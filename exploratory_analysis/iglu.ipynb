{
 "cells": [
  {
   "cell_type": "markdown",
   "metadata": {},
   "source": [
    "# Loading libraries"
   ]
  },
  {
   "cell_type": "code",
   "execution_count": null,
   "metadata": {},
   "outputs": [],
   "source": [
    "# DANGER: only run 1x otherwise will chdir too many times\n",
    "import sys\n",
    "import os\n",
    "import yaml\n",
    "\n",
    "sys.path.insert(1, '..')\n",
    "os.chdir('..')\n",
    "\n",
    "import seaborn as sns\n",
    "sns.set_style('whitegrid')\n",
    "\n",
    "import matplotlib.pyplot as plt\n",
    "import statsmodels.api as sm\n",
    "import sklearn\n",
    "import optuna\n",
    "\n",
    "from darts import models, metrics, TimeSeries\n",
    "from darts.dataprocessing.transformers import Scaler\n",
    "\n",
    "from data_formatter.base import * # TODO: inefficient"
   ]
  },
  {
   "cell_type": "markdown",
   "metadata": {},
   "source": [
    "# Check statistics of the data"
   ]
  },
  {
   "cell_type": "code",
   "execution_count": null,
   "metadata": {},
   "outputs": [],
   "source": [
    "# load yaml config file\n",
    "with open('./config/iglu.yaml', 'r') as f:\n",
    "    config = yaml.safe_load(f)\n",
    "\n",
    "# set interpolation params for no interpolation\n",
    "new_config = config.copy()\n",
    "new_config['interpolation_params']['gap_threshold'] = 30\n",
    "new_config['interpolation_params']['min_drop_length'] = 0\n",
    "# set split params for no splitting\n",
    "new_config['split_params']['test_percent_subjects'] = 0\n",
    "new_config['split_params']['length_segment'] = 0\n",
    "# set scaling params for no scaling\n",
    "new_config['scaling_params']['scaler'] = 'None'\n",
    "\n",
    "formatter = DataFormatter(new_config)"
   ]
  },
  {
   "cell_type": "code",
   "execution_count": null,
   "metadata": {},
   "outputs": [],
   "source": [
    "%%capture\n",
    "\n",
    "# Need: Tradeoff between interpolation and segment length\n",
    "# Problem: Manually tuning is slow and potentially imprecise\n",
    "# Idea: have automated function that can help determine what the gap threshold should be\n",
    "# Proof of concept below\n",
    "\n",
    "import numpy as np\n",
    "\n",
    "def calc_percent(a, b):\n",
    "    return a*100/b\n",
    "\n",
    "gap_threshold = np.arange(5, 70, 1)\n",
    "percent_valid = []\n",
    "for i in gap_threshold:\n",
    "    new_config['interpolation_params']['gap_threshold'] = i\n",
    "    df = DataFormatter(new_config).train_data\n",
    "    \n",
    "    segment_lens = []\n",
    "    for group, data in df.groupby('id_segment'):\n",
    "        segment_lens.append(len(data))\n",
    "    \n",
    "    threshold = 240\n",
    "    valid_ids = df.groupby('id_segment')['time'].count().loc[lambda x : x>threshold].reset_index()['id_segment']\n",
    "    \n",
    "    percent_valid.append((len(valid_ids)*100/len(segment_lens)))"
   ]
  },
  {
   "cell_type": "code",
   "execution_count": null,
   "metadata": {},
   "outputs": [],
   "source": [
    "# Plot results\n",
    "plt.plot(gap_threshold, percent_valid)\n",
    "plt.title(\"Gap Threshold affect on % Segments > 240 Length\")\n",
    "plt.ylabel(\"% Above Threshhold\")\n",
    "plt.xlabel(\"Gap Threshold (min)\")"
   ]
  },
  {
   "cell_type": "code",
   "execution_count": null,
   "metadata": {},
   "outputs": [],
   "source": [
    "# print min, max, median, mean, std of segment lengths\n",
    "df = formatter.train_data\n",
    "segment_lens = []\n",
    "for group, data in df.groupby('id_segment'):\n",
    "    segment_lens.append(len(data))\n",
    "\n",
    "print('Train segment lengths:')\n",
    "print('\\tMin: ', min(segment_lens))\n",
    "print('\\tMax: ', max(segment_lens))\n",
    "print('\\tMedian: ', np.median(segment_lens))\n",
    "print('\\tMean: ', np.mean(segment_lens))\n",
    "print('\\tStd: ', np.std(segment_lens))\n",
    "\n",
    "# Visualize segment lengths to see approx # of valid ones (>240)\n",
    "plt.title(\"Segment Lengths (Line at 240)\")\n",
    "plt.hist(segment_lens)\n",
    "plt.axvline(240, color='r', linestyle='dashed', linewidth=1)\n",
    "\n",
    "# filter to get valid indices\n",
    "threshold = 240\n",
    "valid_ids = df.groupby('id_segment')['time'].count().loc[lambda x : x>threshold].reset_index()['id_segment']\n",
    "df_filtered = df.loc[df['id_segment'].isin(valid_ids)]\n",
    "\n",
    "# plot each segment\n",
    "num_segments = df_filtered['id_segment'].nunique()\n",
    "\n",
    "fig, axs = plt.subplots(1, num_segments, figsize=(30, 5))\n",
    "for i, (group, data) in enumerate(df_filtered.groupby('id_segment')):\n",
    "    data.plot(x='time', y='gl', ax=axs[i], title='Segment {}'.format(group))"
   ]
  },
  {
   "cell_type": "code",
   "execution_count": null,
   "metadata": {},
   "outputs": [],
   "source": [
    "df.head(10)"
   ]
  },
  {
   "cell_type": "code",
   "execution_count": null,
   "metadata": {},
   "outputs": [],
   "source": [
    "# plot acf of random samples from segments\n",
    "fig, ax = plt.subplots(2, 5, figsize=(30, 5))\n",
    "lags = 240\n",
    "for i, (group, data) in enumerate(df_filtered.groupby('id_segment')):\n",
    "    # only view top 5\n",
    "    if i < 5:\n",
    "        data = data['gl']\n",
    "        if len(data) < lags: # TODO: Could probably do filtering in pandas which would be faster\n",
    "            print('Segment {} is too short'.format(group))\n",
    "            continue\n",
    "        # select 10 random samples from index of data\n",
    "        sample = np.random.choice(range(len(data))[:-lags], 10, replace=False)\n",
    "        # plot acf / pacf of each sample\n",
    "        for j in sample:\n",
    "            acf, acf_ci = sm.tsa.stattools.acf(data[j:j+lags], nlags=lags, alpha=0.05)\n",
    "            pacf, pacf_ci = sm.tsa.stattools.pacf(data[j:j+lags], method='ols-adjusted', alpha=0.05)\n",
    "            ax[0, i].plot(acf)\n",
    "            ax[1, i].plot(pacf)\n"
   ]
  },
  {
   "cell_type": "markdown",
   "metadata": {},
   "source": [
    "# Change the config according to the observations above"
   ]
  },
  {
   "cell_type": "code",
   "execution_count": null,
   "metadata": {},
   "outputs": [],
   "source": [
    "# set interpolation params for no interpolation\n",
    "config['interpolation_params']['gap_threshold'] = 30\n",
    "config['interpolation_params']['min_drop_length'] = 240\n",
    "# set split params for no splitting\n",
    "config['split_params']['test_percent_subjects'] = 0.1\n",
    "config['split_params']['length_segment'] = 240\n",
    "# set scaling params for no scaling\n",
    "config['scaling_params']['scaler'] = 'None'\n",
    "\n",
    "formatter = DataFormatter(config)"
   ]
  },
  {
   "cell_type": "markdown",
   "metadata": {},
   "source": [
    "# Program the model"
   ]
  },
  {
   "cell_type": "markdown",
   "metadata": {},
   "source": [
    "## Convert data and (optional) scaling"
   ]
  },
  {
   "cell_type": "code",
   "execution_count": null,
   "metadata": {},
   "outputs": [],
   "source": [
    "# build target series\n",
    "target_col = formatter.get_column('target')\n",
    "time_col = formatter.get_column('time')\n",
    "group_col = formatter.get_column('sid')\n",
    "train_series = TimeSeries.from_group_dataframe(formatter.train_data, \n",
    "                                               group_cols = group_col, \n",
    "                                               time_col = time_col, \n",
    "                                               value_cols = target_col)\n",
    "val_series = TimeSeries.from_group_dataframe(formatter.val_data,\n",
    "                                             group_cols = group_col,\n",
    "                                             time_col = time_col,\n",
    "                                             value_cols = target_col)\n",
    "test_series = TimeSeries.from_group_dataframe(formatter.test_data,\n",
    "                                              group_cols = group_col,\n",
    "                                              time_col = time_col,\n",
    "                                              value_cols = target_col)\n",
    "\n",
    "# build static covariates series\n",
    "static_cols = formatter.get_column('static_covs')\n",
    "if static_cols is not None:\n",
    "    static_cols += [formatter.get_column('id')]\n",
    "else:\n",
    "    static_cols = [formatter.get_column('id')]\n",
    "train_static = TimeSeries.from_group_dataframe(formatter.train_data, \n",
    "                                               group_cols = group_col, \n",
    "                                               time_col = time_col, \n",
    "                                               value_cols = static_cols)\n",
    "val_static = TimeSeries.from_group_dataframe(formatter.val_data,\n",
    "                                             group_cols = group_col,\n",
    "                                             time_col = time_col,\n",
    "                                             value_cols = static_cols)\n",
    "test_static = TimeSeries.from_group_dataframe(formatter.test_data,\n",
    "                                              group_cols = group_col,\n",
    "                                              time_col = time_col,\n",
    "                                              value_cols = static_cols)\n",
    "\n",
    "# build dynamic covariates series\n",
    "dynamic_cols = formatter.get_column('dynamic_covs')\n",
    "if dynamic_cols is not None:\n",
    "    train_dynamic = TimeSeries.from_group_dataframe(formatter.train_data, \n",
    "                                                    group_cols = group_col, \n",
    "                                                    time_col = time_col, \n",
    "                                                    value_cols = dynamic_cols)\n",
    "    val_dynamic = TimeSeries.from_group_dataframe(formatter.val_data,\n",
    "                                                  group_cols = group_col,\n",
    "                                                  time_col = time_col,\n",
    "                                                  value_cols = dynamic_cols)\n",
    "    test_dynamic = TimeSeries.from_group_dataframe(formatter.test_data,\n",
    "                                                   group_cols = group_col,\n",
    "                                                   time_col = time_col,\n",
    "                                                   value_cols = dynamic_cols)\n",
    "\n",
    "# build future covariates series\n",
    "future_cols = formatter.get_column('future_covs')\n",
    "if future_cols is not None:\n",
    "    train_future = TimeSeries.from_group_dataframe(formatter.train_data, \n",
    "                                                   group_cols = group_col, \n",
    "                                                   time_col = time_col, \n",
    "                                                   value_cols = future_cols)\n",
    "    val_future = TimeSeries.from_group_dataframe(formatter.val_data,\n",
    "                                                 group_cols = group_col,\n",
    "                                                 time_col = time_col,\n",
    "                                                 value_cols = future_cols)\n",
    "    test_future = TimeSeries.from_group_dataframe(formatter.test_data,\n",
    "                                                  group_cols = group_col,\n",
    "                                                  time_col = time_col,\n",
    "                                                  value_cols = future_cols)\n",
    "\n",
    "train_series[0].plot(label='train')"
   ]
  },
  {
   "cell_type": "code",
   "execution_count": null,
   "metadata": {},
   "outputs": [],
   "source": [
    "# scale the data\n",
    "scaler = Scaler()\n",
    "scaler.fit(train_series)\n",
    "train_series_scaled = scaler.transform(train_series)\n",
    "val_series_scaled = scaler.transform(val_series)\n",
    "test_series_scaled = scaler.transform(test_series)\n",
    "\n",
    "# scale covariates\n",
    "scaler_static = Scaler()\n",
    "if static_cols is not None:\n",
    "    scaler_static.fit(train_static)\n",
    "    train_static_scaled = scaler_static.transform(train_static)\n",
    "    val_static_scaled = scaler_static.transform(val_static)\n",
    "    test_static_scaled = scaler_static.transform(test_static)\n",
    "\n",
    "# scale dynamic covariates\n",
    "scaler_dynamic = Scaler()\n",
    "if dynamic_cols is not None:\n",
    "    scaler_dynamic.fit(train_dynamic)\n",
    "    train_dynamic_scaled = scaler_dynamic.transform(train_dynamic)\n",
    "    val_dynamic_scaled = scaler_dynamic.transform(val_dynamic)\n",
    "    test_dynamic_scaled = scaler_dynamic.transform(test_dynamic)\n",
    "\n",
    "# scale future covariates\n",
    "scaler_future = Scaler()\n",
    "if future_cols is not None:\n",
    "    scaler_future.fit(train_future)\n",
    "    train_future_scaled = scaler_future.transform(train_future)\n",
    "    val_future_scaled = scaler_future.transform(val_future)\n",
    "    test_future_scaled = scaler_future.transform(test_future)\n",
    "\n",
    "train_series_scaled[0].plot(label='train_scaled')\n",
    "test_series_scaled[0].plot(label='test_scaled')"
   ]
  },
  {
   "cell_type": "markdown",
   "metadata": {},
   "source": [
    "## ARIMA model"
   ]
  },
  {
   "cell_type": "code",
   "execution_count": null,
   "metadata": {},
   "outputs": [],
   "source": [
    "import warnings\n",
    "warnings.filterwarnings(\"ignore\")"
   ]
  },
  {
   "cell_type": "code",
   "execution_count": null,
   "metadata": {},
   "outputs": [],
   "source": [
    "arima = models.ARIMA(p=1, d=1, q=1, seasonal_order=(0, 0, 0, 0))\n",
    "forecasts = arima.historical_forecasts(val_series_scaled, \n",
    "                                       train_length=156,\n",
    "                                       forecast_horizon=12,\n",
    "                                       stride=1,\n",
    "                                       retrain=True,\n",
    "                                       last_points_only=True,\n",
    "                                       verbose=False)"
   ]
  },
  {
   "cell_type": "code",
   "execution_count": null,
   "metadata": {},
   "outputs": [],
   "source": [
    "fig, axs = plt.subplots(1, 6, figsize=(30, 6))\n",
    "for i in range(6):\n",
    "    forecasts[i].plot(label='forecast', ax=axs[i])\n",
    "    val_series_scaled[i].plot(label='actual', ax=axs[i])\n",
    "    axs[i].legend(fontsize=14)"
   ]
  },
  {
   "cell_type": "code",
   "execution_count": null,
   "metadata": {},
   "outputs": [],
   "source": [
    "arima = models.ARIMA()\n",
    "\n",
    "# define objective function\n",
    "def objective(trial):\n",
    "    # select input and output chunk lengths\n",
    "    in_len = trial.suggest_int(\"in_len\", 100, 192)\n",
    "    out_len = 12\n",
    "\n",
    "    # Hyperparameters\n",
    "    p = trial.suggest_int(\"p\", 1, 5) # AR terms\n",
    "    d = trial.suggest_int(\"d\", 1, 5) # Order of differencing\n",
    "    q = trial.suggest_int(\"q\", 1, 5) # MA terms\n",
    "\n",
    "    # build the TCN model\n",
    "    model = models.ARIMA(\n",
    "        p=p, d=d, q=q,\n",
    "        seasonal_order=(0, 0, 0, 0)\n",
    "    )\n",
    "\n",
    "    # backtest on the validation set\n",
    "    errors = model.backtest(val_series_scaled,\n",
    "                            train_length=in_len,\n",
    "                            forecast_horizon=out_len,\n",
    "                            stride=1,\n",
    "                            retrain=True,\n",
    "                            verbose=False,\n",
    "                            metric=metrics.rmse,\n",
    "                            last_points_only=False,\n",
    "                            )\n",
    "    avg_error = np.mean(errors)\n",
    "\n",
    "    return avg_error\n",
    "\n",
    "\n",
    "# for convenience, print some optimization trials information\n",
    "def print_callback(study, trial):\n",
    "    print(f\"Current value: {trial.value}, Current params: {trial.params}\")\n",
    "    print(f\"Best value: {study.best_value}, Best params: {study.best_trial.params}\")\n",
    "\n",
    "\n",
    "# optimize hyperparameters by minimizing the rmse on the validation set\n",
    "study = optuna.create_study(direction=\"minimize\")\n",
    "study.optimize(objective, n_trials=100, callbacks=[print_callback])\n"
   ]
  },
  {
   "cell_type": "code",
   "execution_count": null,
   "metadata": {},
   "outputs": [],
   "source": []
  }
 ],
 "metadata": {
  "kernelspec": {
   "display_name": "Python 3 (ipykernel)",
   "language": "python",
   "name": "python3"
  },
  "language_info": {
   "codemirror_mode": {
    "name": "ipython",
    "version": 3
   },
   "file_extension": ".py",
   "mimetype": "text/x-python",
   "name": "python",
   "nbconvert_exporter": "python",
   "pygments_lexer": "ipython3",
   "version": "3.10.1"
  },
  "vscode": {
   "interpreter": {
    "hash": "95662931fb0811c75e2373330a012ba90aa4548ba779055436524c46bd94b0ee"
   }
  }
 },
 "nbformat": 4,
 "nbformat_minor": 2
}
