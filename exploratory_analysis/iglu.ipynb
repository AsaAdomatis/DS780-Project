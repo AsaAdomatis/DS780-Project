{
 "cells": [
  {
   "cell_type": "markdown",
   "metadata": {},
   "source": [
    "# Loading libraries"
   ]
  },
  {
   "cell_type": "code",
   "execution_count": 2,
   "metadata": {},
   "outputs": [
    {
     "ename": "ModuleNotFoundError",
     "evalue": "No module named 'data_formatter'",
     "output_type": "error",
     "traceback": [
      "\u001b[1;31m---------------------------------------------------------------------------\u001b[0m",
      "\u001b[1;31mModuleNotFoundError\u001b[0m                       Traceback (most recent call last)",
      "Cell \u001b[1;32mIn [2], line 14\u001b[0m\n\u001b[0;32m     11\u001b[0m \u001b[38;5;28;01mfrom\u001b[39;00m \u001b[38;5;21;01mdarts\u001b[39;00m \u001b[38;5;28;01mimport\u001b[39;00m models, metrics, TimeSeries\n\u001b[0;32m     12\u001b[0m \u001b[38;5;28;01mfrom\u001b[39;00m \u001b[38;5;21;01mdarts\u001b[39;00m\u001b[38;5;21;01m.\u001b[39;00m\u001b[38;5;21;01mdataprocessing\u001b[39;00m\u001b[38;5;21;01m.\u001b[39;00m\u001b[38;5;21;01mtransformers\u001b[39;00m \u001b[38;5;28;01mimport\u001b[39;00m Scaler\n\u001b[1;32m---> 14\u001b[0m \u001b[38;5;28;01mfrom\u001b[39;00m \u001b[38;5;21;01mdata_formatter\u001b[39;00m\u001b[38;5;21;01m.\u001b[39;00m\u001b[38;5;21;01mbase\u001b[39;00m \u001b[38;5;28;01mimport\u001b[39;00m \u001b[38;5;241m*\u001b[39m \u001b[38;5;66;03m# TODO: inefficient\u001b[39;00m\n",
      "\u001b[1;31mModuleNotFoundError\u001b[0m: No module named 'data_formatter'"
     ]
    }
   ],
   "source": [
    "import sys\n",
    "import os\n",
    "import yaml\n",
    "\n",
    "sys.path.insert(1, '..')\n",
    "os.chdir('..')\n",
    "\n",
    "import seaborn as sns\n",
    "sns.set_style('whitegrid')\n",
    "\n",
    "import matplotlib.pyplot as plt\n",
    "import statsmodels.api as sm\n",
    "import sklearn\n",
    "import optuna\n",
    "\n",
    "from darts import models, metrics, TimeSeries\n",
    "from darts.dataprocessing.transformers import Scaler\n",
    "\n",
    "from data_formatter.base import * # TODO: inefficient"
   ]
  },
  {
   "cell_type": "code",
   "execution_count": 5,
   "metadata": {},
   "outputs": [
    {
     "name": "stdout",
     "output_type": "stream",
     "text": [
      "C:\\Users\\njfer\\OneDrive\\Documents\\Top Level\\TAMU\\Research\\Gaynanova\\GluNet\\exploratory_analysis\n",
      "C:\\Users\\njfer\\OneDrive\\Documents\\Top Level\\TAMU\\Research\\Gaynanova\\GluNet\n"
     ]
    }
   ],
   "source": [
    "# print(sys.path)\n",
    "# print(sys.path)\n",
    "\n",
    "print(os.getcwd())\n",
    "print(os.getcwd())\n"
   ]
  },
  {
   "cell_type": "markdown",
   "metadata": {},
   "source": [
    "# Check statistics of the data"
   ]
  },
  {
   "cell_type": "code",
   "execution_count": null,
   "metadata": {},
   "outputs": [],
   "source": [
    "# load yaml config file\n",
    "!pwd\n",
    "with open('./glunet/config/iglu.yaml', 'r') as f:\n",
    "    config = yaml.safe_load(f)\n",
    "\n",
    "# set interpolation params for no interpolation\n",
    "new_config = config.copy()\n",
    "new_config['interpolation_params']['gap_threshold'] = 5\n",
    "new_config['interpolation_params']['min_drop_length'] = 0\n",
    "# set split params for no splitting\n",
    "new_config['split_params']['test_percent_subjects'] = 0\n",
    "new_config['split_params']['length_segment'] = 0\n",
    "# set scaling params for no scaling\n",
    "new_config['scaling_params']['scaler'] = 'None'\n",
    "\n",
    "formatter = DataFormatter(new_config)"
   ]
  },
  {
   "cell_type": "code",
   "execution_count": null,
   "metadata": {},
   "outputs": [],
   "source": [
    "# print min, max, median, mean, std of segment lengths\n",
    "segment_lens = []\n",
    "for group, data in formatter.train_data.groupby('id_segment'):\n",
    "    segment_lens.append(len(data))\n",
    "\n",
    "print(formatter)\n",
    "# print('Train segment lengths:')\n",
    "# print('\\tMin: ', min(segment_lens))\n",
    "# print('\\tMax: ', max(segment_lens))\n",
    "# print('\\tMedian: ', np.median(segment_lens))\n",
    "# print('\\tMean: ', np.mean(segment_lens))\n",
    "# print('\\tStd: ', np.std(segment_lens))\n",
    "\n",
    "# # plot each segment\n",
    "# num_segments = formatter.train_data['id_segment'].nunique()\n",
    "# plot_data = formatter.train_data.loc[formatter.train_data['id_segment'].between(0,8)]\n",
    "\n",
    "# fig, axs = plt.subplots(1, 10, figsize=(30, 5))\n",
    "# for i, (group, data) in enumerate(plot_data.groupby('id_segment')):\n",
    "#     data.plot(x='time', y='gl', ax=axs[i], title='Segment {}'.format(group))"
   ]
  },
  {
   "cell_type": "code",
   "execution_count": null,
   "metadata": {},
   "outputs": [],
   "source": [
    "# plot acf of random samples from segments\n",
    "fig, ax = plt.subplots(2, num_segments, figsize=(30, 5))\n",
    "lags = 300\n",
    "for i, (group, data) in enumerate(formatter.train_data.groupby('id_segment')):\n",
    "    data = data['gl']\n",
    "    if len(data) < lags:\n",
    "        print('Segment {} is too short'.format(group))\n",
    "        continue\n",
    "    # select 10 random samples from index of data\n",
    "    sample = np.random.choice(range(len(data))[:-lags], 10, replace=False)\n",
    "    # plot acf / pacf of each sample\n",
    "    for j in sample:\n",
    "        acf, acf_ci = sm.tsa.stattools.acf(data[j:j+lags], nlags=lags, alpha=0.05)\n",
    "        pacf, pacf_ci = sm.tsa.stattools.pacf(data[j:j+lags], method='ols-adjusted', alpha=0.05)\n",
    "        ax[0, i].plot(acf)\n",
    "        ax[1, i].plot(pacf)\n"
   ]
  },
  {
   "cell_type": "markdown",
   "metadata": {},
   "source": [
    "# Change the config according to the observations above"
   ]
  },
  {
   "cell_type": "code",
   "execution_count": null,
   "metadata": {},
   "outputs": [],
   "source": [
    "# set interpolation params for no interpolation\n",
    "config['interpolation_params']['gap_threshold'] = 30\n",
    "config['interpolation_params']['min_drop_length'] = 240\n",
    "# set split params for no splitting\n",
    "config['split_params']['test_percent_subjects'] = 0.1\n",
    "config['split_params']['length_segment'] = 240\n",
    "# set scaling params for no scaling\n",
    "config['scaling_params']['scaler'] = 'None'\n",
    "\n",
    "formatter = DataFormatter(config)"
   ]
  },
  {
   "cell_type": "markdown",
   "metadata": {},
   "source": [
    "# Program the model"
   ]
  },
  {
   "cell_type": "markdown",
   "metadata": {},
   "source": [
    "## Convert data and (optional) scaling"
   ]
  },
  {
   "cell_type": "code",
   "execution_count": null,
   "metadata": {},
   "outputs": [],
   "source": [
    "# build target series\n",
    "target_col = formatter.get_column('target')\n",
    "time_col = formatter.get_column('time')\n",
    "group_col = formatter.get_column('sid')\n",
    "train_series = TimeSeries.from_group_dataframe(formatter.train_data, \n",
    "                                               group_cols = group_col, \n",
    "                                               time_col = time_col, \n",
    "                                               value_cols = target_col)\n",
    "val_series = TimeSeries.from_group_dataframe(formatter.val_data,\n",
    "                                             group_cols = group_col,\n",
    "                                             time_col = time_col,\n",
    "                                             value_cols = target_col)\n",
    "test_series = TimeSeries.from_group_dataframe(formatter.test_data,\n",
    "                                              group_cols = group_col,\n",
    "                                              time_col = time_col,\n",
    "                                              value_cols = target_col)\n",
    "\n",
    "# build static covariates series\n",
    "static_cols = formatter.get_column('static_covs')\n",
    "if static_cols is not None:\n",
    "    static_cols += [formatter.get_column('id')]\n",
    "else:\n",
    "    static_cols = [formatter.get_column('id')]\n",
    "train_static = TimeSeries.from_group_dataframe(formatter.train_data, \n",
    "                                               group_cols = group_col, \n",
    "                                               time_col = time_col, \n",
    "                                               value_cols = static_cols)\n",
    "val_static = TimeSeries.from_group_dataframe(formatter.val_data,\n",
    "                                             group_cols = group_col,\n",
    "                                             time_col = time_col,\n",
    "                                             value_cols = static_cols)\n",
    "test_static = TimeSeries.from_group_dataframe(formatter.test_data,\n",
    "                                              group_cols = group_col,\n",
    "                                              time_col = time_col,\n",
    "                                              value_cols = static_cols)\n",
    "\n",
    "# build dynamic covariates series\n",
    "dynamic_cols = formatter.get_column('dynamic_covs')\n",
    "if dynamic_cols is not None:\n",
    "    train_dynamic = TimeSeries.from_group_dataframe(formatter.train_data, \n",
    "                                                    group_cols = group_col, \n",
    "                                                    time_col = time_col, \n",
    "                                                    value_cols = dynamic_cols)\n",
    "    val_dynamic = TimeSeries.from_group_dataframe(formatter.val_data,\n",
    "                                                  group_cols = group_col,\n",
    "                                                  time_col = time_col,\n",
    "                                                  value_cols = dynamic_cols)\n",
    "    test_dynamic = TimeSeries.from_group_dataframe(formatter.test_data,\n",
    "                                                   group_cols = group_col,\n",
    "                                                   time_col = time_col,\n",
    "                                                   value_cols = dynamic_cols)\n",
    "\n",
    "# build future covariates series\n",
    "future_cols = formatter.get_column('future_covs')\n",
    "if future_cols is not None:\n",
    "    train_future = TimeSeries.from_group_dataframe(formatter.train_data, \n",
    "                                                   group_cols = group_col, \n",
    "                                                   time_col = time_col, \n",
    "                                                   value_cols = future_cols)\n",
    "    val_future = TimeSeries.from_group_dataframe(formatter.val_data,\n",
    "                                                 group_cols = group_col,\n",
    "                                                 time_col = time_col,\n",
    "                                                 value_cols = future_cols)\n",
    "    test_future = TimeSeries.from_group_dataframe(formatter.test_data,\n",
    "                                                  group_cols = group_col,\n",
    "                                                  time_col = time_col,\n",
    "                                                  value_cols = future_cols)\n",
    "\n",
    "train_series[0].plot(label='train')"
   ]
  },
  {
   "cell_type": "code",
   "execution_count": null,
   "metadata": {},
   "outputs": [],
   "source": [
    "# scale the data\n",
    "scaler = Scaler()\n",
    "scaler.fit(train_series)\n",
    "train_series_scaled = scaler.transform(train_series)\n",
    "val_series_scaled = scaler.transform(val_series)\n",
    "test_series_scaled = scaler.transform(test_series)\n",
    "\n",
    "# scale covariates\n",
    "scaler_static = Scaler()\n",
    "if static_cols is not None:\n",
    "    scaler_static.fit(train_static)\n",
    "    train_static_scaled = scaler_static.transform(train_static)\n",
    "    val_static_scaled = scaler_static.transform(val_static)\n",
    "    test_static_scaled = scaler_static.transform(test_static)\n",
    "\n",
    "# scale dynamic covariates\n",
    "scaler_dynamic = Scaler()\n",
    "if dynamic_cols is not None:\n",
    "    scaler_dynamic.fit(train_dynamic)\n",
    "    train_dynamic_scaled = scaler_dynamic.transform(train_dynamic)\n",
    "    val_dynamic_scaled = scaler_dynamic.transform(val_dynamic)\n",
    "    test_dynamic_scaled = scaler_dynamic.transform(test_dynamic)\n",
    "\n",
    "# scale future covariates\n",
    "scaler_future = Scaler()\n",
    "if future_cols is not None:\n",
    "    scaler_future.fit(train_future)\n",
    "    train_future_scaled = scaler_future.transform(train_future)\n",
    "    val_future_scaled = scaler_future.transform(val_future)\n",
    "    test_future_scaled = scaler_future.transform(test_future)\n",
    "\n",
    "train_series_scaled[0].plot(label='train_scaled')\n",
    "test_series_scaled[0].plot(label='test_scaled')"
   ]
  },
  {
   "cell_type": "markdown",
   "metadata": {},
   "source": [
    "## ARIMA model"
   ]
  },
  {
   "cell_type": "code",
   "execution_count": null,
   "metadata": {},
   "outputs": [],
   "source": [
    "import warnings\n",
    "warnings.filterwarnings(\"ignore\")"
   ]
  },
  {
   "cell_type": "code",
   "execution_count": null,
   "metadata": {},
   "outputs": [],
   "source": [
    "arima = models.ARIMA(p=1, d=1, q=1, seasonal_order=(0, 0, 0, 0))\n",
    "forecasts = arima.historical_forecasts(val_series_scaled, \n",
    "                                       train_length=156,\n",
    "                                       forecast_horizon=12,\n",
    "                                       stride=1,\n",
    "                                       retrain=True,\n",
    "                                       last_points_only=True,\n",
    "                                       verbose=False)"
   ]
  },
  {
   "cell_type": "code",
   "execution_count": null,
   "metadata": {},
   "outputs": [],
   "source": [
    "fig, axs = plt.subplots(1, 6, figsize=(30, 6))\n",
    "for i in range(6):\n",
    "    forecasts[i].plot(label='forecast', ax=axs[i])\n",
    "    val_series_scaled[i].plot(label='actual', ax=axs[i])\n",
    "    axs[i].legend(fontsize=14)"
   ]
  },
  {
   "cell_type": "code",
   "execution_count": null,
   "metadata": {},
   "outputs": [],
   "source": [
    "arima = models.ARIMA()\n",
    "\n",
    "# define objective function\n",
    "def objective(trial):\n",
    "    # select input and output chunk lengths\n",
    "    in_len = trial.suggest_int(\"in_len\", 100, 192)\n",
    "    out_len = 12\n",
    "\n",
    "    # Hyperparameters\n",
    "    p = trial.suggest_int(\"p\", 1, 5) # AR terms\n",
    "    d = trial.suggest_int(\"d\", 1, 5) # Order of differencing\n",
    "    q = trial.suggest_int(\"q\", 1, 5) # MA terms\n",
    "\n",
    "    # build the TCN model\n",
    "    model = models.ARIMA(\n",
    "        p=p, d=d, q=q,\n",
    "        seasonal_order=(0, 0, 0, 0)\n",
    "    )\n",
    "\n",
    "    # backtest on the validation set\n",
    "    errors = model.backtest(val_series_scaled,\n",
    "                            train_length=in_len,\n",
    "                            forecast_horizon=out_len,\n",
    "                            stride=1,\n",
    "                            retrain=True,\n",
    "                            verbose=False,\n",
    "                            metric=metrics.rmse,\n",
    "                            last_points_only=False,\n",
    "                            )\n",
    "    avg_error = np.mean(errors)\n",
    "\n",
    "    return avg_error\n",
    "\n",
    "\n",
    "# for convenience, print some optimization trials information\n",
    "def print_callback(study, trial):\n",
    "    print(f\"Current value: {trial.value}, Current params: {trial.params}\")\n",
    "    print(f\"Best value: {study.best_value}, Best params: {study.best_trial.params}\")\n",
    "\n",
    "\n",
    "# optimize hyperparameters by minimizing the rmse on the validation set\n",
    "study = optuna.create_study(direction=\"minimize\")\n",
    "study.optimize(objective, n_trials=100, callbacks=[print_callback])\n"
   ]
  },
  {
   "cell_type": "code",
   "execution_count": null,
   "metadata": {},
   "outputs": [],
   "source": []
  }
 ],
 "metadata": {
  "kernelspec": {
   "display_name": "Python 3 (ipykernel)",
   "language": "python",
   "name": "python3"
  },
  "language_info": {
   "codemirror_mode": {
    "name": "ipython",
    "version": 3
   },
   "file_extension": ".py",
   "mimetype": "text/x-python",
   "name": "python",
   "nbconvert_exporter": "python",
   "pygments_lexer": "ipython3",
   "version": "3.10.1"
  },
  "vscode": {
   "interpreter": {
    "hash": "95662931fb0811c75e2373330a012ba90aa4548ba779055436524c46bd94b0ee"
   }
  }
 },
 "nbformat": 4,
 "nbformat_minor": 2
}
