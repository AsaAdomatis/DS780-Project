{
 "cells": [
  {
   "cell_type": "code",
   "execution_count": 1,
   "metadata": {},
   "outputs": [
    {
     "name": "stderr",
     "output_type": "stream",
     "text": [
      "/Users/renatsergazinov/anaconda3/envs/torch/lib/python3.9/site-packages/tqdm/auto.py:22: TqdmWarning: IProgress not found. Please update jupyter and ipywidgets. See https://ipywidgets.readthedocs.io/en/stable/user_install.html\n",
      "  from .autonotebook import tqdm as notebook_tqdm\n"
     ]
    }
   ],
   "source": [
    "import sys\n",
    "import os\n",
    "import yaml\n",
    "sys.path.insert(1, '..')\n",
    "os.chdir('..')\n",
    "\n",
    "from data_formatter.base import *"
   ]
  },
  {
   "cell_type": "code",
   "execution_count": 2,
   "metadata": {},
   "outputs": [],
   "source": [
    "# load yaml config file\n",
    "with open('./config/dubosson.yaml', 'r') as f:\n",
    "    config = yaml.safe_load(f)"
   ]
  },
  {
   "cell_type": "code",
   "execution_count": 3,
   "metadata": {},
   "outputs": [
    {
     "name": "stdout",
     "output_type": "stream",
     "text": [
      "Dropped segments: 0\n",
      "Extracted segments: 9\n"
     ]
    }
   ],
   "source": [
    "# initialise formatter\n",
    "formatter = DataFormatter(config)"
   ]
  },
  {
   "cell_type": "code",
   "execution_count": 4,
   "metadata": {},
   "outputs": [
    {
     "data": {
      "text/plain": [
       "time           datetime64[ns]\n",
       "id                    float64\n",
       "gl                    float64\n",
       "time_year             float64\n",
       "time_month            float64\n",
       "time_day              float64\n",
       "time_hour             float64\n",
       "time_minute           float64\n",
       "id_segment            float64\n",
       "dtype: object"
      ]
     },
     "execution_count": 4,
     "metadata": {},
     "output_type": "execute_result"
    }
   ],
   "source": [
    "formatter.data.dtypes"
   ]
  },
  {
   "cell_type": "code",
   "execution_count": 5,
   "metadata": {},
   "outputs": [
    {
     "data": {
      "text/plain": [
       "[('id', <DataTypes.REAL_VALUED: 0>, <InputTypes.ID: 4>),\n",
       " ('time', <DataTypes.DATE: 2>, <InputTypes.TIME: 6>),\n",
       " ('gl', <DataTypes.REAL_VALUED: 0>, <InputTypes.TARGET: 0>),\n",
       " ('time_year', <DataTypes.REAL_VALUED: 0>, <InputTypes.KNOWN_INPUT: 2>),\n",
       " ('time_month', <DataTypes.REAL_VALUED: 0>, <InputTypes.KNOWN_INPUT: 2>),\n",
       " ('time_day', <DataTypes.REAL_VALUED: 0>, <InputTypes.KNOWN_INPUT: 2>),\n",
       " ('time_hour', <DataTypes.REAL_VALUED: 0>, <InputTypes.KNOWN_INPUT: 2>),\n",
       " ('time_minute', <DataTypes.REAL_VALUED: 0>, <InputTypes.KNOWN_INPUT: 2>),\n",
       " ('id_segment', <DataTypes.CATEGORICAL: 1>, <InputTypes.SID: 5>)]"
      ]
     },
     "execution_count": 5,
     "metadata": {},
     "output_type": "execute_result"
    }
   ],
   "source": [
    "formatter._column_definition"
   ]
  },
  {
   "cell_type": "code",
   "execution_count": 6,
   "metadata": {},
   "outputs": [
    {
     "data": {
      "text/html": [
       "<div>\n",
       "<style scoped>\n",
       "    .dataframe tbody tr th:only-of-type {\n",
       "        vertical-align: middle;\n",
       "    }\n",
       "\n",
       "    .dataframe tbody tr th {\n",
       "        vertical-align: top;\n",
       "    }\n",
       "\n",
       "    .dataframe thead th {\n",
       "        text-align: right;\n",
       "    }\n",
       "</style>\n",
       "<table border=\"1\" class=\"dataframe\">\n",
       "  <thead>\n",
       "    <tr style=\"text-align: right;\">\n",
       "      <th></th>\n",
       "      <th>time</th>\n",
       "      <th>id</th>\n",
       "      <th>gl</th>\n",
       "      <th>time_year</th>\n",
       "      <th>time_month</th>\n",
       "      <th>time_day</th>\n",
       "      <th>time_hour</th>\n",
       "      <th>time_minute</th>\n",
       "      <th>id_segment</th>\n",
       "    </tr>\n",
       "  </thead>\n",
       "  <tbody>\n",
       "    <tr>\n",
       "      <th>0</th>\n",
       "      <td>2014-10-01 19:14:00</td>\n",
       "      <td>0.0</td>\n",
       "      <td>185.4</td>\n",
       "      <td>2014.0</td>\n",
       "      <td>10.0</td>\n",
       "      <td>1.0</td>\n",
       "      <td>19.0</td>\n",
       "      <td>14.0</td>\n",
       "      <td>0.0</td>\n",
       "    </tr>\n",
       "    <tr>\n",
       "      <th>1</th>\n",
       "      <td>2014-10-01 19:19:00</td>\n",
       "      <td>0.0</td>\n",
       "      <td>178.2</td>\n",
       "      <td>2014.0</td>\n",
       "      <td>10.0</td>\n",
       "      <td>1.0</td>\n",
       "      <td>19.0</td>\n",
       "      <td>19.0</td>\n",
       "      <td>0.0</td>\n",
       "    </tr>\n",
       "    <tr>\n",
       "      <th>2</th>\n",
       "      <td>2014-10-01 19:24:00</td>\n",
       "      <td>0.0</td>\n",
       "      <td>176.4</td>\n",
       "      <td>2014.0</td>\n",
       "      <td>10.0</td>\n",
       "      <td>1.0</td>\n",
       "      <td>19.0</td>\n",
       "      <td>24.0</td>\n",
       "      <td>0.0</td>\n",
       "    </tr>\n",
       "    <tr>\n",
       "      <th>3</th>\n",
       "      <td>2014-10-01 19:29:00</td>\n",
       "      <td>0.0</td>\n",
       "      <td>172.8</td>\n",
       "      <td>2014.0</td>\n",
       "      <td>10.0</td>\n",
       "      <td>1.0</td>\n",
       "      <td>19.0</td>\n",
       "      <td>29.0</td>\n",
       "      <td>0.0</td>\n",
       "    </tr>\n",
       "    <tr>\n",
       "      <th>4</th>\n",
       "      <td>2014-10-01 19:34:00</td>\n",
       "      <td>0.0</td>\n",
       "      <td>169.2</td>\n",
       "      <td>2014.0</td>\n",
       "      <td>10.0</td>\n",
       "      <td>1.0</td>\n",
       "      <td>19.0</td>\n",
       "      <td>34.0</td>\n",
       "      <td>0.0</td>\n",
       "    </tr>\n",
       "    <tr>\n",
       "      <th>...</th>\n",
       "      <td>...</td>\n",
       "      <td>...</td>\n",
       "      <td>...</td>\n",
       "      <td>...</td>\n",
       "      <td>...</td>\n",
       "      <td>...</td>\n",
       "      <td>...</td>\n",
       "      <td>...</td>\n",
       "      <td>...</td>\n",
       "    </tr>\n",
       "    <tr>\n",
       "      <th>7549</th>\n",
       "      <td>2014-10-03 00:41:54</td>\n",
       "      <td>7.0</td>\n",
       "      <td>180.0</td>\n",
       "      <td>2014.0</td>\n",
       "      <td>10.0</td>\n",
       "      <td>1.0</td>\n",
       "      <td>21.0</td>\n",
       "      <td>36.0</td>\n",
       "      <td>8.0</td>\n",
       "    </tr>\n",
       "    <tr>\n",
       "      <th>7550</th>\n",
       "      <td>2014-10-03 00:46:54</td>\n",
       "      <td>7.0</td>\n",
       "      <td>180.0</td>\n",
       "      <td>2014.0</td>\n",
       "      <td>10.0</td>\n",
       "      <td>1.0</td>\n",
       "      <td>21.0</td>\n",
       "      <td>36.0</td>\n",
       "      <td>8.0</td>\n",
       "    </tr>\n",
       "    <tr>\n",
       "      <th>7551</th>\n",
       "      <td>2014-10-03 00:51:54</td>\n",
       "      <td>7.0</td>\n",
       "      <td>180.0</td>\n",
       "      <td>2014.0</td>\n",
       "      <td>10.0</td>\n",
       "      <td>1.0</td>\n",
       "      <td>21.0</td>\n",
       "      <td>36.0</td>\n",
       "      <td>8.0</td>\n",
       "    </tr>\n",
       "    <tr>\n",
       "      <th>7552</th>\n",
       "      <td>2014-10-03 00:56:54</td>\n",
       "      <td>7.0</td>\n",
       "      <td>180.0</td>\n",
       "      <td>2014.0</td>\n",
       "      <td>10.0</td>\n",
       "      <td>1.0</td>\n",
       "      <td>21.0</td>\n",
       "      <td>36.0</td>\n",
       "      <td>8.0</td>\n",
       "    </tr>\n",
       "    <tr>\n",
       "      <th>7553</th>\n",
       "      <td>2014-10-03 01:01:54</td>\n",
       "      <td>7.0</td>\n",
       "      <td>180.0</td>\n",
       "      <td>2014.0</td>\n",
       "      <td>10.0</td>\n",
       "      <td>1.0</td>\n",
       "      <td>21.0</td>\n",
       "      <td>36.0</td>\n",
       "      <td>8.0</td>\n",
       "    </tr>\n",
       "  </tbody>\n",
       "</table>\n",
       "<p>4395 rows × 9 columns</p>\n",
       "</div>"
      ],
      "text/plain": [
       "                    time   id     gl  time_year  time_month  time_day  \\\n",
       "0    2014-10-01 19:14:00  0.0  185.4     2014.0        10.0       1.0   \n",
       "1    2014-10-01 19:19:00  0.0  178.2     2014.0        10.0       1.0   \n",
       "2    2014-10-01 19:24:00  0.0  176.4     2014.0        10.0       1.0   \n",
       "3    2014-10-01 19:29:00  0.0  172.8     2014.0        10.0       1.0   \n",
       "4    2014-10-01 19:34:00  0.0  169.2     2014.0        10.0       1.0   \n",
       "...                  ...  ...    ...        ...         ...       ...   \n",
       "7549 2014-10-03 00:41:54  7.0  180.0     2014.0        10.0       1.0   \n",
       "7550 2014-10-03 00:46:54  7.0  180.0     2014.0        10.0       1.0   \n",
       "7551 2014-10-03 00:51:54  7.0  180.0     2014.0        10.0       1.0   \n",
       "7552 2014-10-03 00:56:54  7.0  180.0     2014.0        10.0       1.0   \n",
       "7553 2014-10-03 01:01:54  7.0  180.0     2014.0        10.0       1.0   \n",
       "\n",
       "      time_hour  time_minute  id_segment  \n",
       "0          19.0         14.0         0.0  \n",
       "1          19.0         19.0         0.0  \n",
       "2          19.0         24.0         0.0  \n",
       "3          19.0         29.0         0.0  \n",
       "4          19.0         34.0         0.0  \n",
       "...         ...          ...         ...  \n",
       "7549       21.0         36.0         8.0  \n",
       "7550       21.0         36.0         8.0  \n",
       "7551       21.0         36.0         8.0  \n",
       "7552       21.0         36.0         8.0  \n",
       "7553       21.0         36.0         8.0  \n",
       "\n",
       "[4395 rows x 9 columns]"
      ]
     },
     "execution_count": 6,
     "metadata": {},
     "output_type": "execute_result"
    }
   ],
   "source": [
    "formatter.train_data"
   ]
  },
  {
   "cell_type": "code",
   "execution_count": null,
   "metadata": {},
   "outputs": [],
   "source": []
  }
 ],
 "metadata": {
  "kernelspec": {
   "display_name": "torch",
   "language": "python",
   "name": "python3"
  },
  "language_info": {
   "codemirror_mode": {
    "name": "ipython",
    "version": 3
   },
   "file_extension": ".py",
   "mimetype": "text/x-python",
   "name": "python",
   "nbconvert_exporter": "python",
   "pygments_lexer": "ipython3",
   "version": "3.9.6"
  },
  "orig_nbformat": 4,
  "vscode": {
   "interpreter": {
    "hash": "58a3cc9cc47ada2c73d89b42b020767eadf9b8864b123d3efb345738bfde13c0"
   }
  }
 },
 "nbformat": 4,
 "nbformat_minor": 2
}
