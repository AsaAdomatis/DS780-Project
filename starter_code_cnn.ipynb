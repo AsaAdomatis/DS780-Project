{
 "cells": [
  {
   "cell_type": "markdown",
   "metadata": {},
   "source": [
    "## Starter Code and EDA\n",
    "Below is started code provided by the IrinaStatsLab for loading the Hall dataset and some data exploration on that dataset"
   ]
  },
  {
   "cell_type": "code",
   "execution_count": 3,
   "metadata": {},
   "outputs": [
    {
     "name": "stdout",
     "output_type": "stream",
     "text": [
      "--------------------------------\n",
      "Loading column definition...\n",
      "Checking column definition...\n",
      "Loading data...\n",
      "Dropping columns / rows...\n",
      "Checking for NA values...\n",
      "Setting data types...\n",
      "Dropping columns / rows...\n",
      "Encoding data...\n",
      "\tUpdated column definition:\n",
      "\t\tid: REAL_VALUED (ID)\n",
      "\t\ttime: DATE (TIME)\n",
      "\t\tgl: REAL_VALUED (TARGET)\n",
      "\t\tAge: REAL_VALUED (STATIC_INPUT)\n",
      "\t\tBMI: REAL_VALUED (STATIC_INPUT)\n",
      "\t\tA1C: REAL_VALUED (STATIC_INPUT)\n",
      "\t\tFBG: REAL_VALUED (STATIC_INPUT)\n",
      "\t\togtt.2hr: REAL_VALUED (STATIC_INPUT)\n",
      "\t\tinsulin: REAL_VALUED (STATIC_INPUT)\n",
      "\t\ths.CRP: REAL_VALUED (STATIC_INPUT)\n",
      "\t\tTchol: REAL_VALUED (STATIC_INPUT)\n",
      "\t\tTrg: REAL_VALUED (STATIC_INPUT)\n",
      "\t\tHDL: REAL_VALUED (STATIC_INPUT)\n",
      "\t\tLDL: REAL_VALUED (STATIC_INPUT)\n",
      "\t\tmean_glucose: REAL_VALUED (STATIC_INPUT)\n",
      "\t\tsd_glucose: REAL_VALUED (STATIC_INPUT)\n",
      "\t\trange_glucose: REAL_VALUED (STATIC_INPUT)\n",
      "\t\tmin_glucose: REAL_VALUED (STATIC_INPUT)\n",
      "\t\tmax_glucose: REAL_VALUED (STATIC_INPUT)\n",
      "\t\tquartile.25_glucose: REAL_VALUED (STATIC_INPUT)\n",
      "\t\tmedian_glucose: REAL_VALUED (STATIC_INPUT)\n",
      "\t\tquartile.75_glucose: REAL_VALUED (STATIC_INPUT)\n",
      "\t\tmean_slope: REAL_VALUED (STATIC_INPUT)\n",
      "\t\tmax_slope: REAL_VALUED (STATIC_INPUT)\n",
      "\t\tnumber_Random140: REAL_VALUED (STATIC_INPUT)\n",
      "\t\tnumber_Random200: REAL_VALUED (STATIC_INPUT)\n",
      "\t\tpercent_below.80: REAL_VALUED (STATIC_INPUT)\n",
      "\t\tse_glucose_mean: REAL_VALUED (STATIC_INPUT)\n",
      "\t\tnumGE: REAL_VALUED (STATIC_INPUT)\n",
      "\t\tmage: REAL_VALUED (STATIC_INPUT)\n",
      "\t\tj_index: REAL_VALUED (STATIC_INPUT)\n",
      "\t\tIQR: REAL_VALUED (STATIC_INPUT)\n",
      "\t\tmodd: REAL_VALUED (STATIC_INPUT)\n",
      "\t\tdistance_traveled: REAL_VALUED (STATIC_INPUT)\n",
      "\t\tcoef_variation: REAL_VALUED (STATIC_INPUT)\n",
      "\t\tnumber_Random140_normByDays: REAL_VALUED (STATIC_INPUT)\n",
      "\t\tnumber_Random200_normByDays: REAL_VALUED (STATIC_INPUT)\n",
      "\t\tnumGE_normByDays: REAL_VALUED (STATIC_INPUT)\n",
      "\t\tdistance_traveled_normByDays: REAL_VALUED (STATIC_INPUT)\n",
      "\t\tdiagnosis: REAL_VALUED (STATIC_INPUT)\n",
      "\t\tfreq_low: REAL_VALUED (STATIC_INPUT)\n",
      "\t\tfreq_moderate: REAL_VALUED (STATIC_INPUT)\n",
      "\t\tfreq_severe: REAL_VALUED (STATIC_INPUT)\n",
      "\t\tglucotype: REAL_VALUED (STATIC_INPUT)\n",
      "\t\tHeight: REAL_VALUED (STATIC_INPUT)\n",
      "\t\tWeight: REAL_VALUED (STATIC_INPUT)\n",
      "\t\tInsulin_rate_dd: REAL_VALUED (STATIC_INPUT)\n",
      "\t\tperc_cgm_prediabetic_range: REAL_VALUED (STATIC_INPUT)\n",
      "\t\tperc_cgm_diabetic_range: REAL_VALUED (STATIC_INPUT)\n",
      "\t\tSSPG: REAL_VALUED (STATIC_INPUT)\n",
      "\t\ttime_year: REAL_VALUED (KNOWN_INPUT)\n",
      "\t\ttime_month: REAL_VALUED (KNOWN_INPUT)\n",
      "\t\ttime_day: REAL_VALUED (KNOWN_INPUT)\n",
      "\t\ttime_hour: REAL_VALUED (KNOWN_INPUT)\n",
      "\t\ttime_minute: REAL_VALUED (KNOWN_INPUT)\n",
      "Interpolating data...\n",
      "\tDropped segments: 160\n",
      "\tExtracted segments: 152\n",
      "\tInterpolated values: 8003\n",
      "\tPercent of values interpolated: 8.57%\n",
      "Splitting data...\n",
      "\tTrain: 62461 (61.57%)\n",
      "\tVal: 12357 (12.18%)\n",
      "\tTest: 16517 (16.28%)\n",
      "\tTest OOD: 10113 (9.97%)\n",
      "Scaling data...\n",
      "\tNo scaling applied\n",
      "Data formatting complete.\n",
      "--------------------------------\n"
     ]
    }
   ],
   "source": [
    "# all fro original example.ipynb, but with a different dataset\n",
    "import yaml\n",
    "from data_formatter.base import DataFormatter\n",
    "\n",
    "# load config file\n",
    "dataset = 'hall' # changed from 'weinstock' dataset\n",
    "with open(f'./config/{dataset}.yaml', 'r') as f:\n",
    "    config = yaml.safe_load(f)\n",
    "# create data formatter: loads the data and performs the pre-processing\n",
    "formatter = DataFormatter(config)"
   ]
  },
  {
   "attachments": {},
   "cell_type": "markdown",
   "metadata": {},
   "source": [
    "Once the data is loaded and pre-processed, we can access the underlying tables via the following set of commands. "
   ]
  },
  {
   "cell_type": "code",
   "execution_count": 4,
   "metadata": {},
   "outputs": [
    {
     "data": {
      "text/html": [
       "<div>\n",
       "<style scoped>\n",
       "    .dataframe tbody tr th:only-of-type {\n",
       "        vertical-align: middle;\n",
       "    }\n",
       "\n",
       "    .dataframe tbody tr th {\n",
       "        vertical-align: top;\n",
       "    }\n",
       "\n",
       "    .dataframe thead th {\n",
       "        text-align: right;\n",
       "    }\n",
       "</style>\n",
       "<table border=\"1\" class=\"dataframe\">\n",
       "  <thead>\n",
       "    <tr style=\"text-align: right;\">\n",
       "      <th></th>\n",
       "      <th>time</th>\n",
       "      <th>id</th>\n",
       "      <th>gl</th>\n",
       "      <th>Age</th>\n",
       "      <th>BMI</th>\n",
       "      <th>A1C</th>\n",
       "      <th>FBG</th>\n",
       "      <th>ogtt.2hr</th>\n",
       "      <th>insulin</th>\n",
       "      <th>hs.CRP</th>\n",
       "      <th>...</th>\n",
       "      <th>Insulin_rate_dd</th>\n",
       "      <th>perc_cgm_prediabetic_range</th>\n",
       "      <th>perc_cgm_diabetic_range</th>\n",
       "      <th>SSPG</th>\n",
       "      <th>time_year</th>\n",
       "      <th>time_month</th>\n",
       "      <th>time_day</th>\n",
       "      <th>time_hour</th>\n",
       "      <th>time_minute</th>\n",
       "      <th>id_segment</th>\n",
       "    </tr>\n",
       "  </thead>\n",
       "  <tbody>\n",
       "    <tr>\n",
       "      <th>0</th>\n",
       "      <td>2014-02-03 03:42:00</td>\n",
       "      <td>0.0</td>\n",
       "      <td>93.0</td>\n",
       "      <td>59.0</td>\n",
       "      <td>21.700001</td>\n",
       "      <td>6.7</td>\n",
       "      <td>109.0</td>\n",
       "      <td>205.0</td>\n",
       "      <td>9.0</td>\n",
       "      <td>0.3</td>\n",
       "      <td>...</td>\n",
       "      <td>0.1015</td>\n",
       "      <td>0.190404</td>\n",
       "      <td>0.026211</td>\n",
       "      <td>91.0</td>\n",
       "      <td>2014.0</td>\n",
       "      <td>2.0</td>\n",
       "      <td>3.0</td>\n",
       "      <td>3.0</td>\n",
       "      <td>42.0</td>\n",
       "      <td>0</td>\n",
       "    </tr>\n",
       "    <tr>\n",
       "      <th>1</th>\n",
       "      <td>2014-02-03 03:47:00</td>\n",
       "      <td>0.0</td>\n",
       "      <td>93.0</td>\n",
       "      <td>59.0</td>\n",
       "      <td>21.700001</td>\n",
       "      <td>6.7</td>\n",
       "      <td>109.0</td>\n",
       "      <td>205.0</td>\n",
       "      <td>9.0</td>\n",
       "      <td>0.3</td>\n",
       "      <td>...</td>\n",
       "      <td>0.1015</td>\n",
       "      <td>0.190404</td>\n",
       "      <td>0.026211</td>\n",
       "      <td>91.0</td>\n",
       "      <td>2014.0</td>\n",
       "      <td>2.0</td>\n",
       "      <td>3.0</td>\n",
       "      <td>3.0</td>\n",
       "      <td>47.0</td>\n",
       "      <td>0</td>\n",
       "    </tr>\n",
       "    <tr>\n",
       "      <th>2</th>\n",
       "      <td>2014-02-03 03:52:00</td>\n",
       "      <td>0.0</td>\n",
       "      <td>93.0</td>\n",
       "      <td>59.0</td>\n",
       "      <td>21.700001</td>\n",
       "      <td>6.7</td>\n",
       "      <td>109.0</td>\n",
       "      <td>205.0</td>\n",
       "      <td>9.0</td>\n",
       "      <td>0.3</td>\n",
       "      <td>...</td>\n",
       "      <td>0.1015</td>\n",
       "      <td>0.190404</td>\n",
       "      <td>0.026211</td>\n",
       "      <td>91.0</td>\n",
       "      <td>2014.0</td>\n",
       "      <td>2.0</td>\n",
       "      <td>3.0</td>\n",
       "      <td>3.0</td>\n",
       "      <td>52.0</td>\n",
       "      <td>0</td>\n",
       "    </tr>\n",
       "    <tr>\n",
       "      <th>3</th>\n",
       "      <td>2014-02-03 03:57:00</td>\n",
       "      <td>0.0</td>\n",
       "      <td>95.0</td>\n",
       "      <td>59.0</td>\n",
       "      <td>21.700001</td>\n",
       "      <td>6.7</td>\n",
       "      <td>109.0</td>\n",
       "      <td>205.0</td>\n",
       "      <td>9.0</td>\n",
       "      <td>0.3</td>\n",
       "      <td>...</td>\n",
       "      <td>0.1015</td>\n",
       "      <td>0.190404</td>\n",
       "      <td>0.026211</td>\n",
       "      <td>91.0</td>\n",
       "      <td>2014.0</td>\n",
       "      <td>2.0</td>\n",
       "      <td>3.0</td>\n",
       "      <td>3.0</td>\n",
       "      <td>57.0</td>\n",
       "      <td>0</td>\n",
       "    </tr>\n",
       "    <tr>\n",
       "      <th>4</th>\n",
       "      <td>2014-02-03 04:02:00</td>\n",
       "      <td>0.0</td>\n",
       "      <td>96.0</td>\n",
       "      <td>59.0</td>\n",
       "      <td>21.700001</td>\n",
       "      <td>6.7</td>\n",
       "      <td>109.0</td>\n",
       "      <td>205.0</td>\n",
       "      <td>9.0</td>\n",
       "      <td>0.3</td>\n",
       "      <td>...</td>\n",
       "      <td>0.1015</td>\n",
       "      <td>0.190404</td>\n",
       "      <td>0.026211</td>\n",
       "      <td>91.0</td>\n",
       "      <td>2014.0</td>\n",
       "      <td>2.0</td>\n",
       "      <td>3.0</td>\n",
       "      <td>4.0</td>\n",
       "      <td>2.0</td>\n",
       "      <td>0</td>\n",
       "    </tr>\n",
       "  </tbody>\n",
       "</table>\n",
       "<p>5 rows × 56 columns</p>\n",
       "</div>"
      ],
      "text/plain": [
       "                 time   id    gl   Age        BMI  A1C    FBG  ogtt.2hr  \\\n",
       "0 2014-02-03 03:42:00  0.0  93.0  59.0  21.700001  6.7  109.0     205.0   \n",
       "1 2014-02-03 03:47:00  0.0  93.0  59.0  21.700001  6.7  109.0     205.0   \n",
       "2 2014-02-03 03:52:00  0.0  93.0  59.0  21.700001  6.7  109.0     205.0   \n",
       "3 2014-02-03 03:57:00  0.0  95.0  59.0  21.700001  6.7  109.0     205.0   \n",
       "4 2014-02-03 04:02:00  0.0  96.0  59.0  21.700001  6.7  109.0     205.0   \n",
       "\n",
       "   insulin  hs.CRP  ...  Insulin_rate_dd  perc_cgm_prediabetic_range  \\\n",
       "0      9.0     0.3  ...           0.1015                    0.190404   \n",
       "1      9.0     0.3  ...           0.1015                    0.190404   \n",
       "2      9.0     0.3  ...           0.1015                    0.190404   \n",
       "3      9.0     0.3  ...           0.1015                    0.190404   \n",
       "4      9.0     0.3  ...           0.1015                    0.190404   \n",
       "\n",
       "   perc_cgm_diabetic_range  SSPG  time_year  time_month  time_day  time_hour  \\\n",
       "0                 0.026211  91.0     2014.0         2.0       3.0        3.0   \n",
       "1                 0.026211  91.0     2014.0         2.0       3.0        3.0   \n",
       "2                 0.026211  91.0     2014.0         2.0       3.0        3.0   \n",
       "3                 0.026211  91.0     2014.0         2.0       3.0        3.0   \n",
       "4                 0.026211  91.0     2014.0         2.0       3.0        4.0   \n",
       "\n",
       "   time_minute  id_segment  \n",
       "0         42.0           0  \n",
       "1         47.0           0  \n",
       "2         52.0           0  \n",
       "3         57.0           0  \n",
       "4          2.0           0  \n",
       "\n",
       "[5 rows x 56 columns]"
      ]
     },
     "execution_count": 4,
     "metadata": {},
     "output_type": "execute_result"
    }
   ],
   "source": [
    "# full data, unscaled\n",
    "formatter.data.head()"
   ]
  },
  {
   "cell_type": "code",
   "execution_count": 5,
   "metadata": {},
   "outputs": [
    {
     "data": {
      "text/html": [
       "<div>\n",
       "<style scoped>\n",
       "    .dataframe tbody tr th:only-of-type {\n",
       "        vertical-align: middle;\n",
       "    }\n",
       "\n",
       "    .dataframe tbody tr th {\n",
       "        vertical-align: top;\n",
       "    }\n",
       "\n",
       "    .dataframe thead th {\n",
       "        text-align: right;\n",
       "    }\n",
       "</style>\n",
       "<table border=\"1\" class=\"dataframe\">\n",
       "  <thead>\n",
       "    <tr style=\"text-align: right;\">\n",
       "      <th></th>\n",
       "      <th>time</th>\n",
       "      <th>id</th>\n",
       "      <th>gl</th>\n",
       "      <th>Age</th>\n",
       "      <th>BMI</th>\n",
       "      <th>A1C</th>\n",
       "      <th>FBG</th>\n",
       "      <th>ogtt.2hr</th>\n",
       "      <th>insulin</th>\n",
       "      <th>hs.CRP</th>\n",
       "      <th>...</th>\n",
       "      <th>Insulin_rate_dd</th>\n",
       "      <th>perc_cgm_prediabetic_range</th>\n",
       "      <th>perc_cgm_diabetic_range</th>\n",
       "      <th>SSPG</th>\n",
       "      <th>time_year</th>\n",
       "      <th>time_month</th>\n",
       "      <th>time_day</th>\n",
       "      <th>time_hour</th>\n",
       "      <th>time_minute</th>\n",
       "      <th>id_segment</th>\n",
       "    </tr>\n",
       "  </thead>\n",
       "  <tbody>\n",
       "    <tr>\n",
       "      <th>0</th>\n",
       "      <td>2014-02-03 03:42:00</td>\n",
       "      <td>0.0</td>\n",
       "      <td>93.0</td>\n",
       "      <td>59.0</td>\n",
       "      <td>21.700001</td>\n",
       "      <td>6.7</td>\n",
       "      <td>109.0</td>\n",
       "      <td>205.0</td>\n",
       "      <td>9.0</td>\n",
       "      <td>0.3</td>\n",
       "      <td>...</td>\n",
       "      <td>0.1015</td>\n",
       "      <td>0.190404</td>\n",
       "      <td>0.026211</td>\n",
       "      <td>91.0</td>\n",
       "      <td>2014.0</td>\n",
       "      <td>2.0</td>\n",
       "      <td>3.0</td>\n",
       "      <td>3.0</td>\n",
       "      <td>42.0</td>\n",
       "      <td>0</td>\n",
       "    </tr>\n",
       "    <tr>\n",
       "      <th>1</th>\n",
       "      <td>2014-02-03 03:47:00</td>\n",
       "      <td>0.0</td>\n",
       "      <td>93.0</td>\n",
       "      <td>59.0</td>\n",
       "      <td>21.700001</td>\n",
       "      <td>6.7</td>\n",
       "      <td>109.0</td>\n",
       "      <td>205.0</td>\n",
       "      <td>9.0</td>\n",
       "      <td>0.3</td>\n",
       "      <td>...</td>\n",
       "      <td>0.1015</td>\n",
       "      <td>0.190404</td>\n",
       "      <td>0.026211</td>\n",
       "      <td>91.0</td>\n",
       "      <td>2014.0</td>\n",
       "      <td>2.0</td>\n",
       "      <td>3.0</td>\n",
       "      <td>3.0</td>\n",
       "      <td>47.0</td>\n",
       "      <td>0</td>\n",
       "    </tr>\n",
       "    <tr>\n",
       "      <th>2</th>\n",
       "      <td>2014-02-03 03:52:00</td>\n",
       "      <td>0.0</td>\n",
       "      <td>93.0</td>\n",
       "      <td>59.0</td>\n",
       "      <td>21.700001</td>\n",
       "      <td>6.7</td>\n",
       "      <td>109.0</td>\n",
       "      <td>205.0</td>\n",
       "      <td>9.0</td>\n",
       "      <td>0.3</td>\n",
       "      <td>...</td>\n",
       "      <td>0.1015</td>\n",
       "      <td>0.190404</td>\n",
       "      <td>0.026211</td>\n",
       "      <td>91.0</td>\n",
       "      <td>2014.0</td>\n",
       "      <td>2.0</td>\n",
       "      <td>3.0</td>\n",
       "      <td>3.0</td>\n",
       "      <td>52.0</td>\n",
       "      <td>0</td>\n",
       "    </tr>\n",
       "    <tr>\n",
       "      <th>3</th>\n",
       "      <td>2014-02-03 03:57:00</td>\n",
       "      <td>0.0</td>\n",
       "      <td>95.0</td>\n",
       "      <td>59.0</td>\n",
       "      <td>21.700001</td>\n",
       "      <td>6.7</td>\n",
       "      <td>109.0</td>\n",
       "      <td>205.0</td>\n",
       "      <td>9.0</td>\n",
       "      <td>0.3</td>\n",
       "      <td>...</td>\n",
       "      <td>0.1015</td>\n",
       "      <td>0.190404</td>\n",
       "      <td>0.026211</td>\n",
       "      <td>91.0</td>\n",
       "      <td>2014.0</td>\n",
       "      <td>2.0</td>\n",
       "      <td>3.0</td>\n",
       "      <td>3.0</td>\n",
       "      <td>57.0</td>\n",
       "      <td>0</td>\n",
       "    </tr>\n",
       "    <tr>\n",
       "      <th>4</th>\n",
       "      <td>2014-02-03 04:02:00</td>\n",
       "      <td>0.0</td>\n",
       "      <td>96.0</td>\n",
       "      <td>59.0</td>\n",
       "      <td>21.700001</td>\n",
       "      <td>6.7</td>\n",
       "      <td>109.0</td>\n",
       "      <td>205.0</td>\n",
       "      <td>9.0</td>\n",
       "      <td>0.3</td>\n",
       "      <td>...</td>\n",
       "      <td>0.1015</td>\n",
       "      <td>0.190404</td>\n",
       "      <td>0.026211</td>\n",
       "      <td>91.0</td>\n",
       "      <td>2014.0</td>\n",
       "      <td>2.0</td>\n",
       "      <td>3.0</td>\n",
       "      <td>4.0</td>\n",
       "      <td>2.0</td>\n",
       "      <td>0</td>\n",
       "    </tr>\n",
       "  </tbody>\n",
       "</table>\n",
       "<p>5 rows × 56 columns</p>\n",
       "</div>"
      ],
      "text/plain": [
       "                 time   id    gl   Age        BMI  A1C    FBG  ogtt.2hr  \\\n",
       "0 2014-02-03 03:42:00  0.0  93.0  59.0  21.700001  6.7  109.0     205.0   \n",
       "1 2014-02-03 03:47:00  0.0  93.0  59.0  21.700001  6.7  109.0     205.0   \n",
       "2 2014-02-03 03:52:00  0.0  93.0  59.0  21.700001  6.7  109.0     205.0   \n",
       "3 2014-02-03 03:57:00  0.0  95.0  59.0  21.700001  6.7  109.0     205.0   \n",
       "4 2014-02-03 04:02:00  0.0  96.0  59.0  21.700001  6.7  109.0     205.0   \n",
       "\n",
       "   insulin  hs.CRP  ...  Insulin_rate_dd  perc_cgm_prediabetic_range  \\\n",
       "0      9.0     0.3  ...           0.1015                    0.190404   \n",
       "1      9.0     0.3  ...           0.1015                    0.190404   \n",
       "2      9.0     0.3  ...           0.1015                    0.190404   \n",
       "3      9.0     0.3  ...           0.1015                    0.190404   \n",
       "4      9.0     0.3  ...           0.1015                    0.190404   \n",
       "\n",
       "   perc_cgm_diabetic_range  SSPG  time_year  time_month  time_day  time_hour  \\\n",
       "0                 0.026211  91.0     2014.0         2.0       3.0        3.0   \n",
       "1                 0.026211  91.0     2014.0         2.0       3.0        3.0   \n",
       "2                 0.026211  91.0     2014.0         2.0       3.0        3.0   \n",
       "3                 0.026211  91.0     2014.0         2.0       3.0        3.0   \n",
       "4                 0.026211  91.0     2014.0         2.0       3.0        4.0   \n",
       "\n",
       "   time_minute  id_segment  \n",
       "0         42.0           0  \n",
       "1         47.0           0  \n",
       "2         52.0           0  \n",
       "3         57.0           0  \n",
       "4          2.0           0  \n",
       "\n",
       "[5 rows x 56 columns]"
      ]
     },
     "execution_count": 5,
     "metadata": {},
     "output_type": "execute_result"
    }
   ],
   "source": [
    "# train data, scaled\n",
    "formatter.train_data.head()"
   ]
  },
  {
   "cell_type": "code",
   "execution_count": 6,
   "metadata": {},
   "outputs": [
    {
     "data": {
      "text/html": [
       "<div>\n",
       "<style scoped>\n",
       "    .dataframe tbody tr th:only-of-type {\n",
       "        vertical-align: middle;\n",
       "    }\n",
       "\n",
       "    .dataframe tbody tr th {\n",
       "        vertical-align: top;\n",
       "    }\n",
       "\n",
       "    .dataframe thead th {\n",
       "        text-align: right;\n",
       "    }\n",
       "</style>\n",
       "<table border=\"1\" class=\"dataframe\">\n",
       "  <thead>\n",
       "    <tr style=\"text-align: right;\">\n",
       "      <th></th>\n",
       "      <th>time</th>\n",
       "      <th>id</th>\n",
       "      <th>gl</th>\n",
       "      <th>Age</th>\n",
       "      <th>BMI</th>\n",
       "      <th>A1C</th>\n",
       "      <th>FBG</th>\n",
       "      <th>ogtt.2hr</th>\n",
       "      <th>insulin</th>\n",
       "      <th>hs.CRP</th>\n",
       "      <th>...</th>\n",
       "      <th>Insulin_rate_dd</th>\n",
       "      <th>perc_cgm_prediabetic_range</th>\n",
       "      <th>perc_cgm_diabetic_range</th>\n",
       "      <th>SSPG</th>\n",
       "      <th>time_year</th>\n",
       "      <th>time_month</th>\n",
       "      <th>time_day</th>\n",
       "      <th>time_hour</th>\n",
       "      <th>time_minute</th>\n",
       "      <th>id_segment</th>\n",
       "    </tr>\n",
       "  </thead>\n",
       "  <tbody>\n",
       "    <tr>\n",
       "      <th>3540</th>\n",
       "      <td>2015-04-02 13:33:00</td>\n",
       "      <td>2.0</td>\n",
       "      <td>129.0</td>\n",
       "      <td>50.0</td>\n",
       "      <td>27.299999</td>\n",
       "      <td>5.2</td>\n",
       "      <td>91.0</td>\n",
       "      <td>121.0</td>\n",
       "      <td>4.0</td>\n",
       "      <td>4.4</td>\n",
       "      <td>...</td>\n",
       "      <td>-1.0</td>\n",
       "      <td>0.071429</td>\n",
       "      <td>0.001544</td>\n",
       "      <td>75.0</td>\n",
       "      <td>2015.0</td>\n",
       "      <td>4.0</td>\n",
       "      <td>2.0</td>\n",
       "      <td>13.0</td>\n",
       "      <td>33.0</td>\n",
       "      <td>5</td>\n",
       "    </tr>\n",
       "    <tr>\n",
       "      <th>3541</th>\n",
       "      <td>2015-04-02 13:38:00</td>\n",
       "      <td>2.0</td>\n",
       "      <td>131.0</td>\n",
       "      <td>50.0</td>\n",
       "      <td>27.299999</td>\n",
       "      <td>5.2</td>\n",
       "      <td>91.0</td>\n",
       "      <td>121.0</td>\n",
       "      <td>4.0</td>\n",
       "      <td>4.4</td>\n",
       "      <td>...</td>\n",
       "      <td>-1.0</td>\n",
       "      <td>0.071429</td>\n",
       "      <td>0.001544</td>\n",
       "      <td>75.0</td>\n",
       "      <td>2015.0</td>\n",
       "      <td>4.0</td>\n",
       "      <td>2.0</td>\n",
       "      <td>13.0</td>\n",
       "      <td>38.0</td>\n",
       "      <td>5</td>\n",
       "    </tr>\n",
       "    <tr>\n",
       "      <th>3542</th>\n",
       "      <td>2015-04-02 13:43:00</td>\n",
       "      <td>2.0</td>\n",
       "      <td>132.0</td>\n",
       "      <td>50.0</td>\n",
       "      <td>27.299999</td>\n",
       "      <td>5.2</td>\n",
       "      <td>91.0</td>\n",
       "      <td>121.0</td>\n",
       "      <td>4.0</td>\n",
       "      <td>4.4</td>\n",
       "      <td>...</td>\n",
       "      <td>-1.0</td>\n",
       "      <td>0.071429</td>\n",
       "      <td>0.001544</td>\n",
       "      <td>75.0</td>\n",
       "      <td>2015.0</td>\n",
       "      <td>4.0</td>\n",
       "      <td>2.0</td>\n",
       "      <td>13.0</td>\n",
       "      <td>43.0</td>\n",
       "      <td>5</td>\n",
       "    </tr>\n",
       "    <tr>\n",
       "      <th>3543</th>\n",
       "      <td>2015-04-02 13:48:00</td>\n",
       "      <td>2.0</td>\n",
       "      <td>137.0</td>\n",
       "      <td>50.0</td>\n",
       "      <td>27.299999</td>\n",
       "      <td>5.2</td>\n",
       "      <td>91.0</td>\n",
       "      <td>121.0</td>\n",
       "      <td>4.0</td>\n",
       "      <td>4.4</td>\n",
       "      <td>...</td>\n",
       "      <td>-1.0</td>\n",
       "      <td>0.071429</td>\n",
       "      <td>0.001544</td>\n",
       "      <td>75.0</td>\n",
       "      <td>2015.0</td>\n",
       "      <td>4.0</td>\n",
       "      <td>2.0</td>\n",
       "      <td>13.0</td>\n",
       "      <td>48.0</td>\n",
       "      <td>5</td>\n",
       "    </tr>\n",
       "    <tr>\n",
       "      <th>3544</th>\n",
       "      <td>2015-04-02 13:53:00</td>\n",
       "      <td>2.0</td>\n",
       "      <td>135.0</td>\n",
       "      <td>50.0</td>\n",
       "      <td>27.299999</td>\n",
       "      <td>5.2</td>\n",
       "      <td>91.0</td>\n",
       "      <td>121.0</td>\n",
       "      <td>4.0</td>\n",
       "      <td>4.4</td>\n",
       "      <td>...</td>\n",
       "      <td>-1.0</td>\n",
       "      <td>0.071429</td>\n",
       "      <td>0.001544</td>\n",
       "      <td>75.0</td>\n",
       "      <td>2015.0</td>\n",
       "      <td>4.0</td>\n",
       "      <td>2.0</td>\n",
       "      <td>13.0</td>\n",
       "      <td>53.0</td>\n",
       "      <td>5</td>\n",
       "    </tr>\n",
       "  </tbody>\n",
       "</table>\n",
       "<p>5 rows × 56 columns</p>\n",
       "</div>"
      ],
      "text/plain": [
       "                    time   id     gl   Age        BMI  A1C   FBG  ogtt.2hr  \\\n",
       "3540 2015-04-02 13:33:00  2.0  129.0  50.0  27.299999  5.2  91.0     121.0   \n",
       "3541 2015-04-02 13:38:00  2.0  131.0  50.0  27.299999  5.2  91.0     121.0   \n",
       "3542 2015-04-02 13:43:00  2.0  132.0  50.0  27.299999  5.2  91.0     121.0   \n",
       "3543 2015-04-02 13:48:00  2.0  137.0  50.0  27.299999  5.2  91.0     121.0   \n",
       "3544 2015-04-02 13:53:00  2.0  135.0  50.0  27.299999  5.2  91.0     121.0   \n",
       "\n",
       "      insulin  hs.CRP  ...  Insulin_rate_dd  perc_cgm_prediabetic_range  \\\n",
       "3540      4.0     4.4  ...             -1.0                    0.071429   \n",
       "3541      4.0     4.4  ...             -1.0                    0.071429   \n",
       "3542      4.0     4.4  ...             -1.0                    0.071429   \n",
       "3543      4.0     4.4  ...             -1.0                    0.071429   \n",
       "3544      4.0     4.4  ...             -1.0                    0.071429   \n",
       "\n",
       "      perc_cgm_diabetic_range  SSPG  time_year  time_month  time_day  \\\n",
       "3540                 0.001544  75.0     2015.0         4.0       2.0   \n",
       "3541                 0.001544  75.0     2015.0         4.0       2.0   \n",
       "3542                 0.001544  75.0     2015.0         4.0       2.0   \n",
       "3543                 0.001544  75.0     2015.0         4.0       2.0   \n",
       "3544                 0.001544  75.0     2015.0         4.0       2.0   \n",
       "\n",
       "      time_hour  time_minute  id_segment  \n",
       "3540       13.0         33.0           5  \n",
       "3541       13.0         38.0           5  \n",
       "3542       13.0         43.0           5  \n",
       "3543       13.0         48.0           5  \n",
       "3544       13.0         53.0           5  \n",
       "\n",
       "[5 rows x 56 columns]"
      ]
     },
     "execution_count": 6,
     "metadata": {},
     "output_type": "execute_result"
    }
   ],
   "source": [
    "# out-of-distribution test data, scaled (OOD meaning test set differs significantly from training)\n",
    "formatter.test_data[formatter.test_data.index.isin(formatter.test_idx_ood)].head()"
   ]
  },
  {
   "cell_type": "code",
   "execution_count": 7,
   "metadata": {},
   "outputs": [
    {
     "data": {
      "text/html": [
       "<div>\n",
       "<style scoped>\n",
       "    .dataframe tbody tr th:only-of-type {\n",
       "        vertical-align: middle;\n",
       "    }\n",
       "\n",
       "    .dataframe tbody tr th {\n",
       "        vertical-align: top;\n",
       "    }\n",
       "\n",
       "    .dataframe thead th {\n",
       "        text-align: right;\n",
       "    }\n",
       "</style>\n",
       "<table border=\"1\" class=\"dataframe\">\n",
       "  <thead>\n",
       "    <tr style=\"text-align: right;\">\n",
       "      <th></th>\n",
       "      <th>time</th>\n",
       "      <th>id</th>\n",
       "      <th>gl</th>\n",
       "      <th>Age</th>\n",
       "      <th>BMI</th>\n",
       "      <th>A1C</th>\n",
       "      <th>FBG</th>\n",
       "      <th>ogtt.2hr</th>\n",
       "      <th>insulin</th>\n",
       "      <th>hs.CRP</th>\n",
       "      <th>...</th>\n",
       "      <th>Insulin_rate_dd</th>\n",
       "      <th>perc_cgm_prediabetic_range</th>\n",
       "      <th>perc_cgm_diabetic_range</th>\n",
       "      <th>SSPG</th>\n",
       "      <th>time_year</th>\n",
       "      <th>time_month</th>\n",
       "      <th>time_day</th>\n",
       "      <th>time_hour</th>\n",
       "      <th>time_minute</th>\n",
       "      <th>id_segment</th>\n",
       "    </tr>\n",
       "  </thead>\n",
       "  <tbody>\n",
       "    <tr>\n",
       "      <th>1434</th>\n",
       "      <td>2015-04-01 11:13:00</td>\n",
       "      <td>0.0</td>\n",
       "      <td>87.0</td>\n",
       "      <td>59.0</td>\n",
       "      <td>21.700001</td>\n",
       "      <td>6.7</td>\n",
       "      <td>109.0</td>\n",
       "      <td>205.0</td>\n",
       "      <td>9.0</td>\n",
       "      <td>0.3</td>\n",
       "      <td>...</td>\n",
       "      <td>0.1015</td>\n",
       "      <td>0.190404</td>\n",
       "      <td>0.026211</td>\n",
       "      <td>91.0</td>\n",
       "      <td>2015.0</td>\n",
       "      <td>4.0</td>\n",
       "      <td>1.0</td>\n",
       "      <td>11.0</td>\n",
       "      <td>13.0</td>\n",
       "      <td>2</td>\n",
       "    </tr>\n",
       "    <tr>\n",
       "      <th>1435</th>\n",
       "      <td>2015-04-01 11:18:00</td>\n",
       "      <td>0.0</td>\n",
       "      <td>87.0</td>\n",
       "      <td>59.0</td>\n",
       "      <td>21.700001</td>\n",
       "      <td>6.7</td>\n",
       "      <td>109.0</td>\n",
       "      <td>205.0</td>\n",
       "      <td>9.0</td>\n",
       "      <td>0.3</td>\n",
       "      <td>...</td>\n",
       "      <td>0.1015</td>\n",
       "      <td>0.190404</td>\n",
       "      <td>0.026211</td>\n",
       "      <td>91.0</td>\n",
       "      <td>2015.0</td>\n",
       "      <td>4.0</td>\n",
       "      <td>1.0</td>\n",
       "      <td>11.0</td>\n",
       "      <td>18.0</td>\n",
       "      <td>2</td>\n",
       "    </tr>\n",
       "    <tr>\n",
       "      <th>1436</th>\n",
       "      <td>2015-04-01 11:23:00</td>\n",
       "      <td>0.0</td>\n",
       "      <td>89.0</td>\n",
       "      <td>59.0</td>\n",
       "      <td>21.700001</td>\n",
       "      <td>6.7</td>\n",
       "      <td>109.0</td>\n",
       "      <td>205.0</td>\n",
       "      <td>9.0</td>\n",
       "      <td>0.3</td>\n",
       "      <td>...</td>\n",
       "      <td>0.1015</td>\n",
       "      <td>0.190404</td>\n",
       "      <td>0.026211</td>\n",
       "      <td>91.0</td>\n",
       "      <td>2015.0</td>\n",
       "      <td>4.0</td>\n",
       "      <td>1.0</td>\n",
       "      <td>11.0</td>\n",
       "      <td>23.0</td>\n",
       "      <td>2</td>\n",
       "    </tr>\n",
       "    <tr>\n",
       "      <th>1437</th>\n",
       "      <td>2015-04-01 11:28:00</td>\n",
       "      <td>0.0</td>\n",
       "      <td>92.0</td>\n",
       "      <td>59.0</td>\n",
       "      <td>21.700001</td>\n",
       "      <td>6.7</td>\n",
       "      <td>109.0</td>\n",
       "      <td>205.0</td>\n",
       "      <td>9.0</td>\n",
       "      <td>0.3</td>\n",
       "      <td>...</td>\n",
       "      <td>0.1015</td>\n",
       "      <td>0.190404</td>\n",
       "      <td>0.026211</td>\n",
       "      <td>91.0</td>\n",
       "      <td>2015.0</td>\n",
       "      <td>4.0</td>\n",
       "      <td>1.0</td>\n",
       "      <td>11.0</td>\n",
       "      <td>28.0</td>\n",
       "      <td>2</td>\n",
       "    </tr>\n",
       "    <tr>\n",
       "      <th>1438</th>\n",
       "      <td>2015-04-01 11:33:00</td>\n",
       "      <td>0.0</td>\n",
       "      <td>93.0</td>\n",
       "      <td>59.0</td>\n",
       "      <td>21.700001</td>\n",
       "      <td>6.7</td>\n",
       "      <td>109.0</td>\n",
       "      <td>205.0</td>\n",
       "      <td>9.0</td>\n",
       "      <td>0.3</td>\n",
       "      <td>...</td>\n",
       "      <td>0.1015</td>\n",
       "      <td>0.190404</td>\n",
       "      <td>0.026211</td>\n",
       "      <td>91.0</td>\n",
       "      <td>2015.0</td>\n",
       "      <td>4.0</td>\n",
       "      <td>1.0</td>\n",
       "      <td>11.0</td>\n",
       "      <td>33.0</td>\n",
       "      <td>2</td>\n",
       "    </tr>\n",
       "  </tbody>\n",
       "</table>\n",
       "<p>5 rows × 56 columns</p>\n",
       "</div>"
      ],
      "text/plain": [
       "                    time   id    gl   Age        BMI  A1C    FBG  ogtt.2hr  \\\n",
       "1434 2015-04-01 11:13:00  0.0  87.0  59.0  21.700001  6.7  109.0     205.0   \n",
       "1435 2015-04-01 11:18:00  0.0  87.0  59.0  21.700001  6.7  109.0     205.0   \n",
       "1436 2015-04-01 11:23:00  0.0  89.0  59.0  21.700001  6.7  109.0     205.0   \n",
       "1437 2015-04-01 11:28:00  0.0  92.0  59.0  21.700001  6.7  109.0     205.0   \n",
       "1438 2015-04-01 11:33:00  0.0  93.0  59.0  21.700001  6.7  109.0     205.0   \n",
       "\n",
       "      insulin  hs.CRP  ...  Insulin_rate_dd  perc_cgm_prediabetic_range  \\\n",
       "1434      9.0     0.3  ...           0.1015                    0.190404   \n",
       "1435      9.0     0.3  ...           0.1015                    0.190404   \n",
       "1436      9.0     0.3  ...           0.1015                    0.190404   \n",
       "1437      9.0     0.3  ...           0.1015                    0.190404   \n",
       "1438      9.0     0.3  ...           0.1015                    0.190404   \n",
       "\n",
       "      perc_cgm_diabetic_range  SSPG  time_year  time_month  time_day  \\\n",
       "1434                 0.026211  91.0     2015.0         4.0       1.0   \n",
       "1435                 0.026211  91.0     2015.0         4.0       1.0   \n",
       "1436                 0.026211  91.0     2015.0         4.0       1.0   \n",
       "1437                 0.026211  91.0     2015.0         4.0       1.0   \n",
       "1438                 0.026211  91.0     2015.0         4.0       1.0   \n",
       "\n",
       "      time_hour  time_minute  id_segment  \n",
       "1434       11.0         13.0           2  \n",
       "1435       11.0         18.0           2  \n",
       "1436       11.0         23.0           2  \n",
       "1437       11.0         28.0           2  \n",
       "1438       11.0         33.0           2  \n",
       "\n",
       "[5 rows x 56 columns]"
      ]
     },
     "execution_count": 7,
     "metadata": {},
     "output_type": "execute_result"
    }
   ],
   "source": [
    "formatter.test_data[~formatter.test_data.index.isin(formatter.test_idx_ood)].head()"
   ]
  },
  {
   "cell_type": "code",
   "execution_count": 8,
   "metadata": {},
   "outputs": [
    {
     "data": {
      "text/html": [
       "<div>\n",
       "<style scoped>\n",
       "    .dataframe tbody tr th:only-of-type {\n",
       "        vertical-align: middle;\n",
       "    }\n",
       "\n",
       "    .dataframe tbody tr th {\n",
       "        vertical-align: top;\n",
       "    }\n",
       "\n",
       "    .dataframe thead th {\n",
       "        text-align: right;\n",
       "    }\n",
       "</style>\n",
       "<table border=\"1\" class=\"dataframe\">\n",
       "  <thead>\n",
       "    <tr style=\"text-align: right;\">\n",
       "      <th></th>\n",
       "      <th>num_test_entries_train</th>\n",
       "      <th>max_time</th>\n",
       "      <th>num_test_entries_test</th>\n",
       "      <th>min_time</th>\n",
       "    </tr>\n",
       "    <tr>\n",
       "      <th>id</th>\n",
       "      <th></th>\n",
       "      <th></th>\n",
       "      <th></th>\n",
       "      <th></th>\n",
       "    </tr>\n",
       "  </thead>\n",
       "  <tbody>\n",
       "    <tr>\n",
       "      <th>0.0</th>\n",
       "      <td>1386.0</td>\n",
       "      <td>2015-04-01 07:08:00</td>\n",
       "      <td>336</td>\n",
       "      <td>2015-04-01 11:13:00</td>\n",
       "    </tr>\n",
       "    <tr>\n",
       "      <th>1.0</th>\n",
       "      <td>1386.0</td>\n",
       "      <td>2015-11-29 04:37:00</td>\n",
       "      <td>336</td>\n",
       "      <td>2015-11-29 08:42:00</td>\n",
       "    </tr>\n",
       "    <tr>\n",
       "      <th>2.0</th>\n",
       "      <td>NaN</td>\n",
       "      <td>NaT</td>\n",
       "      <td>1769</td>\n",
       "      <td>2015-04-02 13:33:00</td>\n",
       "    </tr>\n",
       "    <tr>\n",
       "      <th>3.0</th>\n",
       "      <td>1400.0</td>\n",
       "      <td>2016-01-18 09:33:00</td>\n",
       "      <td>336</td>\n",
       "      <td>2016-01-18 13:38:00</td>\n",
       "    </tr>\n",
       "    <tr>\n",
       "      <th>4.0</th>\n",
       "      <td>740.0</td>\n",
       "      <td>2016-01-31 10:02:00</td>\n",
       "      <td>208</td>\n",
       "      <td>2016-02-02 12:37:00</td>\n",
       "    </tr>\n",
       "  </tbody>\n",
       "</table>\n",
       "</div>"
      ],
      "text/plain": [
       "     num_test_entries_train            max_time  num_test_entries_test  \\\n",
       "id                                                                       \n",
       "0.0                  1386.0 2015-04-01 07:08:00                    336   \n",
       "1.0                  1386.0 2015-11-29 04:37:00                    336   \n",
       "2.0                     NaN                 NaT                   1769   \n",
       "3.0                  1400.0 2016-01-18 09:33:00                    336   \n",
       "4.0                   740.0 2016-01-31 10:02:00                    208   \n",
       "\n",
       "               min_time  \n",
       "id                       \n",
       "0.0 2015-04-01 11:13:00  \n",
       "1.0 2015-11-29 08:42:00  \n",
       "2.0 2015-04-02 13:33:00  \n",
       "3.0 2016-01-18 13:38:00  \n",
       "4.0 2016-02-02 12:37:00  "
      ]
     },
     "execution_count": 8,
     "metadata": {},
     "output_type": "execute_result"
    }
   ],
   "source": [
    "# get num of entries for each id in the training data\n",
    "train_counts = formatter.train_data.groupby('id').count().sort_values('id').iloc[:, 0:1].rename(columns={'time': 'num_test_entries'})\n",
    "\n",
    "# add max time from training to train_counts\n",
    "train_counts['max_time'] = formatter.train_data.groupby('id').max().sort_values('id')['time']\n",
    "\n",
    "# join testing data on ids\n",
    "test_counts = formatter.test_data.groupby('id').count().sort_values('id').iloc[:, 0:1].rename(columns={'time': 'num_test_entries'})\n",
    "test_counts['min_time'] = formatter.test_data.groupby('id').min().sort_values('id')['time']\n",
    "\n",
    "train_counts = train_counts.join(test_counts, how='outer', lsuffix='_train', rsuffix='_test')\n",
    "train_counts.head()"
   ]
  },
  {
   "cell_type": "code",
   "execution_count": 50,
   "metadata": {},
   "outputs": [
    {
     "name": "stdout",
     "output_type": "stream",
     "text": [
      "Number of individuals in training set: 50\n",
      "Number of individuals in in-distribution test set: 50\n",
      "Number of individuals in out-of-distribution test set: 6\n"
     ]
    }
   ],
   "source": [
    "# Checking the number of individuals in the training and test sets\n",
    "id_test = formatter.test_data[~formatter.test_data.index.isin(formatter.test_idx_ood)]\n",
    "ood_test = formatter.test_data[formatter.test_data.index.isin(formatter.test_idx_ood)]\n",
    "print(f'Number of individuals in training set: {formatter.train_data[\"id\"].nunique()}')\n",
    "print(f'Number of individuals in in-distribution test set: {id_test[\"id\"].nunique()}')\n",
    "print(f'Number of individuals in out-of-distribution test set: {ood_test[\"id\"].nunique()}')"
   ]
  },
  {
   "cell_type": "code",
   "execution_count": 53,
   "metadata": {},
   "outputs": [
    {
     "name": "stdout",
     "output_type": "stream",
     "text": [
      "Train/Test split ratio: 0.26\n",
      "Train data size: 3497816\n",
      "Test data size: 924952\n"
     ]
    }
   ],
   "source": [
    "# Checking train/test split ratio\n",
    "ratio = id_test.size / formatter.train_data.size\n",
    "print(f'Train/Test split ratio: {ratio:.2f}')\n",
    "# Checking Raw Amounts\n",
    "print(f'Train data size: {formatter.train_data.size}')\n",
    "print(f'Test data size: {id_test.size}')"
   ]
  },
  {
   "cell_type": "code",
   "execution_count": 65,
   "metadata": {},
   "outputs": [
    {
     "data": {
      "text/plain": [
       "count    93384.000000\n",
       "mean       102.418594\n",
       "std         23.194979\n",
       "min         40.000000\n",
       "25%         87.000000\n",
       "50%         99.000000\n",
       "75%        114.000000\n",
       "max        303.000000\n",
       "Name: gl, dtype: float64"
      ]
     },
     "execution_count": 65,
     "metadata": {},
     "output_type": "execute_result"
    }
   ],
   "source": [
    "# Getting the mean, std, min, and max of glucose values in the data\n",
    "formatter.data['gl'].describe()"
   ]
  },
  {
   "cell_type": "code",
   "execution_count": 75,
   "metadata": {},
   "outputs": [
    {
     "name": "stdout",
     "output_type": "stream",
     "text": [
      "Minimum gl. std: 9.618169784545898\n",
      "Maximum gl. std: 39.289127349853516\n",
      "Average gl. std: 19.11488515990121\n",
      "Minimum gl. range: 66.0\n",
      "Maximum gl. range: 230.0\n",
      "Average gl. range: 122.06071424484253\n"
     ]
    }
   ],
   "source": [
    "# Getting the descriptive statistics the range and standard\n",
    "summary_data = formatter.data.groupby('id')['gl'].describe()\n",
    "print(f\"Minimum gl. std: {summary_data['std'].min()}\")\n",
    "print(f\"Maximum gl. std: {summary_data['std'].max()}\")\n",
    "print(f\"Average gl. std: {summary_data['std'].mean()}\")\n",
    "print(f\"Minimum gl. range: {(summary_data['max'] - summary_data['min']).min()}\")\n",
    "print(f\"Maximum gl. range: {(summary_data['max'] - summary_data['min']).max()}\")\n",
    "print(f\"Average gl. range: {(summary_data['max'] - summary_data['min']).mean()}\")\n"
   ]
  },
  {
   "cell_type": "code",
   "execution_count": 77,
   "metadata": {},
   "outputs": [
    {
     "data": {
      "text/plain": [
       "Index(['A1C', 'Age', 'BMI', 'FBG', 'HDL', 'Height', 'IQR', 'Insulin_rate_dd',\n",
       "       'LDL', 'SSPG', 'Tchol', 'Trg', 'Weight', 'coef_variation', 'diagnosis',\n",
       "       'distance_traveled', 'distance_traveled_normByDays', 'freq_low',\n",
       "       'freq_moderate', 'freq_severe', 'glucotype', 'hs.CRP', 'id',\n",
       "       'id_segment', 'insulin', 'j_index', 'mage', 'max_glucose', 'max_slope',\n",
       "       'mean_glucose', 'mean_slope', 'median_glucose', 'min_glucose', 'modd',\n",
       "       'numGE', 'numGE_normByDays', 'number_Random140',\n",
       "       'number_Random140_normByDays', 'number_Random200',\n",
       "       'number_Random200_normByDays', 'ogtt.2hr', 'perc_cgm_diabetic_range',\n",
       "       'perc_cgm_prediabetic_range', 'percent_below.80', 'quartile.25_glucose',\n",
       "       'quartile.75_glucose', 'range_glucose', 'sd_glucose', 'se_glucose_mean',\n",
       "       'time_day', 'time_hour', 'time_minute', 'time_month', 'time_year'],\n",
       "      dtype='object')"
      ]
     },
     "metadata": {},
     "output_type": "display_data"
    }
   ],
   "source": [
    "# Get each column that doesn't change over time\n",
    "static_columns = formatter.data.columns.difference(['gl', 'time'])\n",
    "# Get the static data grouped by id\n",
    "static_data = formatter.data.groupby('id')[static_columns].first()\n",
    "display(static_data.columns)"
   ]
  },
  {
   "cell_type": "code",
   "execution_count": 81,
   "metadata": {},
   "outputs": [
    {
     "data": {
      "text/plain": [
       "count    56.000000\n",
       "mean     48.732143\n",
       "std      13.914664\n",
       "min      25.000000\n",
       "25%      34.750000\n",
       "50%      51.000000\n",
       "75%      60.000000\n",
       "max      76.000000\n",
       "Name: Age, dtype: float64"
      ]
     },
     "execution_count": 81,
     "metadata": {},
     "output_type": "execute_result"
    }
   ],
   "source": [
    "# Getting information on age\n",
    "formatter.data.groupby('id')['Age'].mean().describe()"
   ]
  },
  {
   "cell_type": "code",
   "execution_count": 82,
   "metadata": {},
   "outputs": [
    {
     "data": {
      "text/plain": [
       "count    56.000000\n",
       "mean     26.706964\n",
       "std       4.738729\n",
       "min      19.000000\n",
       "25%      23.799999\n",
       "50%      26.299999\n",
       "75%      28.500000\n",
       "max      40.400002\n",
       "Name: BMI, dtype: float64"
      ]
     },
     "execution_count": 82,
     "metadata": {},
     "output_type": "execute_result"
    }
   ],
   "source": [
    "# Getting information on age\n",
    "formatter.data.groupby('id')['BMI'].mean().describe()"
   ]
  },
  {
   "cell_type": "markdown",
   "metadata": {},
   "source": [
    "# Initial Simple Model"
   ]
  },
  {
   "cell_type": "code",
   "execution_count": 9,
   "metadata": {},
   "outputs": [],
   "source": [
    "# Group by patient ID\n",
    "training_data = formatter.train_data.copy()"
   ]
  },
  {
   "cell_type": "code",
   "execution_count": 10,
   "metadata": {},
   "outputs": [],
   "source": [
    "import numpy as np\n",
    "\n",
    "def create_sequences(data, sequence_length, target_offset=6):\n",
    "    X, y = [], []\n",
    "\n",
    "    for _, group in data.groupby('id'):\n",
    "        group = group.reset_index(drop=True)\n",
    "        gl_series = group['gl'].values\n",
    "        \n",
    "        for i in range(len(gl_series) - sequence_length - target_offset + 1):\n",
    "            X.append(gl_series[i:i+sequence_length])\n",
    "            y.append(gl_series[i + sequence_length:i + sequence_length + target_offset])\n",
    "\n",
    "\n",
    "    X = np.array(X)\n",
    "    y = np.array(y)\n",
    "    X = X[..., np.newaxis]  # add channel dimension for Conv1D\n",
    "\n",
    "    return X, y"
   ]
  },
  {
   "cell_type": "code",
   "execution_count": 11,
   "metadata": {},
   "outputs": [],
   "source": [
    "# Parameters\n",
    "sequence_length = 60  # past 12 time steps (e.g. 1-min intervals for 12 minutes)\n",
    "target_offset = 6     # predict 5 minutes ahead\n",
    "\n",
    "X, y = create_sequences(training_data, sequence_length)"
   ]
  },
  {
   "cell_type": "code",
   "execution_count": 12,
   "metadata": {},
   "outputs": [
    {
     "data": {
      "text/plain": [
       "((59211, 60, 1), (59211, 6))"
      ]
     },
     "execution_count": 12,
     "metadata": {},
     "output_type": "execute_result"
    }
   ],
   "source": [
    "X.shape, y.shape"
   ]
  },
  {
   "cell_type": "code",
   "execution_count": 13,
   "metadata": {},
   "outputs": [],
   "source": [
    "# defining the model\n",
    "from tensorflow.keras.models import Sequential\n",
    "from tensorflow.keras.layers import Conv1D, GlobalMaxPooling1D, MaxPooling1D, Dense, Input\n",
    "\n",
    "model = Sequential([\n",
    "    Input((sequence_length, 1)),  # Initial dense layer\n",
    "    Conv1D(32, kernel_size=3, activation='relu'),\n",
    "    MaxPooling1D(pool_size=2),\n",
    "    Conv1D(64, kernel_size=3, activation='relu'),\n",
    "    MaxPooling1D(pool_size=2),\n",
    "    GlobalMaxPooling1D(), # Equivalent to flatten\n",
    "    Dense(128, activation='relu'),\n",
    "    Dense(256, activation='relu'),\n",
    "    Dense(target_offset)  # Regression output\n",
    "])\n",
    "\n",
    "model.compile(optimizer='adam', loss='mse', metrics=['mae'])\n"
   ]
  },
  {
   "cell_type": "code",
   "execution_count": 14,
   "metadata": {},
   "outputs": [
    {
     "name": "stdout",
     "output_type": "stream",
     "text": [
      "Epoch 1/10\n",
      "\u001b[1m1481/1481\u001b[0m \u001b[32m━━━━━━━━━━━━━━━━━━━━\u001b[0m\u001b[37m\u001b[0m \u001b[1m7s\u001b[0m 3ms/step - loss: 866.3234 - mae: 20.2058 - val_loss: 281.1109 - val_mae: 12.7052\n",
      "Epoch 2/10\n",
      "\u001b[1m1481/1481\u001b[0m \u001b[32m━━━━━━━━━━━━━━━━━━━━\u001b[0m\u001b[37m\u001b[0m \u001b[1m5s\u001b[0m 3ms/step - loss: 360.7307 - mae: 13.8249 - val_loss: 277.0070 - val_mae: 12.9954\n",
      "Epoch 3/10\n",
      "\u001b[1m1481/1481\u001b[0m \u001b[32m━━━━━━━━━━━━━━━━━━━━\u001b[0m\u001b[37m\u001b[0m \u001b[1m5s\u001b[0m 3ms/step - loss: 343.2114 - mae: 13.5655 - val_loss: 263.8896 - val_mae: 12.6098\n",
      "Epoch 4/10\n",
      "\u001b[1m1481/1481\u001b[0m \u001b[32m━━━━━━━━━━━━━━━━━━━━\u001b[0m\u001b[37m\u001b[0m \u001b[1m5s\u001b[0m 3ms/step - loss: 313.4626 - mae: 13.0566 - val_loss: 214.1165 - val_mae: 10.9332\n",
      "Epoch 5/10\n",
      "\u001b[1m1481/1481\u001b[0m \u001b[32m━━━━━━━━━━━━━━━━━━━━\u001b[0m\u001b[37m\u001b[0m \u001b[1m5s\u001b[0m 3ms/step - loss: 304.3229 - mae: 12.8692 - val_loss: 220.6446 - val_mae: 11.3979\n",
      "Epoch 6/10\n",
      "\u001b[1m1481/1481\u001b[0m \u001b[32m━━━━━━━━━━━━━━━━━━━━\u001b[0m\u001b[37m\u001b[0m \u001b[1m5s\u001b[0m 3ms/step - loss: 294.5627 - mae: 12.7182 - val_loss: 212.5039 - val_mae: 10.9077\n",
      "Epoch 7/10\n",
      "\u001b[1m1481/1481\u001b[0m \u001b[32m━━━━━━━━━━━━━━━━━━━━\u001b[0m\u001b[37m\u001b[0m \u001b[1m5s\u001b[0m 3ms/step - loss: 290.3808 - mae: 12.5954 - val_loss: 216.5500 - val_mae: 11.1754\n",
      "Epoch 8/10\n",
      "\u001b[1m1481/1481\u001b[0m \u001b[32m━━━━━━━━━━━━━━━━━━━━\u001b[0m\u001b[37m\u001b[0m \u001b[1m5s\u001b[0m 3ms/step - loss: 284.1801 - mae: 12.4414 - val_loss: 213.7436 - val_mae: 11.0060\n",
      "Epoch 9/10\n",
      "\u001b[1m1481/1481\u001b[0m \u001b[32m━━━━━━━━━━━━━━━━━━━━\u001b[0m\u001b[37m\u001b[0m \u001b[1m5s\u001b[0m 3ms/step - loss: 285.8804 - mae: 12.4967 - val_loss: 218.7993 - val_mae: 11.2255\n",
      "Epoch 10/10\n",
      "\u001b[1m1481/1481\u001b[0m \u001b[32m━━━━━━━━━━━━━━━━━━━━\u001b[0m\u001b[37m\u001b[0m \u001b[1m5s\u001b[0m 4ms/step - loss: 272.9586 - mae: 12.2422 - val_loss: 212.7641 - val_mae: 11.0030\n"
     ]
    },
    {
     "data": {
      "text/plain": [
       "<keras.src.callbacks.history.History at 0x2dfe2190090>"
      ]
     },
     "execution_count": 14,
     "metadata": {},
     "output_type": "execute_result"
    }
   ],
   "source": [
    "model.fit(X, y, epochs=10, batch_size=32, validation_split=0.2)"
   ]
  },
  {
   "cell_type": "code",
   "execution_count": 15,
   "metadata": {},
   "outputs": [],
   "source": [
    "# making the test data\n",
    "test_data = formatter.test_data[~formatter.test_data.index.isin(formatter.test_idx_ood)]\n",
    "X_test, y_test = create_sequences(test_data, sequence_length, target_offset)"
   ]
  },
  {
   "cell_type": "code",
   "execution_count": 16,
   "metadata": {},
   "outputs": [
    {
     "name": "stdout",
     "output_type": "stream",
     "text": [
      "\u001b[1m415/415\u001b[0m \u001b[32m━━━━━━━━━━━━━━━━━━━━\u001b[0m\u001b[37m\u001b[0m \u001b[1m1s\u001b[0m 1ms/step\n",
      "\u001b[1m415/415\u001b[0m \u001b[32m━━━━━━━━━━━━━━━━━━━━\u001b[0m\u001b[37m\u001b[0m \u001b[1m1s\u001b[0m 2ms/step - loss: 279.4543 - mae: 12.1839\n",
      "Test loss: [276.9849853515625, 11.964655876159668]\n"
     ]
    }
   ],
   "source": [
    "# predictions go here\n",
    "prediction = model.predict(X_test)\n",
    "loss = model.evaluate(X_test, y_test)\n",
    "print(\"Test loss:\", loss)"
   ]
  },
  {
   "cell_type": "code",
   "execution_count": 17,
   "metadata": {},
   "outputs": [
    {
     "data": {
      "text/plain": [
       "((60, 1), (6,), (6,))"
      ]
     },
     "execution_count": 17,
     "metadata": {},
     "output_type": "execute_result"
    }
   ],
   "source": [
    "\n",
    "X_test[0].shape, y_test[0].shape, prediction[0].shape"
   ]
  },
  {
   "cell_type": "code",
   "execution_count": 18,
   "metadata": {},
   "outputs": [],
   "source": [
    "import matplotlib.pyplot as plt\n",
    "import numpy as np\n",
    "\n",
    "def visualize_predictions(X, y_true, y_pred, index=0, title='CNN Time Series Prediction'):\n",
    "    plt.figure(figsize=(10, 4))\n",
    "    plt.plot([i for i in range(X[index].shape[0])], np.reshape(X[index], (60, )), label='X', marker='o')\n",
    "    plt.plot([i for i in range(60, 60 + y_true[index].shape[0])], y_true[index], label='True', marker='x')\n",
    "    plt.plot([i for i in range(60, 60 + y_pred[index].shape[0])], y_pred[index], label='Pred', marker='^')\n",
    "    plt.title(title)\n",
    "    plt.xlabel('Time Step')\n",
    "    plt.ylabel('Gl/mg')\n",
    "    plt.legend()\n",
    "    plt.grid(True)\n",
    "    plt.show()"
   ]
  },
  {
   "cell_type": "code",
   "execution_count": 19,
   "metadata": {},
   "outputs": [
    {
     "name": "stdout",
     "output_type": "stream",
     "text": [
      "MAE of test data: 11.964640617370605\n",
      "RMSE of test data: 16.642852147029686\n",
      "R2 of test data: 0.5136734247207642\n"
     ]
    }
   ],
   "source": [
    "# Getting the MAE of the test data\n",
    "from sklearn.metrics import mean_absolute_error\n",
    "from sklearn.metrics import mean_squared_error\n",
    "from sklearn.metrics import r2_score\n",
    "mae = mean_absolute_error(y_test, prediction)\n",
    "mse = mean_squared_error(y_test, prediction)**0.5\n",
    "r2 = r2_score(y_test, prediction)\n",
    "print(\"MAE of test data:\", mae)\n",
    "print(\"RMSE of test data:\", mse)\n",
    "print(\"R2 of test data:\", r2)"
   ]
  },
  {
   "cell_type": "code",
   "execution_count": 20,
   "metadata": {},
   "outputs": [
    {
     "data": {
      "image/png": "[encoded data removed]",
      "text/plain": [
       "<Figure size 1000x400 with 1 Axes>"
      ]
     },
     "metadata": {},
     "output_type": "display_data"
    }
   ],
   "source": [
    "visualize_predictions(X_test, y_test, prediction, index=35)"
   ]
  },
  {
   "cell_type": "markdown",
   "metadata": {},
   "source": [
    "### 2: Baseline 0 Change Model\n",
    "This \"model\" will always just predict no change since the last point. It will be used as a baseline. "
   ]
  },
  {
   "cell_type": "code",
   "execution_count": 21,
   "metadata": {},
   "outputs": [],
   "source": [
    "# getting static predictions\n",
    "def create_static_predictions(X, target_offset=6):\n",
    "    y_pred_static = []\n",
    "    for i in range(X_test.shape[0]):\n",
    "        static_prediction = np.full((target_offset, ), X[i, -1, 0])\n",
    "        y_pred_static.append(static_prediction)\n",
    "\n",
    "    return np.array(y_pred_static)\n",
    "\n",
    "y_pred_static = create_static_predictions(X_test, target_offset)\n"
   ]
  },
  {
   "cell_type": "code",
   "execution_count": 22,
   "metadata": {},
   "outputs": [
    {
     "name": "stdout",
     "output_type": "stream",
     "text": [
      "MAE of test data: 6.124415874481201\n",
      "RMSE of test data: 10.169615229376882\n",
      "R2 of test data: 0.8184900879859924\n"
     ]
    },
    {
     "data": {
      "image/png": "[encoded data removed]",
      "text/plain": [
       "<Figure size 1000x400 with 1 Axes>"
      ]
     },
     "metadata": {},
     "output_type": "display_data"
    }
   ],
   "source": [
    "# Analyzign the quality of the static predictions\n",
    "mae = mean_absolute_error(y_test, y_pred_static)\n",
    "mse = mean_squared_error(y_test, y_pred_static)\n",
    "r2 = r2_score(y_test, y_pred_static)\n",
    "print(\"MAE of test data:\", mae)\n",
    "print(\"RMSE of test data:\", mse**0.5)\n",
    "print(\"R2 of test data:\", r2)\n",
    "# Visualizing the static predicitons\n",
    "visualize_predictions(X_test, y_test, y_pred_static, index=55, title='Baseline Static Predictions')"
   ]
  },
  {
   "cell_type": "markdown",
   "metadata": {},
   "source": [
    "All metrics increased under static prediction, so our model is very bad right now."
   ]
  },
  {
   "cell_type": "markdown",
   "metadata": {},
   "source": [
    "## Multi-Input Model\n",
    "This model will separate the input data into 2 different sections"
   ]
  },
  {
   "cell_type": "code",
   "execution_count": 23,
   "metadata": {},
   "outputs": [],
   "source": [
    "from sklearn.preprocessing import StandardScaler\n",
    "\n",
    "def split_dynamic_static_inputs(df, sequence_length, time_col='time', id_col='id', static_cols=None):\n",
    "    # Getting dynamic and static columns\n",
    "    variable_cols = df.columns.difference([id_col, time_col])\n",
    "    unique_counts = df.groupby(id_col)[variable_cols].nunique()\n",
    "    if static_cols is None:\n",
    "        static_cols = unique_counts.columns[(unique_counts <= 1).all()]\n",
    "    dynamic_cols = list(set(variable_cols) - set(static_cols))\n",
    "    static_df = df[[id_col] + list(static_cols)].drop_duplicates(id_col).set_index(id_col)\n",
    "\n",
    "    # Scaling static features\n",
    "    scaler_static = StandardScaler()\n",
    "    static_df[static_cols] = scaler_static.fit_transform(static_df[static_cols])\n",
    "\n",
    "    X_time = []\n",
    "    X_static = []\n",
    "    y = []\n",
    "    \n",
    "    for pid, group in df.groupby(id_col):\n",
    "        group = group.sort_values(time_col)\n",
    "        gl_series = group['gl'].values\n",
    "\n",
    "        \n",
    "        for i in range(len(gl_series) - sequence_length - target_offset + 1):\n",
    "            # generating time series data\n",
    "            X_time.append(gl_series[i:i+sequence_length])\n",
    "\n",
    "            # getting the target sequence\n",
    "            y.append(gl_series[i + sequence_length:i + sequence_length + target_offset])\n",
    "\n",
    "            # adding a threshold-based spike count to encode volatility\n",
    "            threshold = 8 # 10 is another option\n",
    "            spike_count = np.sum(np.abs(np.diff(gl_series[i:i+sequence_length])) > threshold)\n",
    "\n",
    "            # encoding max and min of the sequence\n",
    "            #max = np.max(gl_series[i:i+sequence_length])\n",
    "            #min = np.min(gl_series[i:i+sequence_length])\n",
    "\n",
    "            X_static.append(static_df.loc[pid] + [spike_count])\n",
    "\n",
    "    X_time = np.array(X_time)             # shape: (num_samples, sequence_length, num_dynamic_features)\n",
    "    X_time = X_time[..., np.newaxis]  # add channel dimension for Conv1D\n",
    "    X_static = np.array(X_static)         # shape: (num_samples, num_static_features)\n",
    "    y = np.array(y)                       # shape: (num_samples, target_offset)\n",
    "\n",
    "    return X_time, X_static, y, static_cols, dynamic_cols\n",
    "\n",
    "X_train_time, X_train_static, y_train, static_cols, dynamic_cols = split_dynamic_static_inputs(training_data, sequence_length)"
   ]
  },
  {
   "cell_type": "code",
   "execution_count": 24,
   "metadata": {},
   "outputs": [],
   "source": [
    "def transform_delta_from_last(X_time, y):\n",
    "    \"\"\" Transforms the y values to be the difference from the last value in the sequence.\"\"\"\n",
    "    last_values = X_time[:, -1, 0]\n",
    "\n",
    "    # expand it to match the shape of y\n",
    "    last_values = np.repeat(last_values[:, np.newaxis], y.shape[1], axis=1)  # shape: (num_samples, target_offset)\n",
    "\n",
    "    delta = y - last_values  # shape: (num_samples, target_offset)\n",
    "\n",
    "    return delta"
   ]
  },
  {
   "cell_type": "code",
   "execution_count": 25,
   "metadata": {},
   "outputs": [],
   "source": [
    "def inverse_transform_delta_from_last(X_time, y_delta):\n",
    "    \"\"\" Inverse transforms the delta values to the original scale.\"\"\"\n",
    "    last_values = X_time[:, -1, 0]\n",
    "    \n",
    "    # expand it to match the shape of y_delta\n",
    "    last_values = np.repeat(last_values[:, np.newaxis], y_delta.shape[1], axis=1)  # shape: (num_samples, target_offset)\n",
    "\n",
    "    y_original = y_delta + last_values  # shape: (num_samples, target_offset)\n",
    "\n",
    "    return y_original"
   ]
  },
  {
   "cell_type": "code",
   "execution_count": 26,
   "metadata": {},
   "outputs": [
    {
     "data": {
      "text/plain": [
       "<tf.Tensor: shape=(), dtype=float32, numpy=0.0>"
      ]
     },
     "execution_count": 26,
     "metadata": {},
     "output_type": "execute_result"
    }
   ],
   "source": [
    "import tensorflow as tf\n",
    "tf.reduce_mean(y_train - inverse_transform_delta_from_last(X_train_time, transform_delta_from_last(X_train_time, y_train)))"
   ]
  },
  {
   "cell_type": "code",
   "execution_count": 27,
   "metadata": {},
   "outputs": [],
   "source": [
    "y_train_delta = transform_delta_from_last(X_train_time, y_train)"
   ]
  },
  {
   "cell_type": "code",
   "execution_count": 28,
   "metadata": {},
   "outputs": [],
   "source": [
    "from tensorflow.keras.layers import Concatenate\n",
    "from tensorflow.keras.models import Model\n",
    "\n",
    "# time series features input\n",
    "time_series_input = Input(shape=(sequence_length, 1), name='time_series_input')\n",
    "x = Conv1D(32, kernel_size=3, activation='relu')(time_series_input)\n",
    "x = MaxPooling1D(pool_size=2)(x)\n",
    "x = Conv1D(64, kernel_size=3, activation='relu')(x)\n",
    "x = MaxPooling1D(pool_size=2)(x)\n",
    "x = GlobalMaxPooling1D()(x)\n",
    "\n",
    "# static features input\n",
    "num_static_features = X_train_static.shape[1]\n",
    "static_input = Input(shape=(num_static_features,), name='static_input')\n",
    "s = Dense(64, activation='relu')(static_input)\n",
    "s = Dense(128, activation='relu')(s)\n",
    "\n",
    "# Merging the input branches\n",
    "merged = Concatenate()([x, s])\n",
    "out = Dense(256, activation='relu')(merged)\n",
    "out = Dense(256, activation='relu')(out)\n",
    "out = Dense(target_offset)(out)\n",
    "\n",
    "model = Model(inputs=[time_series_input, static_input], outputs=out)\n",
    "model.compile(optimizer='adam', loss='mse', metrics=['mse','mae'])"
   ]
  },
  {
   "cell_type": "code",
   "execution_count": 29,
   "metadata": {},
   "outputs": [
    {
     "name": "stdout",
     "output_type": "stream",
     "text": [
      "Epoch 1/100\n",
      "\u001b[1m1481/1481\u001b[0m \u001b[32m━━━━━━━━━━━━━━━━━━━━\u001b[0m\u001b[37m\u001b[0m \u001b[1m9s\u001b[0m 4ms/step - loss: 111.7718 - mae: 6.5962 - mse: 111.7718 - val_loss: 85.5885 - val_mae: 5.9467 - val_mse: 85.5885\n",
      "Epoch 2/100\n",
      "\u001b[1m1481/1481\u001b[0m \u001b[32m━━━━━━━━━━━━━━━━━━━━\u001b[0m\u001b[37m\u001b[0m \u001b[1m6s\u001b[0m 4ms/step - loss: 108.5571 - mae: 6.5212 - mse: 108.5571 - val_loss: 86.1437 - val_mae: 5.9491 - val_mse: 86.1437\n",
      "Epoch 3/100\n",
      "\u001b[1m1481/1481\u001b[0m \u001b[32m━━━━━━━━━━━━━━━━━━━━\u001b[0m\u001b[37m\u001b[0m \u001b[1m6s\u001b[0m 4ms/step - loss: 109.0640 - mae: 6.5383 - mse: 109.0640 - val_loss: 82.5613 - val_mae: 5.8838 - val_mse: 82.5613\n",
      "Epoch 4/100\n",
      "\u001b[1m1481/1481\u001b[0m \u001b[32m━━━━━━━━━━━━━━━━━━━━\u001b[0m\u001b[37m\u001b[0m \u001b[1m7s\u001b[0m 4ms/step - loss: 106.9024 - mae: 6.5191 - mse: 106.9024 - val_loss: 83.0100 - val_mae: 5.8853 - val_mse: 83.0100\n",
      "Epoch 5/100\n",
      "\u001b[1m1481/1481\u001b[0m \u001b[32m━━━━━━━━━━━━━━━━━━━━\u001b[0m\u001b[37m\u001b[0m \u001b[1m7s\u001b[0m 5ms/step - loss: 104.5030 - mae: 6.4609 - mse: 104.5030 - val_loss: 82.1629 - val_mae: 5.8674 - val_mse: 82.1629\n",
      "Epoch 6/100\n",
      "\u001b[1m1481/1481\u001b[0m \u001b[32m━━━━━━━━━━━━━━━━━━━━\u001b[0m\u001b[37m\u001b[0m \u001b[1m6s\u001b[0m 4ms/step - loss: 104.8899 - mae: 6.4729 - mse: 104.8899 - val_loss: 86.7528 - val_mae: 6.0063 - val_mse: 86.7528\n",
      "Epoch 7/100\n",
      "\u001b[1m1481/1481\u001b[0m \u001b[32m━━━━━━━━━━━━━━━━━━━━\u001b[0m\u001b[37m\u001b[0m \u001b[1m6s\u001b[0m 4ms/step - loss: 104.7242 - mae: 6.4605 - mse: 104.7242 - val_loss: 81.7807 - val_mae: 5.8379 - val_mse: 81.7807\n",
      "Epoch 8/100\n",
      "\u001b[1m1481/1481\u001b[0m \u001b[32m━━━━━━━━━━━━━━━━━━━━\u001b[0m\u001b[37m\u001b[0m \u001b[1m6s\u001b[0m 4ms/step - loss: 103.6926 - mae: 6.4543 - mse: 103.6926 - val_loss: 81.8861 - val_mae: 5.8428 - val_mse: 81.8861\n",
      "Epoch 9/100\n",
      "\u001b[1m1481/1481\u001b[0m \u001b[32m━━━━━━━━━━━━━━━━━━━━\u001b[0m\u001b[37m\u001b[0m \u001b[1m6s\u001b[0m 4ms/step - loss: 102.2490 - mae: 6.4421 - mse: 102.2490 - val_loss: 82.1789 - val_mae: 5.8970 - val_mse: 82.1789\n",
      "Epoch 10/100\n",
      "\u001b[1m1481/1481\u001b[0m \u001b[32m━━━━━━━━━━━━━━━━━━━━\u001b[0m\u001b[37m\u001b[0m \u001b[1m7s\u001b[0m 4ms/step - loss: 102.0601 - mae: 6.4463 - mse: 102.0601 - val_loss: 81.9521 - val_mae: 5.9229 - val_mse: 81.9521\n",
      "Epoch 11/100\n",
      "\u001b[1m1481/1481\u001b[0m \u001b[32m━━━━━━━━━━━━━━━━━━━━\u001b[0m\u001b[37m\u001b[0m \u001b[1m6s\u001b[0m 4ms/step - loss: 101.9844 - mae: 6.4301 - mse: 101.9844 - val_loss: 81.5954 - val_mae: 5.8491 - val_mse: 81.5954\n",
      "Epoch 12/100\n",
      "\u001b[1m1481/1481\u001b[0m \u001b[32m━━━━━━━━━━━━━━━━━━━━\u001b[0m\u001b[37m\u001b[0m \u001b[1m7s\u001b[0m 4ms/step - loss: 103.4964 - mae: 6.4567 - mse: 103.4964 - val_loss: 81.7285 - val_mae: 5.8923 - val_mse: 81.7285\n",
      "Epoch 13/100\n",
      "\u001b[1m1481/1481\u001b[0m \u001b[32m━━━━━━━━━━━━━━━━━━━━\u001b[0m\u001b[37m\u001b[0m \u001b[1m6s\u001b[0m 4ms/step - loss: 99.3595 - mae: 6.3882 - mse: 99.3595 - val_loss: 81.0518 - val_mae: 5.8578 - val_mse: 81.0518\n",
      "Epoch 14/100\n",
      "\u001b[1m1481/1481\u001b[0m \u001b[32m━━━━━━━━━━━━━━━━━━━━\u001b[0m\u001b[37m\u001b[0m \u001b[1m6s\u001b[0m 4ms/step - loss: 101.2047 - mae: 6.4259 - mse: 101.2047 - val_loss: 81.1576 - val_mae: 5.8806 - val_mse: 81.1576\n",
      "Epoch 15/100\n",
      "\u001b[1m1481/1481\u001b[0m \u001b[32m━━━━━━━━━━━━━━━━━━━━\u001b[0m\u001b[37m\u001b[0m \u001b[1m7s\u001b[0m 5ms/step - loss: 100.1970 - mae: 6.3800 - mse: 100.1970 - val_loss: 84.4115 - val_mae: 5.9921 - val_mse: 84.4115\n",
      "Epoch 16/100\n",
      "\u001b[1m1481/1481\u001b[0m \u001b[32m━━━━━━━━━━━━━━━━━━━━\u001b[0m\u001b[37m\u001b[0m \u001b[1m6s\u001b[0m 4ms/step - loss: 101.2520 - mae: 6.4313 - mse: 101.2520 - val_loss: 81.8047 - val_mae: 5.9038 - val_mse: 81.8047\n",
      "Epoch 17/100\n",
      "\u001b[1m1481/1481\u001b[0m \u001b[32m━━━━━━━━━━━━━━━━━━━━\u001b[0m\u001b[37m\u001b[0m \u001b[1m6s\u001b[0m 4ms/step - loss: 99.4408 - mae: 6.3714 - mse: 99.4408 - val_loss: 82.4334 - val_mae: 5.9311 - val_mse: 82.4334\n",
      "Epoch 18/100\n",
      "\u001b[1m1481/1481\u001b[0m \u001b[32m━━━━━━━━━━━━━━━━━━━━\u001b[0m\u001b[37m\u001b[0m \u001b[1m6s\u001b[0m 4ms/step - loss: 97.7275 - mae: 6.3280 - mse: 97.7275 - val_loss: 82.4132 - val_mae: 5.9440 - val_mse: 82.4132\n",
      "Epoch 19/100\n",
      "\u001b[1m1481/1481\u001b[0m \u001b[32m━━━━━━━━━━━━━━━━━━━━\u001b[0m\u001b[37m\u001b[0m \u001b[1m7s\u001b[0m 5ms/step - loss: 100.5727 - mae: 6.4355 - mse: 100.5727 - val_loss: 82.7245 - val_mae: 5.9778 - val_mse: 82.7245\n",
      "Epoch 20/100\n",
      "\u001b[1m1481/1481\u001b[0m \u001b[32m━━━━━━━━━━━━━━━━━━━━\u001b[0m\u001b[37m\u001b[0m \u001b[1m6s\u001b[0m 4ms/step - loss: 100.6836 - mae: 6.4173 - mse: 100.6836 - val_loss: 81.4432 - val_mae: 5.8668 - val_mse: 81.4432\n",
      "Epoch 21/100\n",
      "\u001b[1m1481/1481\u001b[0m \u001b[32m━━━━━━━━━━━━━━━━━━━━\u001b[0m\u001b[37m\u001b[0m \u001b[1m7s\u001b[0m 5ms/step - loss: 99.4255 - mae: 6.3757 - mse: 99.4255 - val_loss: 81.6862 - val_mae: 5.9095 - val_mse: 81.6862\n",
      "Epoch 22/100\n",
      "\u001b[1m1481/1481\u001b[0m \u001b[32m━━━━━━━━━━━━━━━━━━━━\u001b[0m\u001b[37m\u001b[0m \u001b[1m7s\u001b[0m 4ms/step - loss: 97.6129 - mae: 6.3472 - mse: 97.6129 - val_loss: 81.7678 - val_mae: 5.9356 - val_mse: 81.7678\n",
      "Epoch 23/100\n",
      "\u001b[1m1481/1481\u001b[0m \u001b[32m━━━━━━━━━━━━━━━━━━━━\u001b[0m\u001b[37m\u001b[0m \u001b[1m7s\u001b[0m 5ms/step - loss: 97.7085 - mae: 6.3411 - mse: 97.7085 - val_loss: 82.6351 - val_mae: 5.9665 - val_mse: 82.6351\n",
      "Epoch 24/100\n",
      "\u001b[1m1481/1481\u001b[0m \u001b[32m━━━━━━━━━━━━━━━━━━━━\u001b[0m\u001b[37m\u001b[0m \u001b[1m7s\u001b[0m 4ms/step - loss: 99.7753 - mae: 6.4240 - mse: 99.7753 - val_loss: 84.9380 - val_mae: 6.0107 - val_mse: 84.9380\n",
      "Epoch 25/100\n",
      "\u001b[1m1481/1481\u001b[0m \u001b[32m━━━━━━━━━━━━━━━━━━━━\u001b[0m\u001b[37m\u001b[0m \u001b[1m6s\u001b[0m 4ms/step - loss: 98.2697 - mae: 6.3535 - mse: 98.2697 - val_loss: 84.7652 - val_mae: 6.0209 - val_mse: 84.7652\n",
      "Epoch 26/100\n",
      "\u001b[1m1481/1481\u001b[0m \u001b[32m━━━━━━━━━━━━━━━━━━━━\u001b[0m\u001b[37m\u001b[0m \u001b[1m6s\u001b[0m 4ms/step - loss: 97.3451 - mae: 6.3414 - mse: 97.3451 - val_loss: 82.1998 - val_mae: 5.9024 - val_mse: 82.1998\n",
      "Epoch 27/100\n",
      "\u001b[1m1481/1481\u001b[0m \u001b[32m━━━━━━━━━━━━━━━━━━━━\u001b[0m\u001b[37m\u001b[0m \u001b[1m6s\u001b[0m 4ms/step - loss: 97.9396 - mae: 6.3474 - mse: 97.9396 - val_loss: 81.0867 - val_mae: 5.8448 - val_mse: 81.0867\n",
      "Epoch 28/100\n",
      "\u001b[1m1481/1481\u001b[0m \u001b[32m━━━━━━━━━━━━━━━━━━━━\u001b[0m\u001b[37m\u001b[0m \u001b[1m6s\u001b[0m 4ms/step - loss: 97.2802 - mae: 6.3312 - mse: 97.2802 - val_loss: 81.8250 - val_mae: 5.9214 - val_mse: 81.8250\n",
      "Epoch 29/100\n",
      "\u001b[1m1481/1481\u001b[0m \u001b[32m━━━━━━━━━━━━━━━━━━━━\u001b[0m\u001b[37m\u001b[0m \u001b[1m6s\u001b[0m 4ms/step - loss: 96.9276 - mae: 6.3267 - mse: 96.9276 - val_loss: 81.2228 - val_mae: 5.8876 - val_mse: 81.2228\n",
      "Epoch 30/100\n",
      "\u001b[1m1481/1481\u001b[0m \u001b[32m━━━━━━━━━━━━━━━━━━━━\u001b[0m\u001b[37m\u001b[0m \u001b[1m7s\u001b[0m 4ms/step - loss: 95.5341 - mae: 6.2858 - mse: 95.5341 - val_loss: 83.2852 - val_mae: 5.9924 - val_mse: 83.2852\n",
      "Epoch 31/100\n",
      "\u001b[1m1481/1481\u001b[0m \u001b[32m━━━━━━━━━━━━━━━━━━━━\u001b[0m\u001b[37m\u001b[0m \u001b[1m6s\u001b[0m 4ms/step - loss: 98.5656 - mae: 6.3710 - mse: 98.5656 - val_loss: 83.7592 - val_mae: 6.0285 - val_mse: 83.7592\n",
      "Epoch 32/100\n",
      "\u001b[1m1481/1481\u001b[0m \u001b[32m━━━━━━━━━━━━━━━━━━━━\u001b[0m\u001b[37m\u001b[0m \u001b[1m6s\u001b[0m 4ms/step - loss: 94.9186 - mae: 6.2419 - mse: 94.9186 - val_loss: 81.8515 - val_mae: 5.9045 - val_mse: 81.8515\n",
      "Epoch 33/100\n",
      "\u001b[1m1481/1481\u001b[0m \u001b[32m━━━━━━━━━━━━━━━━━━━━\u001b[0m\u001b[37m\u001b[0m \u001b[1m6s\u001b[0m 4ms/step - loss: 96.6279 - mae: 6.3145 - mse: 96.6279 - val_loss: 86.6238 - val_mae: 6.2002 - val_mse: 86.6238\n",
      "Epoch 34/100\n",
      "\u001b[1m1481/1481\u001b[0m \u001b[32m━━━━━━━━━━━━━━━━━━━━\u001b[0m\u001b[37m\u001b[0m \u001b[1m6s\u001b[0m 4ms/step - loss: 96.8018 - mae: 6.3054 - mse: 96.8018 - val_loss: 86.6633 - val_mae: 6.1602 - val_mse: 86.6633\n",
      "Epoch 35/100\n",
      "\u001b[1m1481/1481\u001b[0m \u001b[32m━━━━━━━━━━━━━━━━━━━━\u001b[0m\u001b[37m\u001b[0m \u001b[1m6s\u001b[0m 4ms/step - loss: 98.0725 - mae: 6.3665 - mse: 98.0725 - val_loss: 82.1134 - val_mae: 5.9740 - val_mse: 82.1134\n",
      "Epoch 36/100\n",
      "\u001b[1m1481/1481\u001b[0m \u001b[32m━━━━━━━━━━━━━━━━━━━━\u001b[0m\u001b[37m\u001b[0m \u001b[1m6s\u001b[0m 4ms/step - loss: 92.8653 - mae: 6.2050 - mse: 92.8653 - val_loss: 82.3009 - val_mae: 5.9529 - val_mse: 82.3009\n",
      "Epoch 37/100\n",
      "\u001b[1m1481/1481\u001b[0m \u001b[32m━━━━━━━━━━━━━━━━━━━━\u001b[0m\u001b[37m\u001b[0m \u001b[1m7s\u001b[0m 4ms/step - loss: 93.0314 - mae: 6.2353 - mse: 93.0314 - val_loss: 84.2893 - val_mae: 6.1329 - val_mse: 84.2893\n",
      "Epoch 38/100\n",
      "\u001b[1m1481/1481\u001b[0m \u001b[32m━━━━━━━━━━━━━━━━━━━━\u001b[0m\u001b[37m\u001b[0m \u001b[1m6s\u001b[0m 4ms/step - loss: 93.1739 - mae: 6.2290 - mse: 93.1739 - val_loss: 81.7572 - val_mae: 5.9752 - val_mse: 81.7572\n",
      "Epoch 39/100\n",
      "\u001b[1m1481/1481\u001b[0m \u001b[32m━━━━━━━━━━━━━━━━━━━━\u001b[0m\u001b[37m\u001b[0m \u001b[1m6s\u001b[0m 4ms/step - loss: 93.4014 - mae: 6.2507 - mse: 93.4014 - val_loss: 81.9819 - val_mae: 5.9609 - val_mse: 81.9819\n",
      "Epoch 40/100\n",
      "\u001b[1m1481/1481\u001b[0m \u001b[32m━━━━━━━━━━━━━━━━━━━━\u001b[0m\u001b[37m\u001b[0m \u001b[1m6s\u001b[0m 4ms/step - loss: 93.7605 - mae: 6.2654 - mse: 93.7605 - val_loss: 82.0932 - val_mae: 6.0150 - val_mse: 82.0932\n",
      "Epoch 41/100\n",
      "\u001b[1m1481/1481\u001b[0m \u001b[32m━━━━━━━━━━━━━━━━━━━━\u001b[0m\u001b[37m\u001b[0m \u001b[1m6s\u001b[0m 4ms/step - loss: 92.3971 - mae: 6.2285 - mse: 92.3971 - val_loss: 85.0207 - val_mae: 6.0637 - val_mse: 85.0207\n",
      "Epoch 42/100\n",
      "\u001b[1m1481/1481\u001b[0m \u001b[32m━━━━━━━━━━━━━━━━━━━━\u001b[0m\u001b[37m\u001b[0m \u001b[1m6s\u001b[0m 4ms/step - loss: 93.6061 - mae: 6.2528 - mse: 93.6061 - val_loss: 82.5242 - val_mae: 5.9936 - val_mse: 82.5242\n",
      "Epoch 43/100\n",
      "\u001b[1m1481/1481\u001b[0m \u001b[32m━━━━━━━━━━━━━━━━━━━━\u001b[0m\u001b[37m\u001b[0m \u001b[1m6s\u001b[0m 4ms/step - loss: 91.1857 - mae: 6.1789 - mse: 91.1857 - val_loss: 81.7004 - val_mae: 5.9419 - val_mse: 81.7004\n",
      "Epoch 44/100\n",
      "\u001b[1m1481/1481\u001b[0m \u001b[32m━━━━━━━━━━━━━━━━━━━━\u001b[0m\u001b[37m\u001b[0m \u001b[1m10s\u001b[0m 4ms/step - loss: 92.8333 - mae: 6.2358 - mse: 92.8333 - val_loss: 82.5320 - val_mae: 5.9691 - val_mse: 82.5320\n",
      "Epoch 45/100\n",
      "\u001b[1m1481/1481\u001b[0m \u001b[32m━━━━━━━━━━━━━━━━━━━━\u001b[0m\u001b[37m\u001b[0m \u001b[1m6s\u001b[0m 4ms/step - loss: 89.9506 - mae: 6.1603 - mse: 89.9506 - val_loss: 83.9724 - val_mae: 6.1104 - val_mse: 83.9724\n",
      "Epoch 46/100\n",
      "\u001b[1m1481/1481\u001b[0m \u001b[32m━━━━━━━━━━━━━━━━━━━━\u001b[0m\u001b[37m\u001b[0m \u001b[1m6s\u001b[0m 4ms/step - loss: 91.3212 - mae: 6.1939 - mse: 91.3212 - val_loss: 83.3815 - val_mae: 6.0076 - val_mse: 83.3815\n",
      "Epoch 47/100\n",
      "\u001b[1m1481/1481\u001b[0m \u001b[32m━━━━━━━━━━━━━━━━━━━━\u001b[0m\u001b[37m\u001b[0m \u001b[1m6s\u001b[0m 4ms/step - loss: 90.4726 - mae: 6.1541 - mse: 90.4726 - val_loss: 83.3427 - val_mae: 6.0053 - val_mse: 83.3427\n",
      "Epoch 48/100\n",
      "\u001b[1m1481/1481\u001b[0m \u001b[32m━━━━━━━━━━━━━━━━━━━━\u001b[0m\u001b[37m\u001b[0m \u001b[1m6s\u001b[0m 4ms/step - loss: 89.5675 - mae: 6.1585 - mse: 89.5675 - val_loss: 83.0637 - val_mae: 6.0412 - val_mse: 83.0637\n",
      "Epoch 49/100\n",
      "\u001b[1m1481/1481\u001b[0m \u001b[32m━━━━━━━━━━━━━━━━━━━━\u001b[0m\u001b[37m\u001b[0m \u001b[1m6s\u001b[0m 4ms/step - loss: 90.0777 - mae: 6.1578 - mse: 90.0777 - val_loss: 87.3259 - val_mae: 6.2552 - val_mse: 87.3259\n",
      "Epoch 50/100\n",
      "\u001b[1m1481/1481\u001b[0m \u001b[32m━━━━━━━━━━━━━━━━━━━━\u001b[0m\u001b[37m\u001b[0m \u001b[1m7s\u001b[0m 5ms/step - loss: 89.8685 - mae: 6.1578 - mse: 89.8685 - val_loss: 87.2195 - val_mae: 6.1783 - val_mse: 87.2195\n",
      "Epoch 51/100\n",
      "\u001b[1m1481/1481\u001b[0m \u001b[32m━━━━━━━━━━━━━━━━━━━━\u001b[0m\u001b[37m\u001b[0m \u001b[1m6s\u001b[0m 4ms/step - loss: 89.4933 - mae: 6.1489 - mse: 89.4933 - val_loss: 86.8499 - val_mae: 6.2364 - val_mse: 86.8499\n",
      "Epoch 52/100\n",
      "\u001b[1m1481/1481\u001b[0m \u001b[32m━━━━━━━━━━━━━━━━━━━━\u001b[0m\u001b[37m\u001b[0m \u001b[1m6s\u001b[0m 4ms/step - loss: 89.9907 - mae: 6.1872 - mse: 89.9907 - val_loss: 85.4776 - val_mae: 6.1094 - val_mse: 85.4776\n",
      "Epoch 53/100\n",
      "\u001b[1m1481/1481\u001b[0m \u001b[32m━━━━━━━━━━━━━━━━━━━━\u001b[0m\u001b[37m\u001b[0m \u001b[1m10s\u001b[0m 4ms/step - loss: 91.0975 - mae: 6.1575 - mse: 91.0975 - val_loss: 86.2735 - val_mae: 6.2194 - val_mse: 86.2735\n",
      "Epoch 54/100\n",
      "\u001b[1m1481/1481\u001b[0m \u001b[32m━━━━━━━━━━━━━━━━━━━━\u001b[0m\u001b[37m\u001b[0m \u001b[1m6s\u001b[0m 4ms/step - loss: 90.4510 - mae: 6.1990 - mse: 90.4510 - val_loss: 85.5771 - val_mae: 6.1415 - val_mse: 85.5771\n",
      "Epoch 55/100\n",
      "\u001b[1m1481/1481\u001b[0m \u001b[32m━━━━━━━━━━━━━━━━━━━━\u001b[0m\u001b[37m\u001b[0m \u001b[1m6s\u001b[0m 4ms/step - loss: 88.2526 - mae: 6.1255 - mse: 88.2526 - val_loss: 87.1906 - val_mae: 6.2208 - val_mse: 87.1906\n",
      "Epoch 56/100\n",
      "\u001b[1m1481/1481\u001b[0m \u001b[32m━━━━━━━━━━━━━━━━━━━━\u001b[0m\u001b[37m\u001b[0m \u001b[1m6s\u001b[0m 4ms/step - loss: 88.1943 - mae: 6.1145 - mse: 88.1943 - val_loss: 89.8206 - val_mae: 6.2420 - val_mse: 89.8206\n",
      "Epoch 57/100\n",
      "\u001b[1m1481/1481\u001b[0m \u001b[32m━━━━━━━━━━━━━━━━━━━━\u001b[0m\u001b[37m\u001b[0m \u001b[1m6s\u001b[0m 4ms/step - loss: 90.0439 - mae: 6.1469 - mse: 90.0439 - val_loss: 84.3117 - val_mae: 6.0464 - val_mse: 84.3117\n",
      "Epoch 58/100\n",
      "\u001b[1m1481/1481\u001b[0m \u001b[32m━━━━━━━━━━━━━━━━━━━━\u001b[0m\u001b[37m\u001b[0m \u001b[1m6s\u001b[0m 4ms/step - loss: 87.0584 - mae: 6.0793 - mse: 87.0584 - val_loss: 85.2447 - val_mae: 6.1035 - val_mse: 85.2447\n",
      "Epoch 59/100\n",
      "\u001b[1m1481/1481\u001b[0m \u001b[32m━━━━━━━━━━━━━━━━━━━━\u001b[0m\u001b[37m\u001b[0m \u001b[1m6s\u001b[0m 4ms/step - loss: 90.0305 - mae: 6.1445 - mse: 90.0305 - val_loss: 86.3557 - val_mae: 6.1701 - val_mse: 86.3557\n",
      "Epoch 60/100\n",
      "\u001b[1m1481/1481\u001b[0m \u001b[32m━━━━━━━━━━━━━━━━━━━━\u001b[0m\u001b[37m\u001b[0m \u001b[1m6s\u001b[0m 4ms/step - loss: 88.0368 - mae: 6.1215 - mse: 88.0368 - val_loss: 87.2776 - val_mae: 6.1820 - val_mse: 87.2776\n",
      "Epoch 61/100\n",
      "\u001b[1m1481/1481\u001b[0m \u001b[32m━━━━━━━━━━━━━━━━━━━━\u001b[0m\u001b[37m\u001b[0m \u001b[1m6s\u001b[0m 4ms/step - loss: 86.8691 - mae: 6.0898 - mse: 86.8691 - val_loss: 85.2490 - val_mae: 6.1031 - val_mse: 85.2490\n",
      "Epoch 62/100\n",
      "\u001b[1m1481/1481\u001b[0m \u001b[32m━━━━━━━━━━━━━━━━━━━━\u001b[0m\u001b[37m\u001b[0m \u001b[1m6s\u001b[0m 4ms/step - loss: 87.7268 - mae: 6.1032 - mse: 87.7268 - val_loss: 85.5728 - val_mae: 6.1203 - val_mse: 85.5728\n",
      "Epoch 63/100\n",
      "\u001b[1m1481/1481\u001b[0m \u001b[32m━━━━━━━━━━━━━━━━━━━━\u001b[0m\u001b[37m\u001b[0m \u001b[1m6s\u001b[0m 4ms/step - loss: 86.6735 - mae: 6.0731 - mse: 86.6735 - val_loss: 85.0990 - val_mae: 6.0687 - val_mse: 85.0990\n",
      "Epoch 64/100\n",
      "\u001b[1m1481/1481\u001b[0m \u001b[32m━━━━━━━━━━━━━━━━━━━━\u001b[0m\u001b[37m\u001b[0m \u001b[1m6s\u001b[0m 4ms/step - loss: 85.2402 - mae: 6.0385 - mse: 85.2402 - val_loss: 83.8236 - val_mae: 6.0455 - val_mse: 83.8236\n",
      "Epoch 65/100\n",
      "\u001b[1m1481/1481\u001b[0m \u001b[32m━━━━━━━━━━━━━━━━━━━━\u001b[0m\u001b[37m\u001b[0m \u001b[1m6s\u001b[0m 4ms/step - loss: 84.5584 - mae: 6.0228 - mse: 84.5584 - val_loss: 86.1442 - val_mae: 6.1328 - val_mse: 86.1442\n",
      "Epoch 66/100\n",
      "\u001b[1m1481/1481\u001b[0m \u001b[32m━━━━━━━━━━━━━━━━━━━━\u001b[0m\u001b[37m\u001b[0m \u001b[1m6s\u001b[0m 4ms/step - loss: 84.2721 - mae: 5.9895 - mse: 84.2721 - val_loss: 86.0859 - val_mae: 6.1336 - val_mse: 86.0859\n",
      "Epoch 67/100\n",
      "\u001b[1m1481/1481\u001b[0m \u001b[32m━━━━━━━━━━━━━━━━━━━━\u001b[0m\u001b[37m\u001b[0m \u001b[1m6s\u001b[0m 4ms/step - loss: 87.1108 - mae: 6.1081 - mse: 87.1108 - val_loss: 89.0436 - val_mae: 6.2730 - val_mse: 89.0436\n",
      "Epoch 68/100\n",
      "\u001b[1m1481/1481\u001b[0m \u001b[32m━━━━━━━━━━━━━━━━━━━━\u001b[0m\u001b[37m\u001b[0m \u001b[1m6s\u001b[0m 4ms/step - loss: 84.0097 - mae: 6.0051 - mse: 84.0097 - val_loss: 88.0383 - val_mae: 6.2149 - val_mse: 88.0383\n",
      "Epoch 69/100\n",
      "\u001b[1m1481/1481\u001b[0m \u001b[32m━━━━━━━━━━━━━━━━━━━━\u001b[0m\u001b[37m\u001b[0m \u001b[1m6s\u001b[0m 4ms/step - loss: 83.8546 - mae: 5.9858 - mse: 83.8546 - val_loss: 91.6329 - val_mae: 6.4389 - val_mse: 91.6329\n",
      "Epoch 70/100\n",
      "\u001b[1m1481/1481\u001b[0m \u001b[32m━━━━━━━━━━━━━━━━━━━━\u001b[0m\u001b[37m\u001b[0m \u001b[1m6s\u001b[0m 4ms/step - loss: 86.8394 - mae: 6.0813 - mse: 86.8394 - val_loss: 86.8017 - val_mae: 6.2135 - val_mse: 86.8017\n",
      "Epoch 71/100\n",
      "\u001b[1m1481/1481\u001b[0m \u001b[32m━━━━━━━━━━━━━━━━━━━━\u001b[0m\u001b[37m\u001b[0m \u001b[1m6s\u001b[0m 4ms/step - loss: 84.6816 - mae: 6.0053 - mse: 84.6816 - val_loss: 89.9685 - val_mae: 6.3383 - val_mse: 89.9685\n",
      "Epoch 72/100\n",
      "\u001b[1m1481/1481\u001b[0m \u001b[32m━━━━━━━━━━━━━━━━━━━━\u001b[0m\u001b[37m\u001b[0m \u001b[1m6s\u001b[0m 4ms/step - loss: 82.1379 - mae: 5.9622 - mse: 82.1379 - val_loss: 91.7370 - val_mae: 6.3438 - val_mse: 91.7370\n",
      "Epoch 73/100\n",
      "\u001b[1m1481/1481\u001b[0m \u001b[32m━━━━━━━━━━━━━━━━━━━━\u001b[0m\u001b[37m\u001b[0m \u001b[1m6s\u001b[0m 4ms/step - loss: 83.1127 - mae: 5.9407 - mse: 83.1127 - val_loss: 89.6626 - val_mae: 6.2730 - val_mse: 89.6626\n",
      "Epoch 74/100\n",
      "\u001b[1m1481/1481\u001b[0m \u001b[32m━━━━━━━━━━━━━━━━━━━━\u001b[0m\u001b[37m\u001b[0m \u001b[1m6s\u001b[0m 4ms/step - loss: 85.6287 - mae: 6.0433 - mse: 85.6287 - val_loss: 87.0083 - val_mae: 6.1633 - val_mse: 87.0083\n",
      "Epoch 75/100\n",
      "\u001b[1m1481/1481\u001b[0m \u001b[32m━━━━━━━━━━━━━━━━━━━━\u001b[0m\u001b[37m\u001b[0m \u001b[1m6s\u001b[0m 4ms/step - loss: 86.4886 - mae: 6.0514 - mse: 86.4886 - val_loss: 88.8446 - val_mae: 6.2693 - val_mse: 88.8446\n",
      "Epoch 76/100\n",
      "\u001b[1m1481/1481\u001b[0m \u001b[32m━━━━━━━━━━━━━━━━━━━━\u001b[0m\u001b[37m\u001b[0m \u001b[1m6s\u001b[0m 4ms/step - loss: 82.5181 - mae: 5.9376 - mse: 82.5181 - val_loss: 89.8347 - val_mae: 6.3749 - val_mse: 89.8347\n",
      "Epoch 77/100\n",
      "\u001b[1m1481/1481\u001b[0m \u001b[32m━━━━━━━━━━━━━━━━━━━━\u001b[0m\u001b[37m\u001b[0m \u001b[1m6s\u001b[0m 4ms/step - loss: 82.5916 - mae: 5.9473 - mse: 82.5916 - val_loss: 89.9105 - val_mae: 6.3427 - val_mse: 89.9105\n",
      "Epoch 78/100\n",
      "\u001b[1m1481/1481\u001b[0m \u001b[32m━━━━━━━━━━━━━━━━━━━━\u001b[0m\u001b[37m\u001b[0m \u001b[1m6s\u001b[0m 4ms/step - loss: 82.9412 - mae: 5.9537 - mse: 82.9412 - val_loss: 89.1239 - val_mae: 6.2736 - val_mse: 89.1239\n",
      "Epoch 79/100\n",
      "\u001b[1m1481/1481\u001b[0m \u001b[32m━━━━━━━━━━━━━━━━━━━━\u001b[0m\u001b[37m\u001b[0m \u001b[1m6s\u001b[0m 4ms/step - loss: 81.7301 - mae: 5.9284 - mse: 81.7301 - val_loss: 90.9948 - val_mae: 6.3730 - val_mse: 90.9948\n",
      "Epoch 80/100\n",
      "\u001b[1m1481/1481\u001b[0m \u001b[32m━━━━━━━━━━━━━━━━━━━━\u001b[0m\u001b[37m\u001b[0m \u001b[1m6s\u001b[0m 4ms/step - loss: 82.9004 - mae: 5.9637 - mse: 82.9004 - val_loss: 88.0965 - val_mae: 6.2031 - val_mse: 88.0965\n",
      "Epoch 81/100\n",
      "\u001b[1m1481/1481\u001b[0m \u001b[32m━━━━━━━━━━━━━━━━━━━━\u001b[0m\u001b[37m\u001b[0m \u001b[1m6s\u001b[0m 4ms/step - loss: 81.6094 - mae: 5.9140 - mse: 81.6094 - val_loss: 89.8557 - val_mae: 6.3410 - val_mse: 89.8557\n",
      "Epoch 82/100\n",
      "\u001b[1m1481/1481\u001b[0m \u001b[32m━━━━━━━━━━━━━━━━━━━━\u001b[0m\u001b[37m\u001b[0m \u001b[1m6s\u001b[0m 4ms/step - loss: 83.3436 - mae: 5.9719 - mse: 83.3436 - val_loss: 91.8913 - val_mae: 6.3771 - val_mse: 91.8913\n",
      "Epoch 83/100\n",
      "\u001b[1m1481/1481\u001b[0m \u001b[32m━━━━━━━━━━━━━━━━━━━━\u001b[0m\u001b[37m\u001b[0m \u001b[1m6s\u001b[0m 4ms/step - loss: 80.9150 - mae: 5.9009 - mse: 80.9150 - val_loss: 89.5650 - val_mae: 6.2921 - val_mse: 89.5650\n",
      "Epoch 84/100\n",
      "\u001b[1m1481/1481\u001b[0m \u001b[32m━━━━━━━━━━━━━━━━━━━━\u001b[0m\u001b[37m\u001b[0m \u001b[1m6s\u001b[0m 4ms/step - loss: 81.2484 - mae: 5.9383 - mse: 81.2484 - val_loss: 90.6063 - val_mae: 6.3420 - val_mse: 90.6063\n",
      "Epoch 85/100\n",
      "\u001b[1m1481/1481\u001b[0m \u001b[32m━━━━━━━━━━━━━━━━━━━━\u001b[0m\u001b[37m\u001b[0m \u001b[1m6s\u001b[0m 4ms/step - loss: 81.6568 - mae: 5.9456 - mse: 81.6568 - val_loss: 92.2939 - val_mae: 6.3974 - val_mse: 92.2939\n",
      "Epoch 86/100\n",
      "\u001b[1m1481/1481\u001b[0m \u001b[32m━━━━━━━━━━━━━━━━━━━━\u001b[0m\u001b[37m\u001b[0m \u001b[1m6s\u001b[0m 4ms/step - loss: 81.4266 - mae: 5.9198 - mse: 81.4266 - val_loss: 94.9635 - val_mae: 6.4341 - val_mse: 94.9635\n",
      "Epoch 87/100\n",
      "\u001b[1m1481/1481\u001b[0m \u001b[32m━━━━━━━━━━━━━━━━━━━━\u001b[0m\u001b[37m\u001b[0m \u001b[1m6s\u001b[0m 4ms/step - loss: 81.8227 - mae: 5.9478 - mse: 81.8227 - val_loss: 100.6124 - val_mae: 6.6364 - val_mse: 100.6124\n",
      "Epoch 88/100\n",
      "\u001b[1m1481/1481\u001b[0m \u001b[32m━━━━━━━━━━━━━━━━━━━━\u001b[0m\u001b[37m\u001b[0m \u001b[1m6s\u001b[0m 4ms/step - loss: 78.7999 - mae: 5.8502 - mse: 78.7999 - val_loss: 97.8299 - val_mae: 6.6583 - val_mse: 97.8299\n",
      "Epoch 89/100\n",
      "\u001b[1m1481/1481\u001b[0m \u001b[32m━━━━━━━━━━━━━━━━━━━━\u001b[0m\u001b[37m\u001b[0m \u001b[1m6s\u001b[0m 4ms/step - loss: 80.0770 - mae: 5.8713 - mse: 80.0770 - val_loss: 93.3598 - val_mae: 6.5132 - val_mse: 93.3598\n",
      "Epoch 90/100\n",
      "\u001b[1m1481/1481\u001b[0m \u001b[32m━━━━━━━━━━━━━━━━━━━━\u001b[0m\u001b[37m\u001b[0m \u001b[1m6s\u001b[0m 4ms/step - loss: 79.4808 - mae: 5.8636 - mse: 79.4808 - val_loss: 97.2582 - val_mae: 6.5553 - val_mse: 97.2582\n",
      "Epoch 91/100\n",
      "\u001b[1m1481/1481\u001b[0m \u001b[32m━━━━━━━━━━━━━━━━━━━━\u001b[0m\u001b[37m\u001b[0m \u001b[1m6s\u001b[0m 4ms/step - loss: 79.5117 - mae: 5.8835 - mse: 79.5117 - val_loss: 90.3218 - val_mae: 6.3455 - val_mse: 90.3218\n",
      "Epoch 92/100\n",
      "\u001b[1m1481/1481\u001b[0m \u001b[32m━━━━━━━━━━━━━━━━━━━━\u001b[0m\u001b[37m\u001b[0m \u001b[1m6s\u001b[0m 4ms/step - loss: 79.6157 - mae: 5.8705 - mse: 79.6157 - val_loss: 96.6949 - val_mae: 6.5806 - val_mse: 96.6949\n",
      "Epoch 93/100\n",
      "\u001b[1m1481/1481\u001b[0m \u001b[32m━━━━━━━━━━━━━━━━━━━━\u001b[0m\u001b[37m\u001b[0m \u001b[1m6s\u001b[0m 4ms/step - loss: 77.8220 - mae: 5.8503 - mse: 77.8220 - val_loss: 94.4137 - val_mae: 6.5893 - val_mse: 94.4137\n",
      "Epoch 94/100\n",
      "\u001b[1m1481/1481\u001b[0m \u001b[32m━━━━━━━━━━━━━━━━━━━━\u001b[0m\u001b[37m\u001b[0m \u001b[1m6s\u001b[0m 4ms/step - loss: 79.9057 - mae: 5.8777 - mse: 79.9057 - val_loss: 100.0038 - val_mae: 6.6461 - val_mse: 100.0038\n",
      "Epoch 95/100\n",
      "\u001b[1m1481/1481\u001b[0m \u001b[32m━━━━━━━━━━━━━━━━━━━━\u001b[0m\u001b[37m\u001b[0m \u001b[1m6s\u001b[0m 4ms/step - loss: 77.9035 - mae: 5.8442 - mse: 77.9035 - val_loss: 100.5767 - val_mae: 6.6917 - val_mse: 100.5767\n",
      "Epoch 96/100\n",
      "\u001b[1m1481/1481\u001b[0m \u001b[32m━━━━━━━━━━━━━━━━━━━━\u001b[0m\u001b[37m\u001b[0m \u001b[1m6s\u001b[0m 4ms/step - loss: 77.8466 - mae: 5.8271 - mse: 77.8466 - val_loss: 94.2457 - val_mae: 6.4483 - val_mse: 94.2457\n",
      "Epoch 97/100\n",
      "\u001b[1m1481/1481\u001b[0m \u001b[32m━━━━━━━━━━━━━━━━━━━━\u001b[0m\u001b[37m\u001b[0m \u001b[1m6s\u001b[0m 4ms/step - loss: 80.3745 - mae: 5.9090 - mse: 80.3745 - val_loss: 93.5820 - val_mae: 6.4306 - val_mse: 93.5820\n",
      "Epoch 98/100\n",
      "\u001b[1m1481/1481\u001b[0m \u001b[32m━━━━━━━━━━━━━━━━━━━━\u001b[0m\u001b[37m\u001b[0m \u001b[1m6s\u001b[0m 4ms/step - loss: 78.8140 - mae: 5.8505 - mse: 78.8140 - val_loss: 96.5485 - val_mae: 6.5333 - val_mse: 96.5485\n",
      "Epoch 99/100\n",
      "\u001b[1m1481/1481\u001b[0m \u001b[32m━━━━━━━━━━━━━━━━━━━━\u001b[0m\u001b[37m\u001b[0m \u001b[1m6s\u001b[0m 4ms/step - loss: 78.3560 - mae: 5.8455 - mse: 78.3560 - val_loss: 104.8019 - val_mae: 6.6678 - val_mse: 104.8019\n",
      "Epoch 100/100\n",
      "\u001b[1m1481/1481\u001b[0m \u001b[32m━━━━━━━━━━━━━━━━━━━━\u001b[0m\u001b[37m\u001b[0m \u001b[1m6s\u001b[0m 4ms/step - loss: 77.1515 - mae: 5.8080 - mse: 77.1515 - val_loss: 108.2455 - val_mae: 6.7774 - val_mse: 108.2455\n"
     ]
    }
   ],
   "source": [
    "history = model.fit([X_train_time, X_train_static], y_train_delta, epochs=100, batch_size=32, validation_split=0.2)"
   ]
  },
  {
   "cell_type": "markdown",
   "metadata": {},
   "source": [
    "Visualizing the loss"
   ]
  },
  {
   "cell_type": "code",
   "execution_count": 30,
   "metadata": {},
   "outputs": [
    {
     "data": {
      "image/png": "[encoded data removed]",
      "text/plain": [
       "<Figure size 640x480 with 1 Axes>"
      ]
     },
     "metadata": {},
     "output_type": "display_data"
    }
   ],
   "source": [
    "plt.plot(history.history['loss'], label='Training Loss')\n",
    "plt.xlabel('Epoch')\n",
    "plt.ylabel('MSE')\n",
    "plt.title('Loss Over Epochs')\n",
    "plt.legend()\n",
    "plt.grid(True)\n",
    "plt.show()"
   ]
  },
  {
   "cell_type": "markdown",
   "metadata": {},
   "source": [
    "Analyzing the test accuracy"
   ]
  },
  {
   "cell_type": "code",
   "execution_count": 31,
   "metadata": {},
   "outputs": [
    {
     "name": "stdout",
     "output_type": "stream",
     "text": [
      "Training data shapes: X_time: (59211, 60, 1), X_static: (59211, 47), y: (59211, 6)\n",
      "Testing data shapes: X_time: (13267, 60, 1), X_static: (13267, 47), y: (13267, 6)\n"
     ]
    }
   ],
   "source": [
    "X_test_time, X_test_static, y_test, _, _ = split_dynamic_static_inputs(test_data, sequence_length, static_cols=static_cols)\n",
    "y_test_delta = transform_delta_from_last(X_test_time, y_test)\n",
    "\n",
    "# Printing training data shapes and testing data shapes\n",
    "print(f\"Training data shapes: X_time: {X_train_time.shape}, X_static: {X_train_static.shape}, y: {y_train_delta.shape}\")\n",
    "print(f\"Testing data shapes: X_time: {X_test_time.shape}, X_static: {X_test_static.shape}, y: {y_test_delta.shape}\")"
   ]
  },
  {
   "cell_type": "code",
   "execution_count": 32,
   "metadata": {},
   "outputs": [
    {
     "name": "stdout",
     "output_type": "stream",
     "text": [
      "\u001b[1m415/415\u001b[0m \u001b[32m━━━━━━━━━━━━━━━━━━━━\u001b[0m\u001b[37m\u001b[0m \u001b[1m1s\u001b[0m 2ms/step\n",
      "MAE of test data: 6.8548665046691895\n",
      "RMSE of test data: 10.771730681964046\n",
      "R2 of test data: 0.7963621020317078\n"
     ]
    }
   ],
   "source": [
    "y_pred = model.predict([X_test_time, X_test_static])\n",
    "y_pred = inverse_transform_delta_from_last(X_test_time, y_pred)\n",
    "mae = mean_absolute_error(y_test, y_pred)\n",
    "mse = mean_squared_error(y_test, y_pred)\n",
    "r2 = r2_score(y_test, y_pred)\n",
    "print(\"MAE of test data:\", mae)\n",
    "print(\"RMSE of test data:\", mse**0.5)\n",
    "print(\"R2 of test data:\", r2)\n",
    "# Visualizing the static predicitons\n"
   ]
  },
  {
   "cell_type": "code",
   "execution_count": 33,
   "metadata": {},
   "outputs": [
    {
     "data": {
      "image/png": "[encoded data removed]",
      "text/plain": [
       "<Figure size 1000x400 with 1 Axes>"
      ]
     },
     "metadata": {},
     "output_type": "display_data"
    }
   ],
   "source": [
    "visualize_predictions(X_test_time, y_test, y_pred, index=15)"
   ]
  },
  {
   "cell_type": "code",
   "execution_count": 34,
   "metadata": {},
   "outputs": [
    {
     "data": {
      "image/png": "[encoded data removed]",
      "text/plain": [
       "<Figure size 1000x400 with 1 Axes>"
      ]
     },
     "metadata": {},
     "output_type": "display_data"
    }
   ],
   "source": [
    "visualize_predictions(X_test_time, y_test, y_pred, index=500)"
   ]
  },
  {
   "cell_type": "code",
   "execution_count": 35,
   "metadata": {},
   "outputs": [
    {
     "data": {
      "image/png": "[encoded data removed]",
      "text/plain": [
       "<Figure size 1000x400 with 1 Axes>"
      ]
     },
     "metadata": {},
     "output_type": "display_data"
    }
   ],
   "source": [
    "visualize_predictions(X_test_time, y_test, y_pred, index=1000)"
   ]
  },
  {
   "cell_type": "code",
   "execution_count": 36,
   "metadata": {},
   "outputs": [
    {
     "data": {
      "image/png": "[encoded data removed]",
      "text/plain": [
       "<Figure size 1000x400 with 1 Axes>"
      ]
     },
     "metadata": {},
     "output_type": "display_data"
    }
   ],
   "source": [
    "visualize_predictions(X_test_time, y_test, y_pred, index=3000)"
   ]
  },
  {
   "cell_type": "code",
   "execution_count": 37,
   "metadata": {},
   "outputs": [],
   "source": [
    "# Saving model\n",
    "model.save(f'cnn_volatility_RMSE102.keras')"
   ]
  },
  {
   "cell_type": "markdown",
   "metadata": {},
   "source": [
    "## Improved Model Using GridSearch"
   ]
  },
  {
   "cell_type": "code",
   "execution_count": 38,
   "metadata": {},
   "outputs": [],
   "source": [
    "from sklearn.model_selection import GridSearchCV\n",
    "from keras.layers import Lambda\n",
    "\n",
    "def build_model(filters, kernel_size, pool_size, dense_units):\n",
    "    time_series_input = Input(shape=(sequence_length, 1), name='time_input')\n",
    "    x = Conv1D(filters, kernel_size=kernel_size, activation='relu')(time_series_input)\n",
    "    x = MaxPooling1D(pool_size=pool_size)(x)\n",
    "    x = GlobalMaxPooling1D()(x)\n",
    "\n",
    "    static_input = Input(shape=(num_static_features,), name='static_input')\n",
    "    s = Dense(dense_units, activation='relu')(static_input)\n",
    "    \n",
    "    merged = Concatenate()([x, s])\n",
    "    out = Dense(256, activation='relu')(merged)\n",
    "    out = Dense(256, activation='relu')(out)\n",
    "    out = Dense(target_offset)(out)\n",
    "\n",
    "    model = Model(inputs=[time_series_input, static_input], outputs=out)\n",
    "    model.compile(optimizer='adam', loss='mse', metrics=['mse','mae'])\n",
    "    \n",
    "    return model"
   ]
  },
  {
   "cell_type": "code",
   "execution_count": 39,
   "metadata": {},
   "outputs": [],
   "source": [
    "# in distribution test data\n",
    "X_test_time_id, X_test_static_id, y_test_id, _, _ = split_dynamic_static_inputs(formatter.test_data[~formatter.test_data.index.isin(formatter.test_idx_ood)], sequence_length, static_cols=static_cols)"
   ]
  },
  {
   "cell_type": "code",
   "execution_count": 40,
   "metadata": {},
   "outputs": [
    {
     "name": "stdout",
     "output_type": "stream",
     "text": [
      "After iteration 1/72\n",
      "Training with filters=32, kernel_size=3, pool_size=2, dense_units=64, batch_size=16\n",
      "Train (RMSE): 9.254961487428734\t OOD Test (RMSE): 10.156921927893135\t ID Test (RMSE): 10.156921927893135\t Avg (RMSE): 9.865435253659141\n",
      "\n",
      "After iteration 2/72\n",
      "Training with filters=32, kernel_size=3, pool_size=2, dense_units=64, batch_size=32\n",
      "Train (RMSE): 9.247460506423971\t OOD Test (RMSE): 10.058825467597977\t ID Test (RMSE): 10.058825467597977\t Avg (RMSE): 9.795840365397726\n",
      "\n",
      "After iteration 3/72\n",
      "Training with filters=32, kernel_size=3, pool_size=2, dense_units=64, batch_size=64\n",
      "Train (RMSE): 9.19809573824718\t OOD Test (RMSE): 10.058825467597977\t ID Test (RMSE): 10.058825467597977\t Avg (RMSE): 9.795840365397726\n",
      "\n",
      "After iteration 4/72\n",
      "Training with filters=32, kernel_size=3, pool_size=2, dense_units=128, batch_size=16\n",
      "Train (RMSE): 9.19809573824718\t OOD Test (RMSE): 10.01674051961051\t ID Test (RMSE): 10.01674051961051\t Avg (RMSE): 9.763221188525549\n",
      "\n",
      "After iteration 5/72\n",
      "Training with filters=32, kernel_size=3, pool_size=2, dense_units=128, batch_size=32\n",
      "Train (RMSE): 9.19809573824718\t OOD Test (RMSE): 10.012116149326157\t ID Test (RMSE): 10.012116149326157\t Avg (RMSE): 9.763221188525549\n",
      "\n",
      "After iteration 6/72\n",
      "Training with filters=32, kernel_size=3, pool_size=2, dense_units=128, batch_size=64\n",
      "Train (RMSE): 9.19809573824718\t OOD Test (RMSE): 10.012116149326157\t ID Test (RMSE): 10.012116149326157\t Avg (RMSE): 9.763221188525549\n",
      "\n",
      "After iteration 7/72\n",
      "Training with filters=32, kernel_size=3, pool_size=3, dense_units=64, batch_size=16\n",
      "Train (RMSE): 9.19809573824718\t OOD Test (RMSE): 10.012116149326157\t ID Test (RMSE): 10.012116149326157\t Avg (RMSE): 9.763221188525549\n",
      "\n",
      "After iteration 8/72\n",
      "Training with filters=32, kernel_size=3, pool_size=3, dense_units=64, batch_size=32\n",
      "Train (RMSE): 9.19809573824718\t OOD Test (RMSE): 10.012116149326157\t ID Test (RMSE): 10.012116149326157\t Avg (RMSE): 9.763221188525549\n",
      "\n",
      "After iteration 9/72\n",
      "Training with filters=32, kernel_size=3, pool_size=3, dense_units=64, batch_size=64\n"
     ]
    },
    {
     "ename": "KeyboardInterrupt",
     "evalue": "",
     "output_type": "error",
     "traceback": [
      "\u001b[1;31m---------------------------------------------------------------------------\u001b[0m",
      "\u001b[1;31mKeyboardInterrupt\u001b[0m                         Traceback (most recent call last)",
      "Cell \u001b[1;32mIn[40], line 41\u001b[0m\n\u001b[0;32m     39\u001b[0m model \u001b[38;5;241m=\u001b[39m build_model(filters, kernel_size, pool_size, dense_units)\n\u001b[0;32m     40\u001b[0m model\u001b[38;5;241m.\u001b[39mcompile(optimizer\u001b[38;5;241m=\u001b[39m\u001b[38;5;124m'\u001b[39m\u001b[38;5;124madam\u001b[39m\u001b[38;5;124m'\u001b[39m, loss\u001b[38;5;241m=\u001b[39m\u001b[38;5;124m'\u001b[39m\u001b[38;5;124mmse\u001b[39m\u001b[38;5;124m'\u001b[39m, metrics\u001b[38;5;241m=\u001b[39m[\u001b[38;5;124m'\u001b[39m\u001b[38;5;124mmse\u001b[39m\u001b[38;5;124m'\u001b[39m,\u001b[38;5;124m'\u001b[39m\u001b[38;5;124mmae\u001b[39m\u001b[38;5;124m'\u001b[39m])\n\u001b[1;32m---> 41\u001b[0m history \u001b[38;5;241m=\u001b[39m \u001b[43mmodel\u001b[49m\u001b[38;5;241;43m.\u001b[39;49m\u001b[43mfit\u001b[49m\u001b[43m(\u001b[49m\u001b[43m[\u001b[49m\u001b[43mX_train_time\u001b[49m\u001b[43m,\u001b[49m\u001b[43m \u001b[49m\u001b[43mX_train_static\u001b[49m\u001b[43m]\u001b[49m\u001b[43m,\u001b[49m\u001b[43m \u001b[49m\u001b[43my_train_delta\u001b[49m\u001b[43m,\u001b[49m\u001b[43m \u001b[49m\u001b[43mepochs\u001b[49m\u001b[38;5;241;43m=\u001b[39;49m\u001b[43mepochs\u001b[49m\u001b[43m,\u001b[49m\u001b[43m \u001b[49m\u001b[43mbatch_size\u001b[49m\u001b[38;5;241;43m=\u001b[39;49m\u001b[38;5;241;43m32\u001b[39;49m\u001b[43m,\u001b[49m\u001b[43m \u001b[49m\u001b[43mvalidation_split\u001b[49m\u001b[38;5;241;43m=\u001b[39;49m\u001b[38;5;241;43m0.2\u001b[39;49m\u001b[43m,\u001b[49m\u001b[43m \u001b[49m\u001b[43mverbose\u001b[49m\u001b[38;5;241;43m=\u001b[39;49m\u001b[38;5;241;43m0\u001b[39;49m\u001b[43m)\u001b[49m\n\u001b[0;32m     43\u001b[0m val_loss \u001b[38;5;241m=\u001b[39m history\u001b[38;5;241m.\u001b[39mhistory[\u001b[38;5;124m'\u001b[39m\u001b[38;5;124mval_loss\u001b[39m\u001b[38;5;124m'\u001b[39m][\u001b[38;5;241m-\u001b[39m\u001b[38;5;241m1\u001b[39m]\n\u001b[0;32m     45\u001b[0m \u001b[38;5;66;03m# Track best model\u001b[39;00m\n\u001b[0;32m     46\u001b[0m \u001b[38;5;66;03m# training data\u001b[39;00m\n",
      "File \u001b[1;32mc:\\Users\\Asa\\miniconda3\\envs\\dev\\Lib\\site-packages\\keras\\src\\utils\\traceback_utils.py:117\u001b[0m, in \u001b[0;36mfilter_traceback.<locals>.error_handler\u001b[1;34m(*args, **kwargs)\u001b[0m\n\u001b[0;32m    115\u001b[0m filtered_tb \u001b[38;5;241m=\u001b[39m \u001b[38;5;28;01mNone\u001b[39;00m\n\u001b[0;32m    116\u001b[0m \u001b[38;5;28;01mtry\u001b[39;00m:\n\u001b[1;32m--> 117\u001b[0m     \u001b[38;5;28;01mreturn\u001b[39;00m \u001b[43mfn\u001b[49m\u001b[43m(\u001b[49m\u001b[38;5;241;43m*\u001b[39;49m\u001b[43margs\u001b[49m\u001b[43m,\u001b[49m\u001b[43m \u001b[49m\u001b[38;5;241;43m*\u001b[39;49m\u001b[38;5;241;43m*\u001b[39;49m\u001b[43mkwargs\u001b[49m\u001b[43m)\u001b[49m\n\u001b[0;32m    118\u001b[0m \u001b[38;5;28;01mexcept\u001b[39;00m \u001b[38;5;167;01mException\u001b[39;00m \u001b[38;5;28;01mas\u001b[39;00m e:\n\u001b[0;32m    119\u001b[0m     filtered_tb \u001b[38;5;241m=\u001b[39m _process_traceback_frames(e\u001b[38;5;241m.\u001b[39m__traceback__)\n",
      "File \u001b[1;32mc:\\Users\\Asa\\miniconda3\\envs\\dev\\Lib\\site-packages\\keras\\src\\backend\\tensorflow\\trainer.py:371\u001b[0m, in \u001b[0;36mTensorFlowTrainer.fit\u001b[1;34m(self, x, y, batch_size, epochs, verbose, callbacks, validation_split, validation_data, shuffle, class_weight, sample_weight, initial_epoch, steps_per_epoch, validation_steps, validation_batch_size, validation_freq)\u001b[0m\n\u001b[0;32m    369\u001b[0m \u001b[38;5;28;01mfor\u001b[39;00m step, iterator \u001b[38;5;129;01min\u001b[39;00m epoch_iterator:\n\u001b[0;32m    370\u001b[0m     callbacks\u001b[38;5;241m.\u001b[39mon_train_batch_begin(step)\n\u001b[1;32m--> 371\u001b[0m     logs \u001b[38;5;241m=\u001b[39m \u001b[38;5;28;43mself\u001b[39;49m\u001b[38;5;241;43m.\u001b[39;49m\u001b[43mtrain_function\u001b[49m\u001b[43m(\u001b[49m\u001b[43miterator\u001b[49m\u001b[43m)\u001b[49m\n\u001b[0;32m    372\u001b[0m     callbacks\u001b[38;5;241m.\u001b[39mon_train_batch_end(step, logs)\n\u001b[0;32m    373\u001b[0m     \u001b[38;5;28;01mif\u001b[39;00m \u001b[38;5;28mself\u001b[39m\u001b[38;5;241m.\u001b[39mstop_training:\n",
      "File \u001b[1;32mc:\\Users\\Asa\\miniconda3\\envs\\dev\\Lib\\site-packages\\keras\\src\\backend\\tensorflow\\trainer.py:219\u001b[0m, in \u001b[0;36mTensorFlowTrainer._make_function.<locals>.function\u001b[1;34m(iterator)\u001b[0m\n\u001b[0;32m    215\u001b[0m \u001b[38;5;28;01mdef\u001b[39;00m \u001b[38;5;21mfunction\u001b[39m(iterator):\n\u001b[0;32m    216\u001b[0m     \u001b[38;5;28;01mif\u001b[39;00m \u001b[38;5;28misinstance\u001b[39m(\n\u001b[0;32m    217\u001b[0m         iterator, (tf\u001b[38;5;241m.\u001b[39mdata\u001b[38;5;241m.\u001b[39mIterator, tf\u001b[38;5;241m.\u001b[39mdistribute\u001b[38;5;241m.\u001b[39mDistributedIterator)\n\u001b[0;32m    218\u001b[0m     ):\n\u001b[1;32m--> 219\u001b[0m         opt_outputs \u001b[38;5;241m=\u001b[39m \u001b[43mmulti_step_on_iterator\u001b[49m\u001b[43m(\u001b[49m\u001b[43miterator\u001b[49m\u001b[43m)\u001b[49m\n\u001b[0;32m    220\u001b[0m         \u001b[38;5;28;01mif\u001b[39;00m \u001b[38;5;129;01mnot\u001b[39;00m opt_outputs\u001b[38;5;241m.\u001b[39mhas_value():\n\u001b[0;32m    221\u001b[0m             \u001b[38;5;28;01mraise\u001b[39;00m \u001b[38;5;167;01mStopIteration\u001b[39;00m\n",
      "File \u001b[1;32mc:\\Users\\Asa\\miniconda3\\envs\\dev\\Lib\\site-packages\\tensorflow\\python\\util\\traceback_utils.py:150\u001b[0m, in \u001b[0;36mfilter_traceback.<locals>.error_handler\u001b[1;34m(*args, **kwargs)\u001b[0m\n\u001b[0;32m    148\u001b[0m filtered_tb \u001b[38;5;241m=\u001b[39m \u001b[38;5;28;01mNone\u001b[39;00m\n\u001b[0;32m    149\u001b[0m \u001b[38;5;28;01mtry\u001b[39;00m:\n\u001b[1;32m--> 150\u001b[0m   \u001b[38;5;28;01mreturn\u001b[39;00m \u001b[43mfn\u001b[49m\u001b[43m(\u001b[49m\u001b[38;5;241;43m*\u001b[39;49m\u001b[43margs\u001b[49m\u001b[43m,\u001b[49m\u001b[43m \u001b[49m\u001b[38;5;241;43m*\u001b[39;49m\u001b[38;5;241;43m*\u001b[39;49m\u001b[43mkwargs\u001b[49m\u001b[43m)\u001b[49m\n\u001b[0;32m    151\u001b[0m \u001b[38;5;28;01mexcept\u001b[39;00m \u001b[38;5;167;01mException\u001b[39;00m \u001b[38;5;28;01mas\u001b[39;00m e:\n\u001b[0;32m    152\u001b[0m   filtered_tb \u001b[38;5;241m=\u001b[39m _process_traceback_frames(e\u001b[38;5;241m.\u001b[39m__traceback__)\n",
      "File \u001b[1;32mc:\\Users\\Asa\\miniconda3\\envs\\dev\\Lib\\site-packages\\tensorflow\\python\\eager\\polymorphic_function\\polymorphic_function.py:833\u001b[0m, in \u001b[0;36mFunction.__call__\u001b[1;34m(self, *args, **kwds)\u001b[0m\n\u001b[0;32m    830\u001b[0m compiler \u001b[38;5;241m=\u001b[39m \u001b[38;5;124m\"\u001b[39m\u001b[38;5;124mxla\u001b[39m\u001b[38;5;124m\"\u001b[39m \u001b[38;5;28;01mif\u001b[39;00m \u001b[38;5;28mself\u001b[39m\u001b[38;5;241m.\u001b[39m_jit_compile \u001b[38;5;28;01melse\u001b[39;00m \u001b[38;5;124m\"\u001b[39m\u001b[38;5;124mnonXla\u001b[39m\u001b[38;5;124m\"\u001b[39m\n\u001b[0;32m    832\u001b[0m \u001b[38;5;28;01mwith\u001b[39;00m OptionalXlaContext(\u001b[38;5;28mself\u001b[39m\u001b[38;5;241m.\u001b[39m_jit_compile):\n\u001b[1;32m--> 833\u001b[0m   result \u001b[38;5;241m=\u001b[39m \u001b[38;5;28;43mself\u001b[39;49m\u001b[38;5;241;43m.\u001b[39;49m\u001b[43m_call\u001b[49m\u001b[43m(\u001b[49m\u001b[38;5;241;43m*\u001b[39;49m\u001b[43margs\u001b[49m\u001b[43m,\u001b[49m\u001b[43m \u001b[49m\u001b[38;5;241;43m*\u001b[39;49m\u001b[38;5;241;43m*\u001b[39;49m\u001b[43mkwds\u001b[49m\u001b[43m)\u001b[49m\n\u001b[0;32m    835\u001b[0m new_tracing_count \u001b[38;5;241m=\u001b[39m \u001b[38;5;28mself\u001b[39m\u001b[38;5;241m.\u001b[39mexperimental_get_tracing_count()\n\u001b[0;32m    836\u001b[0m without_tracing \u001b[38;5;241m=\u001b[39m (tracing_count \u001b[38;5;241m==\u001b[39m new_tracing_count)\n",
      "File \u001b[1;32mc:\\Users\\Asa\\miniconda3\\envs\\dev\\Lib\\site-packages\\tensorflow\\python\\eager\\polymorphic_function\\polymorphic_function.py:878\u001b[0m, in \u001b[0;36mFunction._call\u001b[1;34m(self, *args, **kwds)\u001b[0m\n\u001b[0;32m    875\u001b[0m \u001b[38;5;28mself\u001b[39m\u001b[38;5;241m.\u001b[39m_lock\u001b[38;5;241m.\u001b[39mrelease()\n\u001b[0;32m    876\u001b[0m \u001b[38;5;66;03m# In this case we have not created variables on the first call. So we can\u001b[39;00m\n\u001b[0;32m    877\u001b[0m \u001b[38;5;66;03m# run the first trace but we should fail if variables are created.\u001b[39;00m\n\u001b[1;32m--> 878\u001b[0m results \u001b[38;5;241m=\u001b[39m \u001b[43mtracing_compilation\u001b[49m\u001b[38;5;241;43m.\u001b[39;49m\u001b[43mcall_function\u001b[49m\u001b[43m(\u001b[49m\n\u001b[0;32m    879\u001b[0m \u001b[43m    \u001b[49m\u001b[43margs\u001b[49m\u001b[43m,\u001b[49m\u001b[43m \u001b[49m\u001b[43mkwds\u001b[49m\u001b[43m,\u001b[49m\u001b[43m \u001b[49m\u001b[38;5;28;43mself\u001b[39;49m\u001b[38;5;241;43m.\u001b[39;49m\u001b[43m_variable_creation_config\u001b[49m\n\u001b[0;32m    880\u001b[0m \u001b[43m\u001b[49m\u001b[43m)\u001b[49m\n\u001b[0;32m    881\u001b[0m \u001b[38;5;28;01mif\u001b[39;00m \u001b[38;5;28mself\u001b[39m\u001b[38;5;241m.\u001b[39m_created_variables:\n\u001b[0;32m    882\u001b[0m   \u001b[38;5;28;01mraise\u001b[39;00m \u001b[38;5;167;01mValueError\u001b[39;00m(\u001b[38;5;124m\"\u001b[39m\u001b[38;5;124mCreating variables on a non-first call to a function\u001b[39m\u001b[38;5;124m\"\u001b[39m\n\u001b[0;32m    883\u001b[0m                    \u001b[38;5;124m\"\u001b[39m\u001b[38;5;124m decorated with tf.function.\u001b[39m\u001b[38;5;124m\"\u001b[39m)\n",
      "File \u001b[1;32mc:\\Users\\Asa\\miniconda3\\envs\\dev\\Lib\\site-packages\\tensorflow\\python\\eager\\polymorphic_function\\tracing_compilation.py:139\u001b[0m, in \u001b[0;36mcall_function\u001b[1;34m(args, kwargs, tracing_options)\u001b[0m\n\u001b[0;32m    137\u001b[0m bound_args \u001b[38;5;241m=\u001b[39m function\u001b[38;5;241m.\u001b[39mfunction_type\u001b[38;5;241m.\u001b[39mbind(\u001b[38;5;241m*\u001b[39margs, \u001b[38;5;241m*\u001b[39m\u001b[38;5;241m*\u001b[39mkwargs)\n\u001b[0;32m    138\u001b[0m flat_inputs \u001b[38;5;241m=\u001b[39m function\u001b[38;5;241m.\u001b[39mfunction_type\u001b[38;5;241m.\u001b[39munpack_inputs(bound_args)\n\u001b[1;32m--> 139\u001b[0m \u001b[38;5;28;01mreturn\u001b[39;00m \u001b[43mfunction\u001b[49m\u001b[38;5;241;43m.\u001b[39;49m\u001b[43m_call_flat\u001b[49m\u001b[43m(\u001b[49m\u001b[43m  \u001b[49m\u001b[38;5;66;43;03m# pylint: disable=protected-access\u001b[39;49;00m\n\u001b[0;32m    140\u001b[0m \u001b[43m    \u001b[49m\u001b[43mflat_inputs\u001b[49m\u001b[43m,\u001b[49m\u001b[43m \u001b[49m\u001b[43mcaptured_inputs\u001b[49m\u001b[38;5;241;43m=\u001b[39;49m\u001b[43mfunction\u001b[49m\u001b[38;5;241;43m.\u001b[39;49m\u001b[43mcaptured_inputs\u001b[49m\n\u001b[0;32m    141\u001b[0m \u001b[43m\u001b[49m\u001b[43m)\u001b[49m\n",
      "File \u001b[1;32mc:\\Users\\Asa\\miniconda3\\envs\\dev\\Lib\\site-packages\\tensorflow\\python\\eager\\polymorphic_function\\concrete_function.py:1322\u001b[0m, in \u001b[0;36mConcreteFunction._call_flat\u001b[1;34m(self, tensor_inputs, captured_inputs)\u001b[0m\n\u001b[0;32m   1318\u001b[0m possible_gradient_type \u001b[38;5;241m=\u001b[39m gradients_util\u001b[38;5;241m.\u001b[39mPossibleTapeGradientTypes(args)\n\u001b[0;32m   1319\u001b[0m \u001b[38;5;28;01mif\u001b[39;00m (possible_gradient_type \u001b[38;5;241m==\u001b[39m gradients_util\u001b[38;5;241m.\u001b[39mPOSSIBLE_GRADIENT_TYPES_NONE\n\u001b[0;32m   1320\u001b[0m     \u001b[38;5;129;01mand\u001b[39;00m executing_eagerly):\n\u001b[0;32m   1321\u001b[0m   \u001b[38;5;66;03m# No tape is watching; skip to running the function.\u001b[39;00m\n\u001b[1;32m-> 1322\u001b[0m   \u001b[38;5;28;01mreturn\u001b[39;00m \u001b[38;5;28;43mself\u001b[39;49m\u001b[38;5;241;43m.\u001b[39;49m\u001b[43m_inference_function\u001b[49m\u001b[38;5;241;43m.\u001b[39;49m\u001b[43mcall_preflattened\u001b[49m\u001b[43m(\u001b[49m\u001b[43margs\u001b[49m\u001b[43m)\u001b[49m\n\u001b[0;32m   1323\u001b[0m forward_backward \u001b[38;5;241m=\u001b[39m \u001b[38;5;28mself\u001b[39m\u001b[38;5;241m.\u001b[39m_select_forward_and_backward_functions(\n\u001b[0;32m   1324\u001b[0m     args,\n\u001b[0;32m   1325\u001b[0m     possible_gradient_type,\n\u001b[0;32m   1326\u001b[0m     executing_eagerly)\n\u001b[0;32m   1327\u001b[0m forward_function, args_with_tangents \u001b[38;5;241m=\u001b[39m forward_backward\u001b[38;5;241m.\u001b[39mforward()\n",
      "File \u001b[1;32mc:\\Users\\Asa\\miniconda3\\envs\\dev\\Lib\\site-packages\\tensorflow\\python\\eager\\polymorphic_function\\atomic_function.py:216\u001b[0m, in \u001b[0;36mAtomicFunction.call_preflattened\u001b[1;34m(self, args)\u001b[0m\n\u001b[0;32m    214\u001b[0m \u001b[38;5;28;01mdef\u001b[39;00m \u001b[38;5;21mcall_preflattened\u001b[39m(\u001b[38;5;28mself\u001b[39m, args: Sequence[core\u001b[38;5;241m.\u001b[39mTensor]) \u001b[38;5;241m-\u001b[39m\u001b[38;5;241m>\u001b[39m Any:\n\u001b[0;32m    215\u001b[0m \u001b[38;5;250m  \u001b[39m\u001b[38;5;124;03m\"\"\"Calls with flattened tensor inputs and returns the structured output.\"\"\"\u001b[39;00m\n\u001b[1;32m--> 216\u001b[0m   flat_outputs \u001b[38;5;241m=\u001b[39m \u001b[38;5;28;43mself\u001b[39;49m\u001b[38;5;241;43m.\u001b[39;49m\u001b[43mcall_flat\u001b[49m\u001b[43m(\u001b[49m\u001b[38;5;241;43m*\u001b[39;49m\u001b[43margs\u001b[49m\u001b[43m)\u001b[49m\n\u001b[0;32m    217\u001b[0m   \u001b[38;5;28;01mreturn\u001b[39;00m \u001b[38;5;28mself\u001b[39m\u001b[38;5;241m.\u001b[39mfunction_type\u001b[38;5;241m.\u001b[39mpack_output(flat_outputs)\n",
      "File \u001b[1;32mc:\\Users\\Asa\\miniconda3\\envs\\dev\\Lib\\site-packages\\tensorflow\\python\\eager\\polymorphic_function\\atomic_function.py:251\u001b[0m, in \u001b[0;36mAtomicFunction.call_flat\u001b[1;34m(self, *args)\u001b[0m\n\u001b[0;32m    249\u001b[0m \u001b[38;5;28;01mwith\u001b[39;00m record\u001b[38;5;241m.\u001b[39mstop_recording():\n\u001b[0;32m    250\u001b[0m   \u001b[38;5;28;01mif\u001b[39;00m \u001b[38;5;28mself\u001b[39m\u001b[38;5;241m.\u001b[39m_bound_context\u001b[38;5;241m.\u001b[39mexecuting_eagerly():\n\u001b[1;32m--> 251\u001b[0m     outputs \u001b[38;5;241m=\u001b[39m \u001b[38;5;28;43mself\u001b[39;49m\u001b[38;5;241;43m.\u001b[39;49m\u001b[43m_bound_context\u001b[49m\u001b[38;5;241;43m.\u001b[39;49m\u001b[43mcall_function\u001b[49m\u001b[43m(\u001b[49m\n\u001b[0;32m    252\u001b[0m \u001b[43m        \u001b[49m\u001b[38;5;28;43mself\u001b[39;49m\u001b[38;5;241;43m.\u001b[39;49m\u001b[43mname\u001b[49m\u001b[43m,\u001b[49m\n\u001b[0;32m    253\u001b[0m \u001b[43m        \u001b[49m\u001b[38;5;28;43mlist\u001b[39;49m\u001b[43m(\u001b[49m\u001b[43margs\u001b[49m\u001b[43m)\u001b[49m\u001b[43m,\u001b[49m\n\u001b[0;32m    254\u001b[0m \u001b[43m        \u001b[49m\u001b[38;5;28;43mlen\u001b[39;49m\u001b[43m(\u001b[49m\u001b[38;5;28;43mself\u001b[39;49m\u001b[38;5;241;43m.\u001b[39;49m\u001b[43mfunction_type\u001b[49m\u001b[38;5;241;43m.\u001b[39;49m\u001b[43mflat_outputs\u001b[49m\u001b[43m)\u001b[49m\u001b[43m,\u001b[49m\n\u001b[0;32m    255\u001b[0m \u001b[43m    \u001b[49m\u001b[43m)\u001b[49m\n\u001b[0;32m    256\u001b[0m   \u001b[38;5;28;01melse\u001b[39;00m:\n\u001b[0;32m    257\u001b[0m     outputs \u001b[38;5;241m=\u001b[39m make_call_op_in_graph(\n\u001b[0;32m    258\u001b[0m         \u001b[38;5;28mself\u001b[39m,\n\u001b[0;32m    259\u001b[0m         \u001b[38;5;28mlist\u001b[39m(args),\n\u001b[0;32m    260\u001b[0m         \u001b[38;5;28mself\u001b[39m\u001b[38;5;241m.\u001b[39m_bound_context\u001b[38;5;241m.\u001b[39mfunction_call_options\u001b[38;5;241m.\u001b[39mas_attrs(),\n\u001b[0;32m    261\u001b[0m     )\n",
      "File \u001b[1;32mc:\\Users\\Asa\\miniconda3\\envs\\dev\\Lib\\site-packages\\tensorflow\\python\\eager\\context.py:1683\u001b[0m, in \u001b[0;36mContext.call_function\u001b[1;34m(self, name, tensor_inputs, num_outputs)\u001b[0m\n\u001b[0;32m   1681\u001b[0m cancellation_context \u001b[38;5;241m=\u001b[39m cancellation\u001b[38;5;241m.\u001b[39mcontext()\n\u001b[0;32m   1682\u001b[0m \u001b[38;5;28;01mif\u001b[39;00m cancellation_context \u001b[38;5;129;01mis\u001b[39;00m \u001b[38;5;28;01mNone\u001b[39;00m:\n\u001b[1;32m-> 1683\u001b[0m   outputs \u001b[38;5;241m=\u001b[39m \u001b[43mexecute\u001b[49m\u001b[38;5;241;43m.\u001b[39;49m\u001b[43mexecute\u001b[49m\u001b[43m(\u001b[49m\n\u001b[0;32m   1684\u001b[0m \u001b[43m      \u001b[49m\u001b[43mname\u001b[49m\u001b[38;5;241;43m.\u001b[39;49m\u001b[43mdecode\u001b[49m\u001b[43m(\u001b[49m\u001b[38;5;124;43m\"\u001b[39;49m\u001b[38;5;124;43mutf-8\u001b[39;49m\u001b[38;5;124;43m\"\u001b[39;49m\u001b[43m)\u001b[49m\u001b[43m,\u001b[49m\n\u001b[0;32m   1685\u001b[0m \u001b[43m      \u001b[49m\u001b[43mnum_outputs\u001b[49m\u001b[38;5;241;43m=\u001b[39;49m\u001b[43mnum_outputs\u001b[49m\u001b[43m,\u001b[49m\n\u001b[0;32m   1686\u001b[0m \u001b[43m      \u001b[49m\u001b[43minputs\u001b[49m\u001b[38;5;241;43m=\u001b[39;49m\u001b[43mtensor_inputs\u001b[49m\u001b[43m,\u001b[49m\n\u001b[0;32m   1687\u001b[0m \u001b[43m      \u001b[49m\u001b[43mattrs\u001b[49m\u001b[38;5;241;43m=\u001b[39;49m\u001b[43mattrs\u001b[49m\u001b[43m,\u001b[49m\n\u001b[0;32m   1688\u001b[0m \u001b[43m      \u001b[49m\u001b[43mctx\u001b[49m\u001b[38;5;241;43m=\u001b[39;49m\u001b[38;5;28;43mself\u001b[39;49m\u001b[43m,\u001b[49m\n\u001b[0;32m   1689\u001b[0m \u001b[43m  \u001b[49m\u001b[43m)\u001b[49m\n\u001b[0;32m   1690\u001b[0m \u001b[38;5;28;01melse\u001b[39;00m:\n\u001b[0;32m   1691\u001b[0m   outputs \u001b[38;5;241m=\u001b[39m execute\u001b[38;5;241m.\u001b[39mexecute_with_cancellation(\n\u001b[0;32m   1692\u001b[0m       name\u001b[38;5;241m.\u001b[39mdecode(\u001b[38;5;124m\"\u001b[39m\u001b[38;5;124mutf-8\u001b[39m\u001b[38;5;124m\"\u001b[39m),\n\u001b[0;32m   1693\u001b[0m       num_outputs\u001b[38;5;241m=\u001b[39mnum_outputs,\n\u001b[1;32m   (...)\u001b[0m\n\u001b[0;32m   1697\u001b[0m       cancellation_manager\u001b[38;5;241m=\u001b[39mcancellation_context,\n\u001b[0;32m   1698\u001b[0m   )\n",
      "File \u001b[1;32mc:\\Users\\Asa\\miniconda3\\envs\\dev\\Lib\\site-packages\\tensorflow\\python\\eager\\execute.py:53\u001b[0m, in \u001b[0;36mquick_execute\u001b[1;34m(op_name, num_outputs, inputs, attrs, ctx, name)\u001b[0m\n\u001b[0;32m     51\u001b[0m \u001b[38;5;28;01mtry\u001b[39;00m:\n\u001b[0;32m     52\u001b[0m   ctx\u001b[38;5;241m.\u001b[39mensure_initialized()\n\u001b[1;32m---> 53\u001b[0m   tensors \u001b[38;5;241m=\u001b[39m \u001b[43mpywrap_tfe\u001b[49m\u001b[38;5;241;43m.\u001b[39;49m\u001b[43mTFE_Py_Execute\u001b[49m\u001b[43m(\u001b[49m\u001b[43mctx\u001b[49m\u001b[38;5;241;43m.\u001b[39;49m\u001b[43m_handle\u001b[49m\u001b[43m,\u001b[49m\u001b[43m \u001b[49m\u001b[43mdevice_name\u001b[49m\u001b[43m,\u001b[49m\u001b[43m \u001b[49m\u001b[43mop_name\u001b[49m\u001b[43m,\u001b[49m\n\u001b[0;32m     54\u001b[0m \u001b[43m                                      \u001b[49m\u001b[43minputs\u001b[49m\u001b[43m,\u001b[49m\u001b[43m \u001b[49m\u001b[43mattrs\u001b[49m\u001b[43m,\u001b[49m\u001b[43m \u001b[49m\u001b[43mnum_outputs\u001b[49m\u001b[43m)\u001b[49m\n\u001b[0;32m     55\u001b[0m \u001b[38;5;28;01mexcept\u001b[39;00m core\u001b[38;5;241m.\u001b[39m_NotOkStatusException \u001b[38;5;28;01mas\u001b[39;00m e:\n\u001b[0;32m     56\u001b[0m   \u001b[38;5;28;01mif\u001b[39;00m name \u001b[38;5;129;01mis\u001b[39;00m \u001b[38;5;129;01mnot\u001b[39;00m \u001b[38;5;28;01mNone\u001b[39;00m:\n",
      "\u001b[1;31mKeyboardInterrupt\u001b[0m: "
     ]
    }
   ],
   "source": [
    "from itertools import product\n",
    "\n",
    "# Define hyperparameter grid\n",
    "param_grid = {\n",
    "    \"model__filters\": [32, 64],\n",
    "    \"model__kernel_size\": [3, 5, 7],\n",
    "    \"model__pool_size\": [2, 3],\n",
    "    \"model__dense_units\": [64, 128],\n",
    "    \"batch_size\": [16, 32, 64],\n",
    "    \"epochs\": [30]\n",
    "}\n",
    "\n",
    "# Track best config\n",
    "best_train_model = None\n",
    "best_train_loss = float('inf')\n",
    "best_train_params = None\n",
    "\n",
    "best_test_loss = float('inf')\n",
    "best_test_model = None\n",
    "best_test_params = None\n",
    "\n",
    "best_id_test_loss = float('inf')\n",
    "best_id_test_model = None\n",
    "best_id_test_params = None\n",
    "\n",
    "best_avg_loss = float('inf')\n",
    "best_avg_model = None\n",
    "best_avg_params = None\n",
    "\n",
    "# Loop through all hyperparameter combinations\n",
    "i = 0\n",
    "num_combinations = np.prod([len(v) for v in param_grid.values()])\n",
    "for filters, kernel_size, pool_size, dense_units, batch_size, epochs in product(*param_grid.values()):\n",
    "    i += 1\n",
    "    print(f\"After iteration {i}/{num_combinations}\")\n",
    "    print(f\"Training with filters={filters}, kernel_size={kernel_size}, pool_size={pool_size}, dense_units={dense_units}, batch_size={batch_size}\")\n",
    "\n",
    "    # Build model\n",
    "    model = build_model(filters, kernel_size, pool_size, dense_units)\n",
    "    model.compile(optimizer='adam', loss='mse', metrics=['mse','mae'])\n",
    "    history = model.fit([X_train_time, X_train_static], y_train_delta, epochs=epochs, batch_size=32, validation_split=0.2, verbose=0)\n",
    "\n",
    "    val_loss = history.history['val_loss'][-1]\n",
    "\n",
    "    # Track best model\n",
    "    # training data\n",
    "    if val_loss < best_train_loss:\n",
    "        best_train_loss = val_loss\n",
    "        best_train_model = model\n",
    "        best_train_params = {\n",
    "            'filters': filters,\n",
    "            'kernel_size': kernel_size,\n",
    "            'pool_size': pool_size,\n",
    "            'dense_units': dense_units,\n",
    "            'batch_size': batch_size,\n",
    "            'epochs': epochs\n",
    "        }\n",
    "\n",
    "    # out of distribution test data\n",
    "    y_pred = model.predict([X_test_time, X_test_static], verbose=0)\n",
    "    y_pred = inverse_transform_delta_from_last(X_test_time, y_pred)\n",
    "    mse = mean_squared_error(y_test, y_pred)\n",
    "    if mse < best_test_loss:\n",
    "        best_test_loss = mse\n",
    "        best_test_model = model\n",
    "        best_test_params = {\n",
    "            'filters': filters,\n",
    "            'kernel_size': kernel_size,\n",
    "            'pool_size': pool_size,\n",
    "            'dense_units': dense_units,\n",
    "            'batch_size': batch_size,\n",
    "            'epochs': epochs\n",
    "        }\n",
    "\n",
    "    # in distributino test data\n",
    "    y_pred_id = model.predict([X_test_time_id, X_test_static_id], verbose=0)\n",
    "    y_pred_id = inverse_transform_delta_from_last(X_test_time_id, y_pred_id)\n",
    "    id_mse = mean_squared_error(y_test_id, y_pred_id)\n",
    "    if id_mse < best_id_test_loss:\n",
    "        best_id_test_loss = id_mse\n",
    "        best_id_test_model = model\n",
    "        best_id_test_params = {\n",
    "            'filters': filters,\n",
    "            'kernel_size': kernel_size,\n",
    "            'pool_size': pool_size,\n",
    "            'dense_units': dense_units,\n",
    "            'batch_size': batch_size,\n",
    "            'epochs': epochs\n",
    "        }\n",
    "\n",
    "    # average loss among all test sets\n",
    "    avg_loss = (mse + id_mse + val_loss) / 3\n",
    "    if avg_loss < best_avg_loss:\n",
    "        best_avg_loss = avg_loss\n",
    "        best_avg_model = model\n",
    "        best_avg_params = {\n",
    "            'filters': filters,\n",
    "            'kernel_size': kernel_size,\n",
    "            'pool_size': pool_size,\n",
    "            'dense_units': dense_units,\n",
    "            'batch_size': batch_size,\n",
    "            'epochs': epochs\n",
    "        }\n",
    "\n",
    "    print(f\"Train (RMSE): {best_train_loss**0.5}\\t OOD Test (RMSE): {best_test_loss**0.5}\\t ID Test (RMSE): {best_id_test_loss**0.5}\\t Avg (RMSE): {best_avg_loss**0.5}\")\n",
    "    print()\n"
   ]
  },
  {
   "cell_type": "code",
   "execution_count": null,
   "metadata": {},
   "outputs": [
    {
     "name": "stdout",
     "output_type": "stream",
     "text": [
      "\n",
      "Best Training Parameters:\n",
      "{'filters': 64, 'kernel_size': 5, 'pool_size': 3, 'dense_units': 64, 'batch_size': 64, 'epochs': 30} \n",
      "\n",
      "Best Training Loss (RMSE): 9.02246088464999\n",
      "\n",
      "Best Testing Parameters:\n",
      "{'filters': 32, 'kernel_size': 5, 'pool_size': 3, 'dense_units': 128, 'batch_size': 32, 'epochs': 30} \n",
      "\n",
      "Best Testing Loss (RMSE): 9.879778128538142\n"
     ]
    }
   ],
   "source": [
    "# printing best results\n",
    "print(\"\\nBest Training Parameters:\")\n",
    "print(best_train_params, \"\\n\")\n",
    "print(f\"Best Training Loss (RMSE): {best_train_loss**0.5}\")\n",
    "\n",
    "print(\"\\nBest Testing Parameters:\")\n",
    "print(best_test_params, \"\\n\")\n",
    "print(f\"Best Testing Loss (RMSE): {best_test_loss**0.5}\")"
   ]
  },
  {
   "cell_type": "code",
   "execution_count": null,
   "metadata": {},
   "outputs": [
    {
     "data": {
      "text/plain": [
       "9.879778128538142"
      ]
     },
     "execution_count": 56,
     "metadata": {},
     "output_type": "execute_result"
    }
   ],
   "source": [
    "y_pred = best_test_model.predict([X_test_time, X_test_static], verbose=0)\n",
    "mean_squared_error(y_test_delta, y_pred)**0.5"
   ]
  },
  {
   "cell_type": "code",
   "execution_count": null,
   "metadata": {},
   "outputs": [
    {
     "data": {
      "text/plain": [
       "6.231281280517578"
      ]
     },
     "execution_count": 57,
     "metadata": {},
     "output_type": "execute_result"
    }
   ],
   "source": [
    "mean_absolute_error(y_test_delta, y_pred)"
   ]
  },
  {
   "cell_type": "markdown",
   "metadata": {},
   "source": [
    "### Rebuilding the with GridSearch Hyperparameters\n",
    "Below we rebuild the model using hyperparameters specified by gridsearch and train on a slighlty increased number of epochs."
   ]
  },
  {
   "cell_type": "code",
   "execution_count": 60,
   "metadata": {},
   "outputs": [
    {
     "name": "stdout",
     "output_type": "stream",
     "text": [
      "Epoch 1/30\n",
      "\u001b[1m1851/1851\u001b[0m \u001b[32m━━━━━━━━━━━━━━━━━━━━\u001b[0m\u001b[37m\u001b[0m \u001b[1m5s\u001b[0m 3ms/step - loss: 82.6839 - mae: 5.9834 - mse: 82.6839\n",
      "Epoch 2/30\n",
      "\u001b[1m1851/1851\u001b[0m \u001b[32m━━━━━━━━━━━━━━━━━━━━\u001b[0m\u001b[37m\u001b[0m \u001b[1m7s\u001b[0m 4ms/step - loss: 82.9771 - mae: 5.9903 - mse: 82.9771\n",
      "Epoch 3/30\n",
      "\u001b[1m1851/1851\u001b[0m \u001b[32m━━━━━━━━━━━━━━━━━━━━\u001b[0m\u001b[37m\u001b[0m \u001b[1m6s\u001b[0m 3ms/step - loss: 83.4631 - mae: 6.0161 - mse: 83.4631\n",
      "Epoch 4/30\n",
      "\u001b[1m1851/1851\u001b[0m \u001b[32m━━━━━━━━━━━━━━━━━━━━\u001b[0m\u001b[37m\u001b[0m \u001b[1m5s\u001b[0m 3ms/step - loss: 83.0873 - mae: 6.0166 - mse: 83.0873\n",
      "Epoch 5/30\n",
      "\u001b[1m1851/1851\u001b[0m \u001b[32m━━━━━━━━━━━━━━━━━━━━\u001b[0m\u001b[37m\u001b[0m \u001b[1m5s\u001b[0m 3ms/step - loss: 82.6729 - mae: 5.9878 - mse: 82.6729\n",
      "Epoch 6/30\n",
      "\u001b[1m1851/1851\u001b[0m \u001b[32m━━━━━━━━━━━━━━━━━━━━\u001b[0m\u001b[37m\u001b[0m \u001b[1m5s\u001b[0m 3ms/step - loss: 83.0324 - mae: 6.0052 - mse: 83.0324\n",
      "Epoch 7/30\n",
      "\u001b[1m1851/1851\u001b[0m \u001b[32m━━━━━━━━━━━━━━━━━━━━\u001b[0m\u001b[37m\u001b[0m \u001b[1m5s\u001b[0m 3ms/step - loss: 82.7908 - mae: 5.9813 - mse: 82.7908\n",
      "Epoch 8/30\n",
      "\u001b[1m1851/1851\u001b[0m \u001b[32m━━━━━━━━━━━━━━━━━━━━\u001b[0m\u001b[37m\u001b[0m \u001b[1m5s\u001b[0m 3ms/step - loss: 82.5961 - mae: 5.9973 - mse: 82.5961\n",
      "Epoch 9/30\n",
      "\u001b[1m1851/1851\u001b[0m \u001b[32m━━━━━━━━━━━━━━━━━━━━\u001b[0m\u001b[37m\u001b[0m \u001b[1m6s\u001b[0m 3ms/step - loss: 83.0411 - mae: 6.0065 - mse: 83.0411\n",
      "Epoch 10/30\n",
      "\u001b[1m1851/1851\u001b[0m \u001b[32m━━━━━━━━━━━━━━━━━━━━\u001b[0m\u001b[37m\u001b[0m \u001b[1m5s\u001b[0m 3ms/step - loss: 84.6191 - mae: 6.0626 - mse: 84.6191\n",
      "Epoch 11/30\n",
      "\u001b[1m1851/1851\u001b[0m \u001b[32m━━━━━━━━━━━━━━━━━━━━\u001b[0m\u001b[37m\u001b[0m \u001b[1m6s\u001b[0m 3ms/step - loss: 81.5561 - mae: 5.9741 - mse: 81.5561\n",
      "Epoch 12/30\n",
      "\u001b[1m1851/1851\u001b[0m \u001b[32m━━━━━━━━━━━━━━━━━━━━\u001b[0m\u001b[37m\u001b[0m \u001b[1m5s\u001b[0m 3ms/step - loss: 82.2040 - mae: 5.9809 - mse: 82.2040\n",
      "Epoch 13/30\n",
      "\u001b[1m1851/1851\u001b[0m \u001b[32m━━━━━━━━━━━━━━━━━━━━\u001b[0m\u001b[37m\u001b[0m \u001b[1m6s\u001b[0m 3ms/step - loss: 81.7864 - mae: 5.9689 - mse: 81.7864\n",
      "Epoch 14/30\n",
      "\u001b[1m1851/1851\u001b[0m \u001b[32m━━━━━━━━━━━━━━━━━━━━\u001b[0m\u001b[37m\u001b[0m \u001b[1m5s\u001b[0m 3ms/step - loss: 82.0916 - mae: 5.9893 - mse: 82.0916\n",
      "Epoch 15/30\n",
      "\u001b[1m1851/1851\u001b[0m \u001b[32m━━━━━━━━━━━━━━━━━━━━\u001b[0m\u001b[37m\u001b[0m \u001b[1m5s\u001b[0m 3ms/step - loss: 82.0928 - mae: 5.9913 - mse: 82.0928\n",
      "Epoch 16/30\n",
      "\u001b[1m1851/1851\u001b[0m \u001b[32m━━━━━━━━━━━━━━━━━━━━\u001b[0m\u001b[37m\u001b[0m \u001b[1m5s\u001b[0m 3ms/step - loss: 82.2489 - mae: 6.0024 - mse: 82.2489\n",
      "Epoch 17/30\n",
      "\u001b[1m1851/1851\u001b[0m \u001b[32m━━━━━━━━━━━━━━━━━━━━\u001b[0m\u001b[37m\u001b[0m \u001b[1m5s\u001b[0m 3ms/step - loss: 82.4726 - mae: 6.0029 - mse: 82.4726\n",
      "Epoch 18/30\n",
      "\u001b[1m1851/1851\u001b[0m \u001b[32m━━━━━━━━━━━━━━━━━━━━\u001b[0m\u001b[37m\u001b[0m \u001b[1m5s\u001b[0m 3ms/step - loss: 82.5379 - mae: 5.9993 - mse: 82.5379\n",
      "Epoch 19/30\n",
      "\u001b[1m1851/1851\u001b[0m \u001b[32m━━━━━━━━━━━━━━━━━━━━\u001b[0m\u001b[37m\u001b[0m \u001b[1m5s\u001b[0m 3ms/step - loss: 81.3674 - mae: 5.9709 - mse: 81.3674\n",
      "Epoch 20/30\n",
      "\u001b[1m1851/1851\u001b[0m \u001b[32m━━━━━━━━━━━━━━━━━━━━\u001b[0m\u001b[37m\u001b[0m \u001b[1m5s\u001b[0m 3ms/step - loss: 82.2069 - mae: 5.9951 - mse: 82.2069\n",
      "Epoch 21/30\n",
      "\u001b[1m1851/1851\u001b[0m \u001b[32m━━━━━━━━━━━━━━━━━━━━\u001b[0m\u001b[37m\u001b[0m \u001b[1m5s\u001b[0m 3ms/step - loss: 82.7395 - mae: 6.0165 - mse: 82.7395\n",
      "Epoch 22/30\n",
      "\u001b[1m1851/1851\u001b[0m \u001b[32m━━━━━━━━━━━━━━━━━━━━\u001b[0m\u001b[37m\u001b[0m \u001b[1m5s\u001b[0m 3ms/step - loss: 81.9771 - mae: 5.9942 - mse: 81.9771\n",
      "Epoch 23/30\n",
      "\u001b[1m1851/1851\u001b[0m \u001b[32m━━━━━━━━━━━━━━━━━━━━\u001b[0m\u001b[37m\u001b[0m \u001b[1m5s\u001b[0m 3ms/step - loss: 82.9129 - mae: 6.0110 - mse: 82.9129\n",
      "Epoch 24/30\n",
      "\u001b[1m1851/1851\u001b[0m \u001b[32m━━━━━━━━━━━━━━━━━━━━\u001b[0m\u001b[37m\u001b[0m \u001b[1m5s\u001b[0m 3ms/step - loss: 82.5409 - mae: 6.0087 - mse: 82.5409\n",
      "Epoch 25/30\n",
      "\u001b[1m1851/1851\u001b[0m \u001b[32m━━━━━━━━━━━━━━━━━━━━\u001b[0m\u001b[37m\u001b[0m \u001b[1m5s\u001b[0m 3ms/step - loss: 81.8424 - mae: 5.9754 - mse: 81.8424\n",
      "Epoch 26/30\n",
      "\u001b[1m1851/1851\u001b[0m \u001b[32m━━━━━━━━━━━━━━━━━━━━\u001b[0m\u001b[37m\u001b[0m \u001b[1m5s\u001b[0m 3ms/step - loss: 81.5292 - mae: 5.9609 - mse: 81.5292\n",
      "Epoch 27/30\n",
      "\u001b[1m1851/1851\u001b[0m \u001b[32m━━━━━━━━━━━━━━━━━━━━\u001b[0m\u001b[37m\u001b[0m \u001b[1m5s\u001b[0m 3ms/step - loss: 80.9865 - mae: 5.9717 - mse: 80.9865\n",
      "Epoch 28/30\n",
      "\u001b[1m1851/1851\u001b[0m \u001b[32m━━━━━━━━━━━━━━━━━━━━\u001b[0m\u001b[37m\u001b[0m \u001b[1m5s\u001b[0m 3ms/step - loss: 80.7689 - mae: 5.9414 - mse: 80.7689\n",
      "Epoch 29/30\n",
      "\u001b[1m1851/1851\u001b[0m \u001b[32m━━━━━━━━━━━━━━━━━━━━\u001b[0m\u001b[37m\u001b[0m \u001b[1m5s\u001b[0m 3ms/step - loss: 82.3003 - mae: 6.0061 - mse: 82.3003\n",
      "Epoch 30/30\n",
      "\u001b[1m1851/1851\u001b[0m \u001b[32m━━━━━━━━━━━━━━━━━━━━\u001b[0m\u001b[37m\u001b[0m \u001b[1m5s\u001b[0m 3ms/step - loss: 81.1261 - mae: 5.9754 - mse: 81.1261\n"
     ]
    }
   ],
   "source": [
    "# final_model = build_model(filters=best_test_params['filters'],\n",
    "#                          kernel_size=best_test_params['kernel_size'],\n",
    "#                          pool_size=best_test_params['pool_size'],\n",
    "#                          dense_units=best_test_params['dense_units']\n",
    "#                          )\n",
    "final_model = build_model(filters=32,\n",
    "                         kernel_size=5,\n",
    "                         pool_size=3,\n",
    "                         dense_units=128\n",
    "                         )\n",
    "history = model.fit([X_train_time, X_train_static], y_train_delta, epochs=30, batch_size=32, verbose=1)"
   ]
  },
  {
   "cell_type": "code",
   "execution_count": 61,
   "metadata": {},
   "outputs": [
    {
     "data": {
      "text/plain": [
       "12.112507785286779"
      ]
     },
     "execution_count": 61,
     "metadata": {},
     "output_type": "execute_result"
    }
   ],
   "source": [
    "y_pred = model.predict([X_test_time, X_test_static], verbose=0)\n",
    "mean_squared_error(y_test_delta, y_pred)**0.5"
   ]
  },
  {
   "cell_type": "code",
   "execution_count": 62,
   "metadata": {},
   "outputs": [
    {
     "data": {
      "text/plain": [
       "7.6742844581604"
      ]
     },
     "execution_count": 62,
     "metadata": {},
     "output_type": "execute_result"
    }
   ],
   "source": [
    "mean_absolute_error(y_test_delta, y_pred)"
   ]
  },
  {
   "cell_type": "markdown",
   "metadata": {},
   "source": [
    "Future Plans\n",
    "- Dropout layers to prevent overfitting but use high batch sizes"
   ]
  }
 ],
 "metadata": {
  "kernelspec": {
   "display_name": "dev",
   "language": "python",
   "name": "python3"
  },
  "language_info": {
   "codemirror_mode": {
    "name": "ipython",
    "version": 3
   },
   "file_extension": ".py",
   "mimetype": "text/x-python",
   "name": "python",
   "nbconvert_exporter": "python",
   "pygments_lexer": "ipython3",
   "version": "3.11.11"
  },
  "orig_nbformat": 4
 },
 "nbformat": 4,
 "nbformat_minor": 2
}
