{
 "cells": [
  {
   "attachments": {},
   "cell_type": "markdown",
   "metadata": {},
   "source": [
    "# Load libraries"
   ]
  },
  {
   "cell_type": "code",
   "execution_count": 1,
   "metadata": {},
   "outputs": [],
   "source": [
    "# load pandas and numpy\n",
    "import pandas as pd\n",
    "import numpy as np\n",
    "import re\n",
    "import os\n",
    "import sys"
   ]
  },
  {
   "attachments": {},
   "cell_type": "markdown",
   "metadata": {},
   "source": [
    "# Read and create table for no-covariates models"
   ]
  },
  {
   "cell_type": "code",
   "execution_count": 2,
   "metadata": {},
   "outputs": [],
   "source": [
    "models = ['arima', 'nhits', 'tft', 'linreg', 'xgboost', 'transformer']\n",
    "datasets = ['weinstock', 'dubosson', 'colas', 'iglu', 'hall']\n",
    "time_steps = 12\n",
    "\n",
    "# create dataframes for MSE and MAE with columns for each dataset and rows for each model\n",
    "df_mse = pd.DataFrame(columns=[dataset + ' ID' for dataset in datasets] + \n",
    "                      [dataset + ' OOD' for dataset in datasets], index=models)\n",
    "df_mae = pd.DataFrame(columns=[dataset + ' ID' for dataset in datasets] +\n",
    "                        [dataset + ' OOD' for dataset in datasets], index=models)\n",
    "df_likelihood = pd.DataFrame(columns=[dataset + ' ID' for dataset in datasets] +\n",
    "                        [dataset + ' OOD' for dataset in datasets], index=models[1:]) # no likelihood for ARIMA\n",
    "df_calibration = pd.DataFrame(columns=[dataset + ' ID' for dataset in datasets] +\n",
    "                        [dataset + ' OOD' for dataset in datasets], index=models[1:]) # no calibration for ARIMA\n",
    "for model in models:\n",
    "    for dataset in datasets:\n",
    "        filename = f\"../output/{model}_{dataset}.txt\"\n",
    "        if not os.path.isfile(filename):\n",
    "            continue\n",
    "        with open(filename, 'r') as f:\n",
    "            for line in f:\n",
    "                if line.startswith('ID median of (MSE, MAE):'):\n",
    "                    id_mse_mae = re.findall(r'\\d+\\.\\d+', line)\n",
    "                    df_mse.loc[model, dataset + ' ID'] = float(id_mse_mae[0])\n",
    "                    df_mae.loc[model, dataset + ' ID'] = float(id_mse_mae[1])\n",
    "                elif line.startswith('OOD median of (MSE, MAE):'):\n",
    "                    ood_mse_mae = re.findall(r'\\d+\\.\\d+', line)\n",
    "                    df_mse.loc[model, dataset + ' OOD'] = float(ood_mse_mae[0])\n",
    "                    df_mae.loc[model, dataset + ' OOD'] = float(ood_mse_mae[1])\n",
    "                elif line.startswith('ID likelihoods:'):\n",
    "                    id_likelihoods = re.findall(r'-?\\d+\\.\\d+', line)\n",
    "                    df_likelihood.loc[model, dataset + ' ID'] = float(id_likelihoods[0])\n",
    "                elif line.startswith('OOD likelihoods:'):\n",
    "                    ood_likelihoods = re.findall(r'-?\\d+\\.\\d+', line)\n",
    "                    df_likelihood.loc[model, dataset + ' OOD'] = float(ood_likelihoods[0])\n",
    "                elif line.startswith('ID calibration errors:'):\n",
    "                    id_calib = re.findall(r'-?\\d+\\.\\d+', line)\n",
    "                    id_calib = np.mean([float(x) for x in id_calib[:time_steps]])\n",
    "                    df_calibration.loc[model, dataset + ' ID'] = id_calib\n",
    "                elif line.startswith('OOD calibration errors:'):\n",
    "                    ood_calib = re.findall(r'-?\\d+\\.\\d+', line)\n",
    "                    ood_calib = np.mean([float(x) for x in ood_calib[:time_steps]])\n",
    "                    df_calibration.loc[model, dataset + ' OOD'] = ood_calib\n",
    "# sort columns for all dataframes\n",
    "df_mse = df_mse.reindex(sorted(df_mse.columns), axis=1)\n",
    "df_mae = df_mae.reindex(sorted(df_mae.columns), axis=1)\n",
    "df_likelihood = df_likelihood.reindex(sorted(df_likelihood.columns), axis=1)\n",
    "df_calibration = df_calibration.reindex(sorted(df_calibration.columns), axis=1)\n"
   ]
  },
  {
   "cell_type": "code",
   "execution_count": 3,
   "metadata": {},
   "outputs": [],
   "source": [
    "df_wocov_mse = df_mse\n",
    "df_wocov_mae = df_mae\n",
    "df_wocov_likelihood = df_likelihood\n",
    "df_wocov_calibration = df_calibration"
   ]
  },
  {
   "attachments": {},
   "cell_type": "markdown",
   "metadata": {},
   "source": [
    "# Read and create table for with-covariates models"
   ]
  },
  {
   "cell_type": "code",
   "execution_count": 4,
   "metadata": {},
   "outputs": [],
   "source": [
    "models = ['nhits', 'tft', 'linreg', 'xgboost', 'transformer']\n",
    "datasets = ['weinstock', 'dubosson', 'colas', 'iglu', 'hall']\n",
    "time_steps = 12\n",
    "\n",
    "# create dataframes for MSE and MAE with columns for each dataset and rows for each model\n",
    "df_mse = pd.DataFrame(columns=[dataset + ' ID' for dataset in datasets] + \n",
    "                      [dataset + ' OOD' for dataset in datasets], index=models)\n",
    "df_mae = pd.DataFrame(columns=[dataset + ' ID' for dataset in datasets] +\n",
    "                        [dataset + ' OOD' for dataset in datasets], index=models)\n",
    "df_likelihood = pd.DataFrame(columns=[dataset + ' ID' for dataset in datasets] +\n",
    "                        [dataset + ' OOD' for dataset in datasets], index=models)\n",
    "df_calibration = pd.DataFrame(columns=[dataset + ' ID' for dataset in datasets] +\n",
    "                        [dataset + ' OOD' for dataset in datasets], index=models)\n",
    "for model in models:\n",
    "    for dataset in datasets:\n",
    "        filename = f\"../output/{model}_covariates_{dataset}.txt\"\n",
    "        if not os.path.isfile(filename):\n",
    "            continue\n",
    "        with open(filename, 'r') as f:\n",
    "            for line in f:\n",
    "                if line.startswith('ID median of (MSE, MAE):'):\n",
    "                    id_mse_mae = re.findall(r'\\d+\\.\\d+', line)\n",
    "                    df_mse.loc[model, dataset + ' ID'] = float(id_mse_mae[0])\n",
    "                    df_mae.loc[model, dataset + ' ID'] = float(id_mse_mae[1])\n",
    "                elif line.startswith('OOD median of (MSE, MAE):'):\n",
    "                    ood_mse_mae = re.findall(r'\\d+\\.\\d+', line)\n",
    "                    df_mse.loc[model, dataset + ' OOD'] = float(ood_mse_mae[0])\n",
    "                    df_mae.loc[model, dataset + ' OOD'] = float(ood_mse_mae[1])\n",
    "                elif line.startswith('ID likelihoods:'):\n",
    "                    id_likelihoods = re.findall(r'-?\\d+\\.\\d+', line)\n",
    "                    df_likelihood.loc[model, dataset + ' ID'] = float(id_likelihoods[0])\n",
    "                elif line.startswith('OOD likelihoods:'):\n",
    "                    ood_likelihoods = re.findall(r'-?\\d+\\.\\d+', line)\n",
    "                    df_likelihood.loc[model, dataset + ' OOD'] = float(ood_likelihoods[0])\n",
    "                elif line.startswith('ID calibration errors:'):\n",
    "                    id_calib = re.findall(r'-?\\d+\\.\\d+', line)\n",
    "                    id_calib = np.mean([float(x) for x in id_calib[:time_steps]])\n",
    "                    df_calibration.loc[model, dataset + ' ID'] = id_calib\n",
    "                elif line.startswith('OOD calibration errors:'):\n",
    "                    ood_calib = re.findall(r'-?\\d+\\.\\d+', line)\n",
    "                    ood_calib = np.mean([float(x) for x in ood_calib[:time_steps]])\n",
    "                    df_calibration.loc[model, dataset + ' OOD'] = ood_calib\n",
    "# sort columns for all dataframes\n",
    "df_mse = df_mse.reindex(sorted(df_mse.columns), axis=1)\n",
    "df_mae = df_mae.reindex(sorted(df_mae.columns), axis=1)\n",
    "df_likelihood = df_likelihood.reindex(sorted(df_likelihood.columns), axis=1)\n",
    "df_calibration = df_calibration.reindex(sorted(df_calibration.columns), axis=1)"
   ]
  },
  {
   "cell_type": "code",
   "execution_count": 5,
   "metadata": {},
   "outputs": [],
   "source": [
    "df_cov_mse = df_mse\n",
    "df_cov_mae = df_mae\n",
    "df_cov_likelihood = df_likelihood\n",
    "df_cov_calibration = df_calibration"
   ]
  },
  {
   "attachments": {},
   "cell_type": "markdown",
   "metadata": {},
   "source": [
    "# Table 5: Accuracy"
   ]
  },
  {
   "cell_type": "code",
   "execution_count": 6,
   "metadata": {},
   "outputs": [],
   "source": [
    "# rename iglu to Broll\n",
    "df_cov_mse = df_cov_mse.rename(columns={'iglu ID': 'Broll ID', 'iglu OOD': 'Broll OOD'})\n",
    "df_cov_mae = df_cov_mae.rename(columns={'iglu ID': 'Broll ID', 'iglu OOD': 'Broll OOD'})\n",
    "df_wocov_mse = df_wocov_mse.rename(columns={'iglu ID': 'Broll ID', 'iglu OOD': 'Broll OOD'})\n",
    "df_wocov_mae = df_wocov_mae.rename(columns={'iglu ID': 'Broll ID', 'iglu OOD': 'Broll OOD'})\n",
    "# sort columns for all dataframes\n",
    "df_cov_mse = df_cov_mse.reindex(sorted(df_cov_mse.columns), axis=1)\n",
    "df_cov_mae = df_cov_mae.reindex(sorted(df_cov_mae.columns), axis=1)\n",
    "df_wocov_mse = df_wocov_mse.reindex(sorted(df_wocov_mse.columns), axis=1)\n",
    "df_wocov_mae = df_wocov_mae.reindex(sorted(df_wocov_mae.columns), axis=1)\n",
    "# convert mase and mse dataframes to float\n",
    "df_cov_mse = df_cov_mse.astype(float)\n",
    "df_cov_mae = df_cov_mae.astype(float)\n",
    "df_wocov_mse = df_wocov_mse.astype(float)\n",
    "df_wocov_mae = df_wocov_mae.astype(float)\n",
    "# take square root of all values in the MSE dataframes\n",
    "df_cov_mse = np.sqrt(df_cov_mse)\n",
    "df_wocov_mse = np.sqrt(df_wocov_mse)\n",
    "# get only columns that end with ID\n",
    "id_cols = [col for col in df_wocov_mse.columns if col.endswith('ID')]\n",
    "# get only columns that end with OOD\n",
    "ood_cols = [col for col in df_wocov_mse.columns if col.endswith('OOD')]"
   ]
  },
  {
   "cell_type": "code",
   "execution_count": 7,
   "metadata": {},
   "outputs": [
    {
     "name": "stdout",
     "output_type": "stream",
     "text": [
      "arima\n",
      "linreg\n",
      "& \\multicolumn{2}{c}{\\textcolor{red}{+82.7\\%}}\n",
      "& \\multicolumn{2}{c}{\\textcolor{red}{+3.8\\%}}\n",
      "& \\multicolumn{2}{c}{\\textcolor{red}{+930929.99\\%}}\n",
      "& \\multicolumn{2}{c}{\\textcolor{red}{+66.07\\%}}\n",
      "& \\multicolumn{2}{c}{\\textcolor{red}{+0.54\\%}}\n",
      "nhits\n",
      "& \\multicolumn{2}{c}{\\textcolor{red}{+8.35\\%}}\n",
      "& \\multicolumn{2}{c}{\\textcolor{red}{+35.49\\%}}\n",
      "& \\multicolumn{2}{c}{\\textcolor{red}{+110.09\\%}}\n",
      "& \\multicolumn{2}{c}{\\textcolor{red}{+12.34\\%}}\n",
      "& \\multicolumn{2}{c}{\\textcolor{blue}{-0.91\\%}}\n",
      "tft\n",
      "& \\multicolumn{2}{c}{\\textcolor{red}{+7.91\\%}}\n",
      "& \\multicolumn{2}{c}{\\textcolor{red}{+4.84\\%}}\n",
      "& \\multicolumn{2}{c}{\\textcolor{blue}{-1.22\\%}}\n",
      "& \\multicolumn{2}{c}{\\textcolor{red}{+10.01\\%}}\n",
      "& \\multicolumn{2}{c}{\\textcolor{red}{+1.41\\%}}\n",
      "transformer\n",
      "& \\multicolumn{2}{c}{\\textcolor{blue}{-1.59\\%}}\n",
      "& \\multicolumn{2}{c}{\\textcolor{red}{+23.61\\%}}\n",
      "& \\multicolumn{2}{c}{\\textcolor{red}{+117.27\\%}}\n",
      "& \\multicolumn{2}{c}{\\textcolor{blue}{-10.23\\%}}\n",
      "& \\multicolumn{2}{c}{\\textcolor{red}{+12.14\\%}}\n",
      "xgboost\n",
      "& \\multicolumn{2}{c}{\\textcolor{blue}{-1.37\\%}}\n",
      "& \\multicolumn{2}{c}{\\textcolor{red}{+2.91\\%}}\n",
      "& \\multicolumn{2}{c}{\\textcolor{blue}{-0.26\\%}}\n",
      "& \\multicolumn{2}{c}{\\textcolor{red}{+9.25\\%}}\n",
      "& \\multicolumn{2}{c}{\\textcolor{red}{+2.09\\%}}\n"
     ]
    }
   ],
   "source": [
    "# calculate differene between with and without covs\n",
    "diff_mse = (df_cov_mse - df_wocov_mse) / df_wocov_mse * 100\n",
    "diff_mae = (df_cov_mae - df_wocov_mae) / df_wocov_mae * 100\n",
    "diff_avg = (diff_mae + diff_mse) / 2\n",
    "\n",
    "# print diff_avg for ID and OOD and round to 2 decimals\n",
    "models = diff_avg.index\n",
    "for model in models:\n",
    "    print(model)\n",
    "    for num in diff_avg.loc[model, ood_cols].round(2):\n",
    "        # if num > 0, then prepend '\\textcolor{red}{+' and append '}' to num\n",
    "        if num > 0:\n",
    "            out = r'& \\multicolumn{2}{c}{\\textcolor{red}{+' + str(num) + '\\%}}'\n",
    "            print(out)\n",
    "        # if num < 0, then prepend '\\textcolor{blue}{' and append '}' to num\n",
    "        elif num < 0:\n",
    "            out = r'& \\multicolumn{2}{c}{\\textcolor{blue}{' + str(num) + '\\%}}'\n",
    "            print(out)"
   ]
  },
  {
   "cell_type": "code",
   "execution_count": 11,
   "metadata": {},
   "outputs": [
    {
     "name": "stdout",
     "output_type": "stream",
     "text": [
      "arima\n",
      "& \\multicolumn{2}{c}{\\textcolor{blue}{nan\\%}}\n",
      "& \\multicolumn{2}{c}{\\textcolor{blue}{nan\\%}}\n",
      "& \\multicolumn{2}{c}{\\textcolor{blue}{nan\\%}}\n",
      "& \\multicolumn{2}{c}{\\textcolor{blue}{nan\\%}}\n",
      "& \\multicolumn{2}{c}{\\textcolor{blue}{nan\\%}}\n",
      "linreg\n",
      "& \\multicolumn{2}{c}{\\textcolor{red}{+1.9\\%}}\n",
      "& \\multicolumn{2}{c}{\\textcolor{blue}{-0.45\\%}}\n",
      "& \\multicolumn{2}{c}{\\textcolor{red}{+24.71\\%}}\n",
      "& \\multicolumn{2}{c}{\\textcolor{red}{+5.52\\%}}\n",
      "& \\multicolumn{2}{c}{\\textcolor{red}{+14.36\\%}}\n",
      "nhits\n",
      "& \\multicolumn{2}{c}{\\textcolor{blue}{-3.8\\%}}\n",
      "& \\multicolumn{2}{c}{\\textcolor{blue}{-17.01\\%}}\n",
      "& \\multicolumn{2}{c}{\\textcolor{red}{+4.86\\%}}\n",
      "& \\multicolumn{2}{c}{\\textcolor{red}{+0.78\\%}}\n",
      "& \\multicolumn{2}{c}{\\textcolor{red}{+7.29\\%}}\n",
      "tft\n",
      "& \\multicolumn{2}{c}{\\textcolor{blue}{-9.91\\%}}\n",
      "& \\multicolumn{2}{c}{\\textcolor{blue}{-11.11\\%}}\n",
      "& \\multicolumn{2}{c}{\\textcolor{blue}{-6.84\\%}}\n",
      "& \\multicolumn{2}{c}{\\textcolor{red}{+2.41\\%}}\n",
      "& \\multicolumn{2}{c}{\\textcolor{red}{+3.18\\%}}\n",
      "transformer\n",
      "& \\multicolumn{2}{c}{\\textcolor{blue}{-7.06\\%}}\n",
      "& \\multicolumn{2}{c}{\\textcolor{blue}{-14.62\\%}}\n",
      "& \\multicolumn{2}{c}{\\textcolor{blue}{-6.52\\%}}\n",
      "& \\multicolumn{2}{c}{\\textcolor{blue}{-1.57\\%}}\n",
      "& \\multicolumn{2}{c}{\\textcolor{red}{+6.58\\%}}\n",
      "xgboost\n",
      "& \\multicolumn{2}{c}{\\textcolor{blue}{-29.14\\%}}\n",
      "& \\multicolumn{2}{c}{\\textcolor{blue}{-3.47\\%}}\n",
      "& \\multicolumn{2}{c}{\\textcolor{blue}{-18.11\\%}}\n",
      "& \\multicolumn{2}{c}{\\textcolor{blue}{-0.84\\%}}\n",
      "& \\multicolumn{2}{c}{\\textcolor{red}{+12.51\\%}}\n"
     ]
    }
   ],
   "source": [
    "diff_mse_id_ood = pd.DataFrame()\n",
    "diff_mae_id_ood = pd.DataFrame()\n",
    "pairs = []\n",
    "for col in diff_mse.columns:\n",
    "    if col.endswith('ID'):\n",
    "        pair = (col, col[:-3] + ' OOD')\n",
    "        pairs.append(pair)\n",
    "for pair in pairs:\n",
    "    col_name = pair[0] + '_' + pair[1]\n",
    "    diff_cov_mse_id_ood = (df_cov_mse[pair[1]] - df_cov_mse[pair[0]]) / df_cov_mse[pair[0]] * 100\n",
    "    diff_wocov_mse_id_ood = (df_wocov_mse[pair[1]] - df_wocov_mse[pair[0]]) / df_wocov_mse[pair[0]] * 100\n",
    "    diff_mse_id_ood[col_name] = np.minimum(diff_cov_mse_id_ood, diff_wocov_mse_id_ood)\n",
    "    diff_cov_mae_id_ood = (df_cov_mae[pair[1]] - df_cov_mae[pair[0]]) / df_cov_mae[pair[0]] * 100\n",
    "    diff_wocov_mae_id_ood = (df_wocov_mae[pair[1]] - df_wocov_mae[pair[0]]) / df_wocov_mae[pair[0]] * 100\n",
    "    diff_mae_id_ood[col_name] = np.minimum(diff_cov_mae_id_ood, diff_wocov_mae_id_ood)\n",
    "for model in models:\n",
    "    print(model)\n",
    "    for mse, mae in zip(diff_mse_id_ood.loc[model], \n",
    "                        diff_mae_id_ood.loc[model]):\n",
    "        avg = float((mse + mae) / 2)\n",
    "        # round avg to 2 decimals\n",
    "        avg = round(avg, 2)\n",
    "        if avg > 0:\n",
    "            out = r'& \\multicolumn{2}{c}{\\textcolor{red}{+' + str(avg) + '\\%}}'\n",
    "            print(out)\n",
    "        else:\n",
    "            out = r'& \\multicolumn{2}{c}{\\textcolor{blue}{' + str(avg) + '\\%}}'\n",
    "            print(out)"
   ]
  },
  {
   "attachments": {},
   "cell_type": "markdown",
   "metadata": {},
   "source": [
    "# Clearing the results"
   ]
  },
  {
   "cell_type": "code",
   "execution_count": null,
   "metadata": {},
   "outputs": [],
   "source": [
    "import os\n",
    "\n",
    "# Set the directory path to the folder containing the output files\n",
    "folder_path = './output'\n",
    "\n",
    "# Loop through each file in the folder\n",
    "for filename in os.listdir(folder_path):\n",
    "    file_path = os.path.join(folder_path, filename)\n",
    "    # Open the file in read mode if the file starts with transformer\n",
    "    if filename.startswith('transformer') or \\\n",
    "            filename.startswith('tft') or \\\n",
    "                filename.startswith('linreg') or \\\n",
    "                    filename.startswith('xgboost') or \\\n",
    "                        filename.startswith('nhits'):\n",
    "        with open(file_path, 'r') as f:\n",
    "            lines = f.readlines()\n",
    "            \n",
    "        # Loop through the lines in reverse order\n",
    "        for i in range(len(lines)-1, -1, -1):\n",
    "            if lines[i].startswith('Best value: '):\n",
    "                # Delete all lines after the line starting with \"Best value: \"\n",
    "                del lines[i+1:]\n",
    "                break\n",
    "        \n",
    "        # Open the file in write mode and write the modified lines back to the file\n",
    "        with open(file_path, 'w') as f:\n",
    "            f.writelines(lines)\n"
   ]
  }
 ],
 "metadata": {
  "kernelspec": {
   "display_name": "Python 3",
   "language": "python",
   "name": "python3"
  },
  "language_info": {
   "codemirror_mode": {
    "name": "ipython",
    "version": 3
   },
   "file_extension": ".py",
   "mimetype": "text/x-python",
   "name": "python",
   "nbconvert_exporter": "python",
   "pygments_lexer": "ipython3",
   "version": "3.10.6"
  },
  "orig_nbformat": 4,
  "vscode": {
   "interpreter": {
    "hash": "31f2aee4e71d21fbe5cf8b01ff0e069b9275f58929596ceb00d14d90e3e16cd6"
   }
  }
 },
 "nbformat": 4,
 "nbformat_minor": 2
}
