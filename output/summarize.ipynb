{
 "cells": [
  {
   "attachments": {},
   "cell_type": "markdown",
   "metadata": {},
   "source": [
    "# Load libraries"
   ]
  },
  {
   "cell_type": "code",
   "execution_count": 1,
   "metadata": {},
   "outputs": [],
   "source": [
    "# load pandas and numpy\n",
    "import pandas as pd\n",
    "import numpy as np\n",
    "import os\n",
    "import sys\n",
    "sys.path.insert(1, '..')\n",
    "os.chdir('..')"
   ]
  },
  {
   "attachments": {},
   "cell_type": "markdown",
   "metadata": {},
   "source": [
    "# Read and create table for no-covariates models"
   ]
  },
  {
   "cell_type": "code",
   "execution_count": 6,
   "metadata": {},
   "outputs": [],
   "source": [
    "# read in the txt files with the results\n",
    "models = ['nhits', 'tft', 'linreg', 'xgboost', 'transformer']\n",
    "datasets = ['weinstock', 'dubosson', 'colas', 'iglu', 'hall']\n",
    "results = {d:{} for d in [d + '_ID_RMSE' for d in datasets] + \n",
    "           [d + '_ID_MAE' for d in datasets] + \n",
    "           [d + '_OOD_RMSE' for d in datasets] + \n",
    "           [d + '_OOD_MAE' for d in datasets]}\n",
    "for model in models:\n",
    "    for dataset in datasets:\n",
    "        # read txt file\n",
    "        # find line starting with the 'Key: median RS ID (MSE, MAE) stats'\n",
    "        # in that line read in values after \"'mean': [array([\" and before \"'])], 'std'\"\n",
    "        # save them in a dictionary\n",
    "        with open(f'output/{model}_{dataset}.txt', 'r') as f:\n",
    "            for line in f:\n",
    "                if line[:34] == 'Key: median RS ID (MSE, MAE) stats':\n",
    "                    # split line\n",
    "                    line = line.split(\"'mean': [array([\")[1]\n",
    "                    line = line.split(\"])], 'std'\")[0]\n",
    "                    # read in 2 numbers \n",
    "                    line = line.split(', ')\n",
    "                    results[dataset + '_ID_RMSE'][model] = np.sqrt(float(line[0]))\n",
    "                    results[dataset + '_ID_MAE'][model] = float(line[1])\n",
    "                if line[:35] == 'Key: median RS OOD (MSE, MAE) stats':\n",
    "                    # split line\n",
    "                    line = line.split(\"'mean': [array([\")[1]\n",
    "                    line = line.split(\"])], 'std'\")[0]\n",
    "                    # read in 2 numbers \n",
    "                    line = line.split(', ')\n",
    "                    results[dataset + '_OOD_RMSE'][model] = np.sqrt(float(line[0]))\n",
    "                    results[dataset + '_OOD_MAE'][model] = float(line[1])\n",
    "                if line[:29] == 'RS ID (MSE, MAE) errors stats':\n",
    "                    # split line\n",
    "                    line = line.split(\"'median': array([[\")[1]\n",
    "                    line = line.split(\"]]), 'min'\")[0]\n",
    "                    # read in 2 numbers \n",
    "                    line = line.split(', ')\n",
    "                    results[dataset + '_ID_RMSE'][model] = np.sqrt(float(line[0]))\n",
    "                    results[dataset + '_ID_MAE'][model] = float(line[1])\n",
    "                if line[:30] == 'RS OOD (MSE, MAE) errors stats':\n",
    "                    # split line\n",
    "                    line = line.split(\"'median': array([[\")[1]\n",
    "                    line = line.split(\"]]), 'min'\")[0]\n",
    "                    # read in 2 numbers \n",
    "                    line = line.split(', ')\n",
    "                    results[dataset + '_OOD_RMSE'][model] = np.sqrt(float(line[0]))\n",
    "                    results[dataset + '_OOD_MAE'][model] = float(line[1])\n",
    "results = pd.DataFrame(results)"
   ]
  },
  {
   "cell_type": "code",
   "execution_count": 7,
   "metadata": {},
   "outputs": [
    {
     "data": {
      "text/html": [
       "<div>\n",
       "<style scoped>\n",
       "    .dataframe tbody tr th:only-of-type {\n",
       "        vertical-align: middle;\n",
       "    }\n",
       "\n",
       "    .dataframe tbody tr th {\n",
       "        vertical-align: top;\n",
       "    }\n",
       "\n",
       "    .dataframe thead th {\n",
       "        text-align: right;\n",
       "    }\n",
       "</style>\n",
       "<table border=\"1\" class=\"dataframe\">\n",
       "  <thead>\n",
       "    <tr style=\"text-align: right;\">\n",
       "      <th></th>\n",
       "      <th>hall_ID_RMSE</th>\n",
       "      <th>hall_ID_MAE</th>\n",
       "      <th>hall_OOD_RMSE</th>\n",
       "      <th>hall_OOD_MAE</th>\n",
       "    </tr>\n",
       "  </thead>\n",
       "  <tbody>\n",
       "    <tr>\n",
       "      <th>nhits</th>\n",
       "      <td>6.617095</td>\n",
       "      <td>5.794658</td>\n",
       "      <td>8.327687</td>\n",
       "      <td>7.162722</td>\n",
       "    </tr>\n",
       "    <tr>\n",
       "      <th>tft</th>\n",
       "      <td>10.698462</td>\n",
       "      <td>8.697720</td>\n",
       "      <td>11.623917</td>\n",
       "      <td>9.502617</td>\n",
       "    </tr>\n",
       "    <tr>\n",
       "      <th>linreg</th>\n",
       "      <td>6.222508</td>\n",
       "      <td>5.236052</td>\n",
       "      <td>7.319772</td>\n",
       "      <td>6.202425</td>\n",
       "    </tr>\n",
       "    <tr>\n",
       "      <th>xgboost</th>\n",
       "      <td>6.027002</td>\n",
       "      <td>5.178988</td>\n",
       "      <td>7.658983</td>\n",
       "      <td>6.694784</td>\n",
       "    </tr>\n",
       "    <tr>\n",
       "      <th>transformer</th>\n",
       "      <td>6.695598</td>\n",
       "      <td>5.670795</td>\n",
       "      <td>8.222221</td>\n",
       "      <td>6.790585</td>\n",
       "    </tr>\n",
       "  </tbody>\n",
       "</table>\n",
       "</div>"
      ],
      "text/plain": [
       "             hall_ID_RMSE  hall_ID_MAE  hall_OOD_RMSE  hall_OOD_MAE\n",
       "nhits            6.617095     5.794658       8.327687      7.162722\n",
       "tft             10.698462     8.697720      11.623917      9.502617\n",
       "linreg           6.222508     5.236052       7.319772      6.202425\n",
       "xgboost          6.027002     5.178988       7.658983      6.694784\n",
       "transformer      6.695598     5.670795       8.222221      6.790585"
      ]
     },
     "execution_count": 7,
     "metadata": {},
     "output_type": "execute_result"
    }
   ],
   "source": [
    "# select all columns with Hall data\n",
    "results_hall = results[[c for c in results.columns if 'hall' in c]]\n",
    "results_hall"
   ]
  },
  {
   "attachments": {},
   "cell_type": "markdown",
   "metadata": {},
   "source": [
    "# Read and create table for with-covariates models"
   ]
  },
  {
   "cell_type": "code",
   "execution_count": 2,
   "metadata": {},
   "outputs": [],
   "source": [
    "# read in the txt files with the results\n",
    "models = ['nhits_covariates', 'tft_covariates', 'linreg_covariates', 'xgboost_covariates', 'transformer_covariates']\n",
    "datasets = ['weinstock', 'dubosson', 'colas', 'iglu', 'hall']\n",
    "results = {d:{} for d in [d + '_ID_RMSE' for d in datasets] + \n",
    "           [d + '_ID_MAE' for d in datasets] + \n",
    "           [d + '_OOD_RMSE' for d in datasets] + \n",
    "           [d + '_OOD_MAE' for d in datasets]}\n",
    "for model in models:\n",
    "    for dataset in datasets:\n",
    "        # check if files exist\n",
    "        if not os.path.exists(f'output/{model}_{dataset}.txt'):\n",
    "            continue\n",
    "        # read txt file\n",
    "        # find line and the values, then save them in a dictionary\n",
    "        with open(f'output/{model}_{dataset}.txt', 'r') as f:\n",
    "            for line in f:\n",
    "                if line[:34] == 'Key: median RS ID (MSE, MAE) stats':\n",
    "                    # split line\n",
    "                    line = line.split(\"'mean': [array([\")[1]\n",
    "                    line = line.split(\"])], 'std'\")[0]\n",
    "                    # read in 2 numbers \n",
    "                    line = line.split(', ')\n",
    "                    results[dataset + '_ID_RMSE'][model] = np.sqrt(float(line[0]))\n",
    "                    results[dataset + '_ID_MAE'][model] = float(line[1])\n",
    "                if line[:35] == 'Key: median RS OOD (MSE, MAE) stats':\n",
    "                    # split line\n",
    "                    line = line.split(\"'mean': [array([\")[1]\n",
    "                    line = line.split(\"])], 'std'\")[0]\n",
    "                    # read in 2 numbers \n",
    "                    line = line.split(', ')\n",
    "                    results[dataset + '_OOD_RMSE'][model] = np.sqrt(float(line[0]))\n",
    "                    results[dataset + '_OOD_MAE'][model] = float(line[1])\n",
    "                if line[:29] == 'RS ID (MSE, MAE) errors stats':\n",
    "                    # split line\n",
    "                    line = line.split(\"'median': array([[\")[1]\n",
    "                    line = line.split(\"]]), 'min'\")[0]\n",
    "                    # read in 2 numbers \n",
    "                    line = line.split(', ')\n",
    "                    results[dataset + '_ID_RMSE'][model] = np.sqrt(float(line[0]))\n",
    "                    results[dataset + '_ID_MAE'][model] = float(line[1])\n",
    "                if line[:30] == 'RS OOD (MSE, MAE) errors stats':\n",
    "                    # split line\n",
    "                    line = line.split(\"'median': array([[\")[1]\n",
    "                    line = line.split(\"]]), 'min'\")[0]\n",
    "                    # read in 2 numbers \n",
    "                    line = line.split(', ')\n",
    "                    results[dataset + '_OOD_RMSE'][model] = np.sqrt(float(line[0]))\n",
    "                    results[dataset + '_OOD_MAE'][model] = float(line[1])\n",
    "results = pd.DataFrame(results)"
   ]
  },
  {
   "cell_type": "code",
   "execution_count": 8,
   "metadata": {},
   "outputs": [
    {
     "data": {
      "text/html": [
       "<div>\n",
       "<style scoped>\n",
       "    .dataframe tbody tr th:only-of-type {\n",
       "        vertical-align: middle;\n",
       "    }\n",
       "\n",
       "    .dataframe tbody tr th {\n",
       "        vertical-align: top;\n",
       "    }\n",
       "\n",
       "    .dataframe thead th {\n",
       "        text-align: right;\n",
       "    }\n",
       "</style>\n",
       "<table border=\"1\" class=\"dataframe\">\n",
       "  <thead>\n",
       "    <tr style=\"text-align: right;\">\n",
       "      <th></th>\n",
       "      <th>weinstock_ID_RMSE</th>\n",
       "      <th>weinstock_ID_MAE</th>\n",
       "      <th>weinstock_OOD_RMSE</th>\n",
       "      <th>weinstock_OOD_MAE</th>\n",
       "    </tr>\n",
       "  </thead>\n",
       "  <tbody>\n",
       "    <tr>\n",
       "      <th>nhits</th>\n",
       "      <td>14.982595</td>\n",
       "      <td>12.686479</td>\n",
       "      <td>15.338324</td>\n",
       "      <td>13.015024</td>\n",
       "    </tr>\n",
       "    <tr>\n",
       "      <th>tft</th>\n",
       "      <td>27.453884</td>\n",
       "      <td>20.490143</td>\n",
       "      <td>27.409369</td>\n",
       "      <td>20.433597</td>\n",
       "    </tr>\n",
       "    <tr>\n",
       "      <th>linreg</th>\n",
       "      <td>15.475566</td>\n",
       "      <td>13.032758</td>\n",
       "      <td>15.370515</td>\n",
       "      <td>12.938196</td>\n",
       "    </tr>\n",
       "    <tr>\n",
       "      <th>xgboost</th>\n",
       "      <td>15.748382</td>\n",
       "      <td>13.423946</td>\n",
       "      <td>15.744156</td>\n",
       "      <td>13.442318</td>\n",
       "    </tr>\n",
       "    <tr>\n",
       "      <th>transformer</th>\n",
       "      <td>14.382459</td>\n",
       "      <td>12.151109</td>\n",
       "      <td>14.257016</td>\n",
       "      <td>11.975372</td>\n",
       "    </tr>\n",
       "  </tbody>\n",
       "</table>\n",
       "</div>"
      ],
      "text/plain": [
       "             weinstock_ID_RMSE  weinstock_ID_MAE  weinstock_OOD_RMSE  \\\n",
       "nhits                14.982595         12.686479           15.338324   \n",
       "tft                  27.453884         20.490143           27.409369   \n",
       "linreg               15.475566         13.032758           15.370515   \n",
       "xgboost              15.748382         13.423946           15.744156   \n",
       "transformer          14.382459         12.151109           14.257016   \n",
       "\n",
       "             weinstock_OOD_MAE  \n",
       "nhits                13.015024  \n",
       "tft                  20.433597  \n",
       "linreg               12.938196  \n",
       "xgboost              13.442318  \n",
       "transformer          11.975372  "
      ]
     },
     "execution_count": 8,
     "metadata": {},
     "output_type": "execute_result"
    }
   ],
   "source": [
    "# select all columns with Hall data\n",
    "results_weinstock = results[[c for c in results.columns if 'weinstock' in c]]\n",
    "results_weinstock"
   ]
  },
  {
   "cell_type": "code",
   "execution_count": 24,
   "metadata": {},
   "outputs": [
    {
     "data": {
      "text/plain": [
       "106.0"
      ]
     },
     "execution_count": 24,
     "metadata": {},
     "output_type": "execute_result"
    }
   ],
   "source": [
    "float(' 106 ')"
   ]
  },
  {
   "cell_type": "code",
   "execution_count": null,
   "metadata": {},
   "outputs": [],
   "source": []
  }
 ],
 "metadata": {
  "kernelspec": {
   "display_name": "Python 3",
   "language": "python",
   "name": "python3"
  },
  "language_info": {
   "codemirror_mode": {
    "name": "ipython",
    "version": 3
   },
   "file_extension": ".py",
   "mimetype": "text/x-python",
   "name": "python",
   "nbconvert_exporter": "python",
   "pygments_lexer": "ipython3",
   "version": "3.6.9"
  },
  "orig_nbformat": 4,
  "vscode": {
   "interpreter": {
    "hash": "31f2aee4e71d21fbe5cf8b01ff0e069b9275f58929596ceb00d14d90e3e16cd6"
   }
  }
 },
 "nbformat": 4,
 "nbformat_minor": 2
}
